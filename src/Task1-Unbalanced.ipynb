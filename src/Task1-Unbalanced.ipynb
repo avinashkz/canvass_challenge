{
 "cells": [
  {
   "cell_type": "markdown",
   "metadata": {},
   "source": [
    "## Task 1\n",
    "`predictive_maintenance_dataset.csv` is a file that contains parameters and settings (`operational_setting_1`, `operational_setting_2`, `sensor_measurement_1`, `sensor_measurement_2`, etc.) for many wind turbines. There is a column called `unit_number` which specifies which turbine it is, and one called `status`, in which a value of 1 means the turbine broke down that day, and 0 means it didn't. Your task is to create a model that, when fed with operational settings and sensor measurements (`unit_number` and `time_stamp` will *not* be fed in), outputs 1 if the turbine will break down within the next 40 days, and 0 if not."
   ]
  },
  {
   "cell_type": "markdown",
   "metadata": {},
   "source": [
    "# Developing models for task 1 using unbalanced data"
   ]
  },
  {
   "cell_type": "code",
   "execution_count": 1,
   "metadata": {
    "collapsed": true
   },
   "outputs": [],
   "source": [
    "import numpy as np\n",
    "import pandas as pd\n",
    "import matplotlib.pyplot as plt"
   ]
  },
  {
   "cell_type": "code",
   "execution_count": 2,
   "metadata": {
    "collapsed": true
   },
   "outputs": [],
   "source": [
    "%matplotlib inline"
   ]
  },
  {
   "cell_type": "code",
   "execution_count": 3,
   "metadata": {
    "collapsed": true
   },
   "outputs": [],
   "source": [
    "# Data preprocessing\n",
    "from sklearn.preprocessing import Imputer\n",
    "from sklearn.model_selection import train_test_split"
   ]
  },
  {
   "cell_type": "code",
   "execution_count": 297,
   "metadata": {
    "collapsed": true
   },
   "outputs": [],
   "source": [
    "from sklearn import utils\n",
    "from sklearn import preprocessing\n",
    "# https://stackoverflow.com/questions/41925157/logisticregression-unknown-label-type-continuous-using-sklearn-in-python"
   ]
  },
  {
   "cell_type": "code",
   "execution_count": 4,
   "metadata": {
    "collapsed": true
   },
   "outputs": [],
   "source": [
    "# Balance the dataset\n",
    "from imblearn.over_sampling import SMOTE"
   ]
  },
  {
   "cell_type": "code",
   "execution_count": 6,
   "metadata": {
    "collapsed": true
   },
   "outputs": [],
   "source": [
    "# Evaluation metrics\n",
    "from sklearn.metrics import confusion_matrix, recall_score, roc_auc_score"
   ]
  },
  {
   "cell_type": "code",
   "execution_count": 7,
   "metadata": {
    "collapsed": true
   },
   "outputs": [],
   "source": [
    "# Classification models\n",
    "from xgboost import XGBClassifier\n",
    "from sklearn.linear_model import LogisticRegression, SGDClassifier\n",
    "from sklearn.ensemble import RandomForestClassifier\n",
    "from sklearn.ensemble import GradientBoostingClassifier"
   ]
  },
  {
   "cell_type": "code",
   "execution_count": 187,
   "metadata": {
    "collapsed": true
   },
   "outputs": [],
   "source": [
    "# Regression models for imputation\n",
    "from sklearn.ensemble import RandomForestRegressor"
   ]
  },
  {
   "cell_type": "code",
   "execution_count": 8,
   "metadata": {
    "collapsed": true
   },
   "outputs": [],
   "source": [
    "# Libraries for hyperparameter optimization\n",
    "from sklearn.model_selection import RandomizedSearchCV"
   ]
  },
  {
   "cell_type": "code",
   "execution_count": 9,
   "metadata": {
    "collapsed": true
   },
   "outputs": [],
   "source": [
    "# Libraries for feature selection\n",
    "from sklearn.ensemble import ExtraTreesClassifier\n",
    "from sklearn.pipeline import Pipeline\n",
    "from sklearn.feature_selection import SelectFromModel\n",
    "from sklearn.svm import LinearSVC"
   ]
  },
  {
   "cell_type": "code",
   "execution_count": 10,
   "metadata": {
    "collapsed": true
   },
   "outputs": [],
   "source": [
    "# To save the final model\n",
    "import _pickle as pickle"
   ]
  },
  {
   "cell_type": "code",
   "execution_count": 556,
   "metadata": {
    "collapsed": true
   },
   "outputs": [],
   "source": [
    "#Read data\n",
    "clf_data = pd.read_csv(\"../results/processed_data/predictive_maintenance_dataset_processed.csv\")"
   ]
  },
  {
   "cell_type": "code",
   "execution_count": 557,
   "metadata": {},
   "outputs": [
    {
     "data": {
      "text/plain": [
       "(144203, 27)"
      ]
     },
     "execution_count": 557,
     "metadata": {},
     "output_type": "execute_result"
    }
   ],
   "source": [
    "clf_data.shape"
   ]
  },
  {
   "cell_type": "code",
   "execution_count": 558,
   "metadata": {
    "scrolled": false
   },
   "outputs": [
    {
     "data": {
      "text/html": [
       "<div>\n",
       "<style>\n",
       "    .dataframe thead tr:only-child th {\n",
       "        text-align: right;\n",
       "    }\n",
       "\n",
       "    .dataframe thead th {\n",
       "        text-align: left;\n",
       "    }\n",
       "\n",
       "    .dataframe tbody tr th {\n",
       "        vertical-align: top;\n",
       "    }\n",
       "</style>\n",
       "<table border=\"1\" class=\"dataframe\">\n",
       "  <thead>\n",
       "    <tr style=\"text-align: right;\">\n",
       "      <th></th>\n",
       "      <th>unit_number</th>\n",
       "      <th>time_stamp</th>\n",
       "      <th>operational_setting_1</th>\n",
       "      <th>operational_setting_2</th>\n",
       "      <th>operational_setting_3</th>\n",
       "      <th>sensor_measurement_1</th>\n",
       "      <th>sensor_measurement_2</th>\n",
       "      <th>sensor_measurement_3</th>\n",
       "      <th>sensor_measurement_4</th>\n",
       "      <th>sensor_measurement_5</th>\n",
       "      <th>sensor_measurement_6</th>\n",
       "      <th>sensor_measurement_7</th>\n",
       "      <th>sensor_measurement_8</th>\n",
       "      <th>sensor_measurement_9</th>\n",
       "      <th>sensor_measurement_10</th>\n",
       "      <th>sensor_measurement_11</th>\n",
       "      <th>sensor_measurement_12</th>\n",
       "      <th>sensor_measurement_13</th>\n",
       "      <th>sensor_measurement_14</th>\n",
       "      <th>sensor_measurement_15</th>\n",
       "      <th>sensor_measurement_16</th>\n",
       "      <th>sensor_measurement_17</th>\n",
       "      <th>sensor_measurement_18</th>\n",
       "      <th>sensor_measurement_19</th>\n",
       "      <th>sensor_measurement_20</th>\n",
       "      <th>sensor_measurement_21</th>\n",
       "      <th>status</th>\n",
       "    </tr>\n",
       "  </thead>\n",
       "  <tbody>\n",
       "    <tr>\n",
       "      <th>0</th>\n",
       "      <td>540</td>\n",
       "      <td>2016-05-01T12:00:00Z</td>\n",
       "      <td>42.0033</td>\n",
       "      <td>0.8400</td>\n",
       "      <td>High</td>\n",
       "      <td>445.00</td>\n",
       "      <td>549.11</td>\n",
       "      <td>1345.86</td>\n",
       "      <td>1123.35</td>\n",
       "      <td>3.91</td>\n",
       "      <td>5.70</td>\n",
       "      <td>138.25</td>\n",
       "      <td>2211.97</td>\n",
       "      <td>8311.89</td>\n",
       "      <td>1.02</td>\n",
       "      <td>41.64</td>\n",
       "      <td>130.38</td>\n",
       "      <td>2387.98</td>\n",
       "      <td>8075.70</td>\n",
       "      <td>9.3392</td>\n",
       "      <td>0.02</td>\n",
       "      <td>327.0</td>\n",
       "      <td>2212.0</td>\n",
       "      <td>100.00</td>\n",
       "      <td>10.59</td>\n",
       "      <td>6.4311</td>\n",
       "      <td>0</td>\n",
       "    </tr>\n",
       "    <tr>\n",
       "      <th>1</th>\n",
       "      <td>540</td>\n",
       "      <td>2016-05-02T12:00:00Z</td>\n",
       "      <td>10.0049</td>\n",
       "      <td>0.2513</td>\n",
       "      <td>High</td>\n",
       "      <td>489.05</td>\n",
       "      <td>604.12</td>\n",
       "      <td>1497.52</td>\n",
       "      <td>1299.13</td>\n",
       "      <td>10.52</td>\n",
       "      <td>15.48</td>\n",
       "      <td>394.31</td>\n",
       "      <td>2318.80</td>\n",
       "      <td>8770.06</td>\n",
       "      <td>1.26</td>\n",
       "      <td>NaN</td>\n",
       "      <td>371.99</td>\n",
       "      <td>2387.94</td>\n",
       "      <td>8126.65</td>\n",
       "      <td>8.5735</td>\n",
       "      <td>0.03</td>\n",
       "      <td>367.0</td>\n",
       "      <td>2319.0</td>\n",
       "      <td>100.00</td>\n",
       "      <td>28.54</td>\n",
       "      <td>17.2279</td>\n",
       "      <td>0</td>\n",
       "    </tr>\n",
       "    <tr>\n",
       "      <th>2</th>\n",
       "      <td>540</td>\n",
       "      <td>2016-05-03T12:00:00Z</td>\n",
       "      <td>20.0026</td>\n",
       "      <td>0.7011</td>\n",
       "      <td>High</td>\n",
       "      <td>491.19</td>\n",
       "      <td>606.99</td>\n",
       "      <td>1480.01</td>\n",
       "      <td>NaN</td>\n",
       "      <td>9.35</td>\n",
       "      <td>13.63</td>\n",
       "      <td>334.63</td>\n",
       "      <td>2323.80</td>\n",
       "      <td>8717.69</td>\n",
       "      <td>1.07</td>\n",
       "      <td>44.05</td>\n",
       "      <td>314.99</td>\n",
       "      <td>2387.97</td>\n",
       "      <td>8061.05</td>\n",
       "      <td>9.1776</td>\n",
       "      <td>0.02</td>\n",
       "      <td>364.0</td>\n",
       "      <td>2324.0</td>\n",
       "      <td>100.00</td>\n",
       "      <td>24.40</td>\n",
       "      <td>14.7659</td>\n",
       "      <td>0</td>\n",
       "    </tr>\n",
       "    <tr>\n",
       "      <th>3</th>\n",
       "      <td>540</td>\n",
       "      <td>2016-05-04T12:00:00Z</td>\n",
       "      <td>42.0023</td>\n",
       "      <td>0.8409</td>\n",
       "      <td>High</td>\n",
       "      <td>445.00</td>\n",
       "      <td>549.09</td>\n",
       "      <td>1346.29</td>\n",
       "      <td>1119.90</td>\n",
       "      <td>3.91</td>\n",
       "      <td>5.70</td>\n",
       "      <td>138.10</td>\n",
       "      <td>2211.95</td>\n",
       "      <td>8314.82</td>\n",
       "      <td>1.02</td>\n",
       "      <td>41.74</td>\n",
       "      <td>130.64</td>\n",
       "      <td>2387.98</td>\n",
       "      <td>8080.58</td>\n",
       "      <td>9.3504</td>\n",
       "      <td>0.02</td>\n",
       "      <td>NaN</td>\n",
       "      <td>NaN</td>\n",
       "      <td>100.00</td>\n",
       "      <td>10.74</td>\n",
       "      <td>6.2972</td>\n",
       "      <td>0</td>\n",
       "    </tr>\n",
       "    <tr>\n",
       "      <th>4</th>\n",
       "      <td>540</td>\n",
       "      <td>2016-05-05T12:00:00Z</td>\n",
       "      <td>25.0031</td>\n",
       "      <td>0.6200</td>\n",
       "      <td>NaN</td>\n",
       "      <td>462.54</td>\n",
       "      <td>536.18</td>\n",
       "      <td>1260.24</td>\n",
       "      <td>1038.22</td>\n",
       "      <td>7.05</td>\n",
       "      <td>9.01</td>\n",
       "      <td>175.42</td>\n",
       "      <td>1915.27</td>\n",
       "      <td>8003.96</td>\n",
       "      <td>0.94</td>\n",
       "      <td>36.50</td>\n",
       "      <td>164.24</td>\n",
       "      <td>2028.22</td>\n",
       "      <td>7866.67</td>\n",
       "      <td>10.8344</td>\n",
       "      <td>0.02</td>\n",
       "      <td>307.0</td>\n",
       "      <td>1915.0</td>\n",
       "      <td>84.93</td>\n",
       "      <td>14.34</td>\n",
       "      <td>8.5780</td>\n",
       "      <td>0</td>\n",
       "    </tr>\n",
       "  </tbody>\n",
       "</table>\n",
       "</div>"
      ],
      "text/plain": [
       "   unit_number            time_stamp  operational_setting_1  \\\n",
       "0          540  2016-05-01T12:00:00Z                42.0033   \n",
       "1          540  2016-05-02T12:00:00Z                10.0049   \n",
       "2          540  2016-05-03T12:00:00Z                20.0026   \n",
       "3          540  2016-05-04T12:00:00Z                42.0023   \n",
       "4          540  2016-05-05T12:00:00Z                25.0031   \n",
       "\n",
       "   operational_setting_2 operational_setting_3  sensor_measurement_1  \\\n",
       "0                 0.8400                  High                445.00   \n",
       "1                 0.2513                  High                489.05   \n",
       "2                 0.7011                  High                491.19   \n",
       "3                 0.8409                  High                445.00   \n",
       "4                 0.6200                   NaN                462.54   \n",
       "\n",
       "   sensor_measurement_2  sensor_measurement_3  sensor_measurement_4  \\\n",
       "0                549.11               1345.86               1123.35   \n",
       "1                604.12               1497.52               1299.13   \n",
       "2                606.99               1480.01                   NaN   \n",
       "3                549.09               1346.29               1119.90   \n",
       "4                536.18               1260.24               1038.22   \n",
       "\n",
       "   sensor_measurement_5  sensor_measurement_6  sensor_measurement_7  \\\n",
       "0                  3.91                  5.70                138.25   \n",
       "1                 10.52                 15.48                394.31   \n",
       "2                  9.35                 13.63                334.63   \n",
       "3                  3.91                  5.70                138.10   \n",
       "4                  7.05                  9.01                175.42   \n",
       "\n",
       "   sensor_measurement_8  sensor_measurement_9  sensor_measurement_10  \\\n",
       "0               2211.97               8311.89                   1.02   \n",
       "1               2318.80               8770.06                   1.26   \n",
       "2               2323.80               8717.69                   1.07   \n",
       "3               2211.95               8314.82                   1.02   \n",
       "4               1915.27               8003.96                   0.94   \n",
       "\n",
       "   sensor_measurement_11  sensor_measurement_12  sensor_measurement_13  \\\n",
       "0                  41.64                 130.38                2387.98   \n",
       "1                    NaN                 371.99                2387.94   \n",
       "2                  44.05                 314.99                2387.97   \n",
       "3                  41.74                 130.64                2387.98   \n",
       "4                  36.50                 164.24                2028.22   \n",
       "\n",
       "   sensor_measurement_14  sensor_measurement_15  sensor_measurement_16  \\\n",
       "0                8075.70                 9.3392                   0.02   \n",
       "1                8126.65                 8.5735                   0.03   \n",
       "2                8061.05                 9.1776                   0.02   \n",
       "3                8080.58                 9.3504                   0.02   \n",
       "4                7866.67                10.8344                   0.02   \n",
       "\n",
       "   sensor_measurement_17  sensor_measurement_18  sensor_measurement_19  \\\n",
       "0                  327.0                 2212.0                 100.00   \n",
       "1                  367.0                 2319.0                 100.00   \n",
       "2                  364.0                 2324.0                 100.00   \n",
       "3                    NaN                    NaN                 100.00   \n",
       "4                  307.0                 1915.0                  84.93   \n",
       "\n",
       "   sensor_measurement_20  sensor_measurement_21  status  \n",
       "0                  10.59                 6.4311       0  \n",
       "1                  28.54                17.2279       0  \n",
       "2                  24.40                14.7659       0  \n",
       "3                  10.74                 6.2972       0  \n",
       "4                  14.34                 8.5780       0  "
      ]
     },
     "execution_count": 558,
     "metadata": {},
     "output_type": "execute_result"
    }
   ],
   "source": [
    "clf_data.head()"
   ]
  },
  {
   "cell_type": "code",
   "execution_count": 559,
   "metadata": {},
   "outputs": [
    {
     "data": {
      "text/plain": [
       "0    High\n",
       "1    High\n",
       "2    High\n",
       "3    High\n",
       "4     NaN\n",
       "Name: operational_setting_3, dtype: object"
      ]
     },
     "execution_count": 559,
     "metadata": {},
     "output_type": "execute_result"
    }
   ],
   "source": [
    "clf_data['operational_setting_3'].head()"
   ]
  },
  {
   "cell_type": "code",
   "execution_count": 560,
   "metadata": {},
   "outputs": [
    {
     "data": {
      "text/plain": [
       "0    1.0\n",
       "1    1.0\n",
       "2    1.0\n",
       "3    1.0\n",
       "4    NaN\n",
       "Name: operational_setting_3, dtype: float64"
      ]
     },
     "execution_count": 560,
     "metadata": {},
     "output_type": "execute_result"
    }
   ],
   "source": [
    "#Check if features are properly encoded\n",
    "clf_data['operational_setting_3'].map( {'High':1, 'Low':0} ).head()"
   ]
  },
  {
   "cell_type": "code",
   "execution_count": 561,
   "metadata": {},
   "outputs": [
    {
     "data": {
      "text/plain": [
       "array([  1.,  nan,   0.])"
      ]
     },
     "execution_count": 561,
     "metadata": {},
     "output_type": "execute_result"
    }
   ],
   "source": [
    "#Check the unique values for operational_setting_3\n",
    "clf_data['operational_setting_3'].map( {'High':1, 'Low':0} ).unique()"
   ]
  },
  {
   "cell_type": "code",
   "execution_count": 562,
   "metadata": {
    "collapsed": true
   },
   "outputs": [],
   "source": [
    "clf_data['operational_setting_3'] = clf_data['operational_setting_3'].map( {'High':1, 'Low':0} )"
   ]
  },
  {
   "cell_type": "code",
   "execution_count": 22,
   "metadata": {},
   "outputs": [
    {
     "data": {
      "text/html": [
       "<div>\n",
       "<style>\n",
       "    .dataframe thead tr:only-child th {\n",
       "        text-align: right;\n",
       "    }\n",
       "\n",
       "    .dataframe thead th {\n",
       "        text-align: left;\n",
       "    }\n",
       "\n",
       "    .dataframe tbody tr th {\n",
       "        vertical-align: top;\n",
       "    }\n",
       "</style>\n",
       "<table border=\"1\" class=\"dataframe\">\n",
       "  <thead>\n",
       "    <tr style=\"text-align: right;\">\n",
       "      <th></th>\n",
       "      <th>unit_number</th>\n",
       "      <th>time_stamp</th>\n",
       "      <th>operational_setting_1</th>\n",
       "      <th>operational_setting_2</th>\n",
       "      <th>operational_setting_3</th>\n",
       "      <th>sensor_measurement_1</th>\n",
       "      <th>sensor_measurement_2</th>\n",
       "      <th>sensor_measurement_3</th>\n",
       "      <th>sensor_measurement_4</th>\n",
       "      <th>sensor_measurement_5</th>\n",
       "      <th>...</th>\n",
       "      <th>sensor_measurement_13</th>\n",
       "      <th>sensor_measurement_14</th>\n",
       "      <th>sensor_measurement_15</th>\n",
       "      <th>sensor_measurement_16</th>\n",
       "      <th>sensor_measurement_17</th>\n",
       "      <th>sensor_measurement_18</th>\n",
       "      <th>sensor_measurement_19</th>\n",
       "      <th>sensor_measurement_20</th>\n",
       "      <th>sensor_measurement_21</th>\n",
       "      <th>status</th>\n",
       "    </tr>\n",
       "  </thead>\n",
       "  <tbody>\n",
       "    <tr>\n",
       "      <th>0</th>\n",
       "      <td>540</td>\n",
       "      <td>2016-05-01T12:00:00Z</td>\n",
       "      <td>42.0033</td>\n",
       "      <td>0.8400</td>\n",
       "      <td>1.0</td>\n",
       "      <td>445.00</td>\n",
       "      <td>549.11</td>\n",
       "      <td>1345.86</td>\n",
       "      <td>1123.35</td>\n",
       "      <td>3.91</td>\n",
       "      <td>...</td>\n",
       "      <td>2387.98</td>\n",
       "      <td>8075.70</td>\n",
       "      <td>9.3392</td>\n",
       "      <td>0.02</td>\n",
       "      <td>327.0</td>\n",
       "      <td>2212.0</td>\n",
       "      <td>100.00</td>\n",
       "      <td>10.59</td>\n",
       "      <td>6.4311</td>\n",
       "      <td>0</td>\n",
       "    </tr>\n",
       "    <tr>\n",
       "      <th>1</th>\n",
       "      <td>540</td>\n",
       "      <td>2016-05-02T12:00:00Z</td>\n",
       "      <td>10.0049</td>\n",
       "      <td>0.2513</td>\n",
       "      <td>1.0</td>\n",
       "      <td>489.05</td>\n",
       "      <td>604.12</td>\n",
       "      <td>1497.52</td>\n",
       "      <td>1299.13</td>\n",
       "      <td>10.52</td>\n",
       "      <td>...</td>\n",
       "      <td>2387.94</td>\n",
       "      <td>8126.65</td>\n",
       "      <td>8.5735</td>\n",
       "      <td>0.03</td>\n",
       "      <td>367.0</td>\n",
       "      <td>2319.0</td>\n",
       "      <td>100.00</td>\n",
       "      <td>28.54</td>\n",
       "      <td>17.2279</td>\n",
       "      <td>0</td>\n",
       "    </tr>\n",
       "    <tr>\n",
       "      <th>2</th>\n",
       "      <td>540</td>\n",
       "      <td>2016-05-03T12:00:00Z</td>\n",
       "      <td>20.0026</td>\n",
       "      <td>0.7011</td>\n",
       "      <td>1.0</td>\n",
       "      <td>491.19</td>\n",
       "      <td>606.99</td>\n",
       "      <td>1480.01</td>\n",
       "      <td>NaN</td>\n",
       "      <td>9.35</td>\n",
       "      <td>...</td>\n",
       "      <td>2387.97</td>\n",
       "      <td>8061.05</td>\n",
       "      <td>9.1776</td>\n",
       "      <td>0.02</td>\n",
       "      <td>364.0</td>\n",
       "      <td>2324.0</td>\n",
       "      <td>100.00</td>\n",
       "      <td>24.40</td>\n",
       "      <td>14.7659</td>\n",
       "      <td>0</td>\n",
       "    </tr>\n",
       "    <tr>\n",
       "      <th>3</th>\n",
       "      <td>540</td>\n",
       "      <td>2016-05-04T12:00:00Z</td>\n",
       "      <td>42.0023</td>\n",
       "      <td>0.8409</td>\n",
       "      <td>1.0</td>\n",
       "      <td>445.00</td>\n",
       "      <td>549.09</td>\n",
       "      <td>1346.29</td>\n",
       "      <td>1119.90</td>\n",
       "      <td>3.91</td>\n",
       "      <td>...</td>\n",
       "      <td>2387.98</td>\n",
       "      <td>8080.58</td>\n",
       "      <td>9.3504</td>\n",
       "      <td>0.02</td>\n",
       "      <td>NaN</td>\n",
       "      <td>NaN</td>\n",
       "      <td>100.00</td>\n",
       "      <td>10.74</td>\n",
       "      <td>6.2972</td>\n",
       "      <td>0</td>\n",
       "    </tr>\n",
       "    <tr>\n",
       "      <th>4</th>\n",
       "      <td>540</td>\n",
       "      <td>2016-05-05T12:00:00Z</td>\n",
       "      <td>25.0031</td>\n",
       "      <td>0.6200</td>\n",
       "      <td>NaN</td>\n",
       "      <td>462.54</td>\n",
       "      <td>536.18</td>\n",
       "      <td>1260.24</td>\n",
       "      <td>1038.22</td>\n",
       "      <td>7.05</td>\n",
       "      <td>...</td>\n",
       "      <td>2028.22</td>\n",
       "      <td>7866.67</td>\n",
       "      <td>10.8344</td>\n",
       "      <td>0.02</td>\n",
       "      <td>307.0</td>\n",
       "      <td>1915.0</td>\n",
       "      <td>84.93</td>\n",
       "      <td>14.34</td>\n",
       "      <td>8.5780</td>\n",
       "      <td>0</td>\n",
       "    </tr>\n",
       "  </tbody>\n",
       "</table>\n",
       "<p>5 rows × 27 columns</p>\n",
       "</div>"
      ],
      "text/plain": [
       "   unit_number            time_stamp  operational_setting_1  \\\n",
       "0          540  2016-05-01T12:00:00Z                42.0033   \n",
       "1          540  2016-05-02T12:00:00Z                10.0049   \n",
       "2          540  2016-05-03T12:00:00Z                20.0026   \n",
       "3          540  2016-05-04T12:00:00Z                42.0023   \n",
       "4          540  2016-05-05T12:00:00Z                25.0031   \n",
       "\n",
       "   operational_setting_2  operational_setting_3  sensor_measurement_1  \\\n",
       "0                 0.8400                    1.0                445.00   \n",
       "1                 0.2513                    1.0                489.05   \n",
       "2                 0.7011                    1.0                491.19   \n",
       "3                 0.8409                    1.0                445.00   \n",
       "4                 0.6200                    NaN                462.54   \n",
       "\n",
       "   sensor_measurement_2  sensor_measurement_3  sensor_measurement_4  \\\n",
       "0                549.11               1345.86               1123.35   \n",
       "1                604.12               1497.52               1299.13   \n",
       "2                606.99               1480.01                   NaN   \n",
       "3                549.09               1346.29               1119.90   \n",
       "4                536.18               1260.24               1038.22   \n",
       "\n",
       "   sensor_measurement_5   ...    sensor_measurement_13  sensor_measurement_14  \\\n",
       "0                  3.91   ...                  2387.98                8075.70   \n",
       "1                 10.52   ...                  2387.94                8126.65   \n",
       "2                  9.35   ...                  2387.97                8061.05   \n",
       "3                  3.91   ...                  2387.98                8080.58   \n",
       "4                  7.05   ...                  2028.22                7866.67   \n",
       "\n",
       "   sensor_measurement_15  sensor_measurement_16  sensor_measurement_17  \\\n",
       "0                 9.3392                   0.02                  327.0   \n",
       "1                 8.5735                   0.03                  367.0   \n",
       "2                 9.1776                   0.02                  364.0   \n",
       "3                 9.3504                   0.02                    NaN   \n",
       "4                10.8344                   0.02                  307.0   \n",
       "\n",
       "   sensor_measurement_18  sensor_measurement_19  sensor_measurement_20  \\\n",
       "0                 2212.0                 100.00                  10.59   \n",
       "1                 2319.0                 100.00                  28.54   \n",
       "2                 2324.0                 100.00                  24.40   \n",
       "3                    NaN                 100.00                  10.74   \n",
       "4                 1915.0                  84.93                  14.34   \n",
       "\n",
       "   sensor_measurement_21  status  \n",
       "0                 6.4311       0  \n",
       "1                17.2279       0  \n",
       "2                14.7659       0  \n",
       "3                 6.2972       0  \n",
       "4                 8.5780       0  \n",
       "\n",
       "[5 rows x 27 columns]"
      ]
     },
     "execution_count": 22,
     "metadata": {},
     "output_type": "execute_result"
    }
   ],
   "source": [
    "clf_data.head()"
   ]
  },
  {
   "cell_type": "code",
   "execution_count": 710,
   "metadata": {
    "collapsed": true
   },
   "outputs": [],
   "source": [
    "X = clf_data.drop(['time_stamp', 'unit_number','status'], axis=1)"
   ]
  },
  {
   "cell_type": "code",
   "execution_count": 108,
   "metadata": {
    "collapsed": true
   },
   "outputs": [],
   "source": [
    "feat = [np.abs(item)[item != 1] for item in [clf_data.corr()[item] for item in X.columns]]"
   ]
  },
  {
   "cell_type": "code",
   "execution_count": 188,
   "metadata": {},
   "outputs": [
    {
     "data": {
      "text/plain": [
       "[633,\n",
       " 1788,\n",
       " 670,\n",
       " 112,\n",
       " 3,\n",
       " 7,\n",
       " 1774,\n",
       " 15056,\n",
       " 19966,\n",
       " 7,\n",
       " 57,\n",
       " 6154,\n",
       " 1143,\n",
       " 32463,\n",
       " 22,\n",
       " 767,\n",
       " 5835,\n",
       " 555,\n",
       " 19459,\n",
       " 12856,\n",
       " 3,\n",
       " 58,\n",
       " 7,\n",
       " 3,\n",
       " 672,\n",
       " 25780,\n",
       " 2]"
      ]
     },
     "execution_count": 188,
     "metadata": {},
     "output_type": "execute_result"
    }
   ],
   "source": [
    "# To view the unique elements per row to see number of categorical and continuous variables\n",
    "[len(clf_data[items].unique()) for items in clf_data.columns]"
   ]
  },
  {
   "cell_type": "code",
   "execution_count": 711,
   "metadata": {},
   "outputs": [
    {
     "data": {
      "text/html": [
       "<div>\n",
       "<style>\n",
       "    .dataframe thead tr:only-child th {\n",
       "        text-align: right;\n",
       "    }\n",
       "\n",
       "    .dataframe thead th {\n",
       "        text-align: left;\n",
       "    }\n",
       "\n",
       "    .dataframe tbody tr th {\n",
       "        vertical-align: top;\n",
       "    }\n",
       "</style>\n",
       "<table border=\"1\" class=\"dataframe\">\n",
       "  <thead>\n",
       "    <tr style=\"text-align: right;\">\n",
       "      <th></th>\n",
       "      <th>operational_setting_1</th>\n",
       "      <th>operational_setting_2</th>\n",
       "      <th>operational_setting_3</th>\n",
       "      <th>sensor_measurement_1</th>\n",
       "      <th>sensor_measurement_2</th>\n",
       "      <th>sensor_measurement_3</th>\n",
       "      <th>sensor_measurement_4</th>\n",
       "      <th>sensor_measurement_5</th>\n",
       "      <th>sensor_measurement_6</th>\n",
       "      <th>sensor_measurement_7</th>\n",
       "      <th>sensor_measurement_8</th>\n",
       "      <th>sensor_measurement_9</th>\n",
       "      <th>sensor_measurement_10</th>\n",
       "      <th>sensor_measurement_11</th>\n",
       "      <th>sensor_measurement_12</th>\n",
       "      <th>sensor_measurement_13</th>\n",
       "      <th>sensor_measurement_14</th>\n",
       "      <th>sensor_measurement_15</th>\n",
       "      <th>sensor_measurement_16</th>\n",
       "      <th>sensor_measurement_17</th>\n",
       "      <th>sensor_measurement_18</th>\n",
       "      <th>sensor_measurement_19</th>\n",
       "      <th>sensor_measurement_20</th>\n",
       "      <th>sensor_measurement_21</th>\n",
       "    </tr>\n",
       "  </thead>\n",
       "  <tbody>\n",
       "    <tr>\n",
       "      <th>0</th>\n",
       "      <td>42.0033</td>\n",
       "      <td>0.8400</td>\n",
       "      <td>1.0</td>\n",
       "      <td>445.00</td>\n",
       "      <td>549.11</td>\n",
       "      <td>1345.86</td>\n",
       "      <td>1123.35</td>\n",
       "      <td>3.91</td>\n",
       "      <td>5.70</td>\n",
       "      <td>138.25</td>\n",
       "      <td>2211.97</td>\n",
       "      <td>8311.89</td>\n",
       "      <td>1.02</td>\n",
       "      <td>41.64</td>\n",
       "      <td>130.38</td>\n",
       "      <td>2387.98</td>\n",
       "      <td>8075.70</td>\n",
       "      <td>9.3392</td>\n",
       "      <td>0.02</td>\n",
       "      <td>327.0</td>\n",
       "      <td>2212.0</td>\n",
       "      <td>100.00</td>\n",
       "      <td>10.59</td>\n",
       "      <td>6.4311</td>\n",
       "    </tr>\n",
       "    <tr>\n",
       "      <th>1</th>\n",
       "      <td>10.0049</td>\n",
       "      <td>0.2513</td>\n",
       "      <td>1.0</td>\n",
       "      <td>489.05</td>\n",
       "      <td>604.12</td>\n",
       "      <td>1497.52</td>\n",
       "      <td>1299.13</td>\n",
       "      <td>10.52</td>\n",
       "      <td>15.48</td>\n",
       "      <td>394.31</td>\n",
       "      <td>2318.80</td>\n",
       "      <td>8770.06</td>\n",
       "      <td>1.26</td>\n",
       "      <td>NaN</td>\n",
       "      <td>371.99</td>\n",
       "      <td>2387.94</td>\n",
       "      <td>8126.65</td>\n",
       "      <td>8.5735</td>\n",
       "      <td>0.03</td>\n",
       "      <td>367.0</td>\n",
       "      <td>2319.0</td>\n",
       "      <td>100.00</td>\n",
       "      <td>28.54</td>\n",
       "      <td>17.2279</td>\n",
       "    </tr>\n",
       "    <tr>\n",
       "      <th>2</th>\n",
       "      <td>20.0026</td>\n",
       "      <td>0.7011</td>\n",
       "      <td>1.0</td>\n",
       "      <td>491.19</td>\n",
       "      <td>606.99</td>\n",
       "      <td>1480.01</td>\n",
       "      <td>NaN</td>\n",
       "      <td>9.35</td>\n",
       "      <td>13.63</td>\n",
       "      <td>334.63</td>\n",
       "      <td>2323.80</td>\n",
       "      <td>8717.69</td>\n",
       "      <td>1.07</td>\n",
       "      <td>44.05</td>\n",
       "      <td>314.99</td>\n",
       "      <td>2387.97</td>\n",
       "      <td>8061.05</td>\n",
       "      <td>9.1776</td>\n",
       "      <td>0.02</td>\n",
       "      <td>364.0</td>\n",
       "      <td>2324.0</td>\n",
       "      <td>100.00</td>\n",
       "      <td>24.40</td>\n",
       "      <td>14.7659</td>\n",
       "    </tr>\n",
       "    <tr>\n",
       "      <th>3</th>\n",
       "      <td>42.0023</td>\n",
       "      <td>0.8409</td>\n",
       "      <td>1.0</td>\n",
       "      <td>445.00</td>\n",
       "      <td>549.09</td>\n",
       "      <td>1346.29</td>\n",
       "      <td>1119.90</td>\n",
       "      <td>3.91</td>\n",
       "      <td>5.70</td>\n",
       "      <td>138.10</td>\n",
       "      <td>2211.95</td>\n",
       "      <td>8314.82</td>\n",
       "      <td>1.02</td>\n",
       "      <td>41.74</td>\n",
       "      <td>130.64</td>\n",
       "      <td>2387.98</td>\n",
       "      <td>8080.58</td>\n",
       "      <td>9.3504</td>\n",
       "      <td>0.02</td>\n",
       "      <td>NaN</td>\n",
       "      <td>NaN</td>\n",
       "      <td>100.00</td>\n",
       "      <td>10.74</td>\n",
       "      <td>6.2972</td>\n",
       "    </tr>\n",
       "    <tr>\n",
       "      <th>4</th>\n",
       "      <td>25.0031</td>\n",
       "      <td>0.6200</td>\n",
       "      <td>NaN</td>\n",
       "      <td>462.54</td>\n",
       "      <td>536.18</td>\n",
       "      <td>1260.24</td>\n",
       "      <td>1038.22</td>\n",
       "      <td>7.05</td>\n",
       "      <td>9.01</td>\n",
       "      <td>175.42</td>\n",
       "      <td>1915.27</td>\n",
       "      <td>8003.96</td>\n",
       "      <td>0.94</td>\n",
       "      <td>36.50</td>\n",
       "      <td>164.24</td>\n",
       "      <td>2028.22</td>\n",
       "      <td>7866.67</td>\n",
       "      <td>10.8344</td>\n",
       "      <td>0.02</td>\n",
       "      <td>307.0</td>\n",
       "      <td>1915.0</td>\n",
       "      <td>84.93</td>\n",
       "      <td>14.34</td>\n",
       "      <td>8.5780</td>\n",
       "    </tr>\n",
       "  </tbody>\n",
       "</table>\n",
       "</div>"
      ],
      "text/plain": [
       "   operational_setting_1  operational_setting_2  operational_setting_3  \\\n",
       "0                42.0033                 0.8400                    1.0   \n",
       "1                10.0049                 0.2513                    1.0   \n",
       "2                20.0026                 0.7011                    1.0   \n",
       "3                42.0023                 0.8409                    1.0   \n",
       "4                25.0031                 0.6200                    NaN   \n",
       "\n",
       "   sensor_measurement_1  sensor_measurement_2  sensor_measurement_3  \\\n",
       "0                445.00                549.11               1345.86   \n",
       "1                489.05                604.12               1497.52   \n",
       "2                491.19                606.99               1480.01   \n",
       "3                445.00                549.09               1346.29   \n",
       "4                462.54                536.18               1260.24   \n",
       "\n",
       "   sensor_measurement_4  sensor_measurement_5  sensor_measurement_6  \\\n",
       "0               1123.35                  3.91                  5.70   \n",
       "1               1299.13                 10.52                 15.48   \n",
       "2                   NaN                  9.35                 13.63   \n",
       "3               1119.90                  3.91                  5.70   \n",
       "4               1038.22                  7.05                  9.01   \n",
       "\n",
       "   sensor_measurement_7  sensor_measurement_8  sensor_measurement_9  \\\n",
       "0                138.25               2211.97               8311.89   \n",
       "1                394.31               2318.80               8770.06   \n",
       "2                334.63               2323.80               8717.69   \n",
       "3                138.10               2211.95               8314.82   \n",
       "4                175.42               1915.27               8003.96   \n",
       "\n",
       "   sensor_measurement_10  sensor_measurement_11  sensor_measurement_12  \\\n",
       "0                   1.02                  41.64                 130.38   \n",
       "1                   1.26                    NaN                 371.99   \n",
       "2                   1.07                  44.05                 314.99   \n",
       "3                   1.02                  41.74                 130.64   \n",
       "4                   0.94                  36.50                 164.24   \n",
       "\n",
       "   sensor_measurement_13  sensor_measurement_14  sensor_measurement_15  \\\n",
       "0                2387.98                8075.70                 9.3392   \n",
       "1                2387.94                8126.65                 8.5735   \n",
       "2                2387.97                8061.05                 9.1776   \n",
       "3                2387.98                8080.58                 9.3504   \n",
       "4                2028.22                7866.67                10.8344   \n",
       "\n",
       "   sensor_measurement_16  sensor_measurement_17  sensor_measurement_18  \\\n",
       "0                   0.02                  327.0                 2212.0   \n",
       "1                   0.03                  367.0                 2319.0   \n",
       "2                   0.02                  364.0                 2324.0   \n",
       "3                   0.02                    NaN                    NaN   \n",
       "4                   0.02                  307.0                 1915.0   \n",
       "\n",
       "   sensor_measurement_19  sensor_measurement_20  sensor_measurement_21  \n",
       "0                 100.00                  10.59                 6.4311  \n",
       "1                 100.00                  28.54                17.2279  \n",
       "2                 100.00                  24.40                14.7659  \n",
       "3                 100.00                  10.74                 6.2972  \n",
       "4                  84.93                  14.34                 8.5780  "
      ]
     },
     "execution_count": 711,
     "metadata": {},
     "output_type": "execute_result"
    }
   ],
   "source": [
    "X.head()"
   ]
  },
  {
   "cell_type": "code",
   "execution_count": 756,
   "metadata": {},
   "outputs": [
    {
     "data": {
      "text/plain": [
       "Index(['operational_setting_1', 'operational_setting_2',\n",
       "       'operational_setting_3', 'sensor_measurement_1', 'sensor_measurement_2',\n",
       "       'sensor_measurement_3', 'sensor_measurement_4', 'sensor_measurement_5',\n",
       "       'sensor_measurement_6', 'sensor_measurement_7', 'sensor_measurement_8',\n",
       "       'sensor_measurement_9', 'sensor_measurement_10',\n",
       "       'sensor_measurement_11', 'sensor_measurement_12',\n",
       "       'sensor_measurement_13', 'sensor_measurement_14',\n",
       "       'sensor_measurement_15', 'sensor_measurement_16',\n",
       "       'sensor_measurement_17', 'sensor_measurement_18',\n",
       "       'sensor_measurement_19', 'sensor_measurement_20',\n",
       "       'sensor_measurement_21'],\n",
       "      dtype='object')"
      ]
     },
     "execution_count": 756,
     "metadata": {},
     "output_type": "execute_result"
    }
   ],
   "source": [
    "X.columns"
   ]
  },
  {
   "cell_type": "code",
   "execution_count": 712,
   "metadata": {
    "scrolled": true
   },
   "outputs": [
    {
     "name": "stdout",
     "output_type": "stream",
     "text": [
      "====Processing operational_setting_1 ====\n",
      " \t Fitting\n",
      " \t Imputing \n",
      "\n",
      "====Processing operational_setting_2 ====\n",
      " \t Fitting\n",
      " \t Imputing \n",
      "\n",
      "====Processing operational_setting_3 ====\n",
      " \t Fitting\n",
      " \t Imputing \n",
      "\n",
      "====Processing sensor_measurement_1 ====\n",
      " \t Fitting\n",
      " \t Imputing \n",
      "\n",
      "====Processing sensor_measurement_2 ====\n",
      " \t Fitting\n",
      " \t Imputing \n",
      "\n",
      "====Processing sensor_measurement_3 ====\n",
      " \t Fitting\n",
      " \t Imputing \n",
      "\n",
      "====Processing sensor_measurement_4 ====\n",
      " \t Fitting\n",
      " \t Imputing \n",
      "\n",
      "====Processing sensor_measurement_5 ====\n",
      " \t Fitting\n",
      " \t Imputing \n",
      "\n",
      "====Processing sensor_measurement_6 ====\n",
      " \t Fitting\n",
      " \t Imputing \n",
      "\n",
      "====Processing sensor_measurement_7 ====\n",
      " \t Fitting\n",
      " \t Imputing \n",
      "\n",
      "====Processing sensor_measurement_8 ====\n",
      " \t Fitting\n",
      " \t Imputing \n",
      "\n",
      "====Processing sensor_measurement_9 ====\n",
      " \t Fitting\n",
      " \t Imputing \n",
      "\n",
      "====Processing sensor_measurement_10 ====\n",
      " \t Fitting\n",
      " \t Imputing \n",
      "\n",
      "====Processing sensor_measurement_11 ====\n",
      " \t Fitting\n",
      " \t Imputing \n",
      "\n",
      "====Processing sensor_measurement_12 ====\n",
      " \t Fitting\n",
      " \t Imputing \n",
      "\n",
      "====Processing sensor_measurement_13 ====\n",
      " \t Fitting\n",
      " \t Imputing \n",
      "\n",
      "====Processing sensor_measurement_14 ====\n",
      " \t Fitting\n",
      " \t Imputing \n",
      "\n",
      "====Processing sensor_measurement_15 ====\n",
      " \t Fitting\n",
      " \t Imputing \n",
      "\n",
      "====Processing sensor_measurement_16 ====\n",
      " \t Fitting\n",
      " \t Imputing \n",
      "\n",
      "====Processing sensor_measurement_17 ====\n",
      " \t Fitting\n",
      " \t Imputing \n",
      "\n",
      "====Processing sensor_measurement_18 ====\n",
      " \t Fitting\n",
      " \t Imputing \n",
      "\n",
      "====Processing sensor_measurement_19 ====\n",
      " \t Fitting\n",
      " \t Imputing \n",
      "\n",
      "====Processing sensor_measurement_20 ====\n",
      " \t Fitting\n",
      " \t Imputing \n",
      "\n",
      "====Processing sensor_measurement_21 ====\n",
      " \t Fitting\n",
      " \t Imputing \n",
      "\n"
     ]
    }
   ],
   "source": [
    "# Set refit\n",
    "refit = True\n",
    "\n",
    "fixed_values = {}   \n",
    "\n",
    "all_data = X.copy()\n",
    "\n",
    "feat = [np.abs(item)[item != 1] for item in [clf_data.corr()[item] for item in X.columns]]\n",
    "\n",
    "for c,columns in enumerate(feat):\n",
    "    \n",
    "    col_name = pd.DataFrame(columns).columns[0]\n",
    "    \n",
    "    print(\"==== Processing {} ====\".format(col_name))\n",
    "    \n",
    "    top_corr = np.argmax(np.abs(columns))\n",
    "    second_corr = pd.DataFrame(columns).sort_values(col_name).iloc[-2].name\n",
    "    third_corr = pd.DataFrame(columns).sort_values(col_name).iloc[-3].name\n",
    "    \n",
    "    features = [top_corr, second_corr, third_corr]\n",
    "    \n",
    "    y = all_data.loc[:, col_name]\n",
    "    x1 = all_data.loc[:, top_corr]\n",
    "    x2 = all_data.loc[:, second_corr]\n",
    "    x3 = all_data.loc[:, third_corr]\n",
    "    \n",
    "    if refit:        \n",
    "        \n",
    "        print(\" \\t Fitting\")\n",
    "        for number, item in enumerate([x1, x2, x3]):   \n",
    "            X_train = item[np.invert(y.isnull() | item.isnull())].values.reshape(-1, 1)\n",
    "            y_train = y[np.invert(y.isnull() | item.isnull())]\n",
    "\n",
    "            #Select Classifier or Regression model based on the number of unique values\n",
    "            if(len(y.unique()) <= 7):\n",
    "                rf_model = RandomForestClassifier()\n",
    "                if y_train[0] < 1 : \n",
    "                    y_train = y_train*100\n",
    "                y_train = y_train.astype('int')\n",
    "\n",
    "                fixed_values[col_name] = mode(y)\n",
    "    \n",
    "            else:\n",
    "                rf_model = RandomForestRegressor()\n",
    "                \n",
    "                fixed_values[col_name] = np.mean(y)\n",
    "\n",
    "            # Fitting Random forest model\n",
    "            rf_model.fit(X_train, y_train)\n",
    "\n",
    "\n",
    "            with open('../results/pickles/{}-{}x.pickle'.format(col_name, number), 'wb') as save_model:\n",
    "                pickle.dump(rf_model, save_model)\n",
    "            \n",
    "        with open('../results/pickles/fixed_values.pickle', 'wb') as save_model:\n",
    "            pickle.dump(fixed_values, save_model)\n",
    "    \n",
    "    print(\" \\t Imputing \\n\")\n",
    "\n",
    "    # Data missing selected feature\n",
    "    fallback_1 = y.isnull() & np.invert(x1.isnull())\n",
    "    fallback_2 = y.isnull() & x1.isnull() & np.invert(x2.isnull())\n",
    "    fallback_3 = y.isnull() & x1.isnull() &  x2.isnull() & np.invert(x3.isnull())\n",
    "    fallback_4 = y.isnull() & x1.isnull() &  x2.isnull() & x3.isnull()\n",
    "    fallbacks = [fallback_1, fallback_2, fallback_3, fallback_4]\n",
    "    \n",
    "    complete_data = all_data.loc[np.invert(y.isnull())].copy()\n",
    "\n",
    "    for count, item in enumerate(fallbacks):\n",
    "        if item.sum().astype(\"bool\") & (count < 3):\n",
    "            loop_data = all_data.loc[item].copy()\n",
    "            with open('../results/pickles/{}-{}x.pickle'.format(col_name, count), 'rb') as load_model:\n",
    "                rf_model = pickle.load(load_model)\n",
    "            \n",
    "            x_data = loop_data.loc[:, features[count]].values.reshape(-1, 1)\n",
    "\n",
    "            #Predicting using Random forest model\n",
    "            y_data = rf_model.predict(x_data)\n",
    "                \n",
    "            loop_data.loc[:,col_name] = y_data\n",
    "    \n",
    "            complete_data = complete_data.append(loop_data)\n",
    "            \n",
    "        else:\n",
    "            \n",
    "            #warnings.warn(\"There are more than 3 missing values in one or more records\")\n",
    "\n",
    "            loop_data = all_data.loc[item].copy()\n",
    "            \n",
    "            with open('../results/pickles/fixed_values.pickle'.format(col_name, count), 'rb') as load_model:\n",
    "                fixed_values = pickle.load(load_model)\n",
    "\n",
    "            # Imputing with preset values as more than 4 values are missing.\n",
    "            y_data = fixed_values[col_name]\n",
    "            loop_data.loc[:,col_name] = y_data\n",
    "            complete_data = complete_data.append(loop_data)\n",
    "            \n",
    "    all_data = complete_data.copy()\n",
    "    \n",
    "all_data = all_data.sort_index()\n"
   ]
  },
  {
   "cell_type": "code",
   "execution_count": 683,
   "metadata": {},
   "outputs": [
    {
     "data": {
      "text/html": [
       "<div>\n",
       "<style>\n",
       "    .dataframe thead tr:only-child th {\n",
       "        text-align: right;\n",
       "    }\n",
       "\n",
       "    .dataframe thead th {\n",
       "        text-align: left;\n",
       "    }\n",
       "\n",
       "    .dataframe tbody tr th {\n",
       "        vertical-align: top;\n",
       "    }\n",
       "</style>\n",
       "<table border=\"1\" class=\"dataframe\">\n",
       "  <thead>\n",
       "    <tr style=\"text-align: right;\">\n",
       "      <th></th>\n",
       "      <th>unit_number</th>\n",
       "      <th>time_stamp</th>\n",
       "      <th>operational_setting_1</th>\n",
       "      <th>operational_setting_2</th>\n",
       "      <th>operational_setting_3</th>\n",
       "      <th>sensor_measurement_1</th>\n",
       "      <th>sensor_measurement_2</th>\n",
       "      <th>sensor_measurement_3</th>\n",
       "      <th>sensor_measurement_4</th>\n",
       "      <th>sensor_measurement_5</th>\n",
       "      <th>sensor_measurement_6</th>\n",
       "      <th>sensor_measurement_7</th>\n",
       "      <th>sensor_measurement_8</th>\n",
       "      <th>sensor_measurement_9</th>\n",
       "      <th>sensor_measurement_10</th>\n",
       "      <th>sensor_measurement_11</th>\n",
       "      <th>sensor_measurement_12</th>\n",
       "      <th>sensor_measurement_13</th>\n",
       "      <th>sensor_measurement_14</th>\n",
       "      <th>sensor_measurement_15</th>\n",
       "      <th>sensor_measurement_16</th>\n",
       "      <th>sensor_measurement_17</th>\n",
       "      <th>sensor_measurement_18</th>\n",
       "      <th>sensor_measurement_19</th>\n",
       "      <th>sensor_measurement_20</th>\n",
       "      <th>sensor_measurement_21</th>\n",
       "      <th>status</th>\n",
       "    </tr>\n",
       "  </thead>\n",
       "  <tbody>\n",
       "    <tr>\n",
       "      <th>0</th>\n",
       "      <td>540</td>\n",
       "      <td>2016-05-01T12:00:00Z</td>\n",
       "      <td>42.0033</td>\n",
       "      <td>0.8400</td>\n",
       "      <td>1.0</td>\n",
       "      <td>445.00</td>\n",
       "      <td>549.11</td>\n",
       "      <td>1345.86</td>\n",
       "      <td>1123.35</td>\n",
       "      <td>3.91</td>\n",
       "      <td>5.70</td>\n",
       "      <td>138.25</td>\n",
       "      <td>2211.97</td>\n",
       "      <td>8311.89</td>\n",
       "      <td>1.02</td>\n",
       "      <td>41.64</td>\n",
       "      <td>130.38</td>\n",
       "      <td>2387.98</td>\n",
       "      <td>8075.70</td>\n",
       "      <td>9.3392</td>\n",
       "      <td>0.02</td>\n",
       "      <td>327.0</td>\n",
       "      <td>2212.0</td>\n",
       "      <td>100.00</td>\n",
       "      <td>10.59</td>\n",
       "      <td>6.4311</td>\n",
       "      <td>0</td>\n",
       "    </tr>\n",
       "    <tr>\n",
       "      <th>1</th>\n",
       "      <td>540</td>\n",
       "      <td>2016-05-02T12:00:00Z</td>\n",
       "      <td>10.0049</td>\n",
       "      <td>0.2513</td>\n",
       "      <td>1.0</td>\n",
       "      <td>489.05</td>\n",
       "      <td>604.12</td>\n",
       "      <td>1497.52</td>\n",
       "      <td>1299.13</td>\n",
       "      <td>10.52</td>\n",
       "      <td>15.48</td>\n",
       "      <td>394.31</td>\n",
       "      <td>2318.80</td>\n",
       "      <td>8770.06</td>\n",
       "      <td>1.26</td>\n",
       "      <td>NaN</td>\n",
       "      <td>371.99</td>\n",
       "      <td>2387.94</td>\n",
       "      <td>8126.65</td>\n",
       "      <td>8.5735</td>\n",
       "      <td>0.03</td>\n",
       "      <td>367.0</td>\n",
       "      <td>2319.0</td>\n",
       "      <td>100.00</td>\n",
       "      <td>28.54</td>\n",
       "      <td>17.2279</td>\n",
       "      <td>0</td>\n",
       "    </tr>\n",
       "    <tr>\n",
       "      <th>2</th>\n",
       "      <td>540</td>\n",
       "      <td>2016-05-03T12:00:00Z</td>\n",
       "      <td>20.0026</td>\n",
       "      <td>0.7011</td>\n",
       "      <td>1.0</td>\n",
       "      <td>491.19</td>\n",
       "      <td>606.99</td>\n",
       "      <td>1480.01</td>\n",
       "      <td>NaN</td>\n",
       "      <td>9.35</td>\n",
       "      <td>13.63</td>\n",
       "      <td>334.63</td>\n",
       "      <td>2323.80</td>\n",
       "      <td>8717.69</td>\n",
       "      <td>1.07</td>\n",
       "      <td>44.05</td>\n",
       "      <td>314.99</td>\n",
       "      <td>2387.97</td>\n",
       "      <td>8061.05</td>\n",
       "      <td>9.1776</td>\n",
       "      <td>0.02</td>\n",
       "      <td>364.0</td>\n",
       "      <td>2324.0</td>\n",
       "      <td>100.00</td>\n",
       "      <td>24.40</td>\n",
       "      <td>14.7659</td>\n",
       "      <td>0</td>\n",
       "    </tr>\n",
       "    <tr>\n",
       "      <th>3</th>\n",
       "      <td>540</td>\n",
       "      <td>2016-05-04T12:00:00Z</td>\n",
       "      <td>42.0023</td>\n",
       "      <td>0.8409</td>\n",
       "      <td>1.0</td>\n",
       "      <td>445.00</td>\n",
       "      <td>549.09</td>\n",
       "      <td>1346.29</td>\n",
       "      <td>1119.90</td>\n",
       "      <td>3.91</td>\n",
       "      <td>5.70</td>\n",
       "      <td>138.10</td>\n",
       "      <td>2211.95</td>\n",
       "      <td>8314.82</td>\n",
       "      <td>1.02</td>\n",
       "      <td>41.74</td>\n",
       "      <td>130.64</td>\n",
       "      <td>2387.98</td>\n",
       "      <td>8080.58</td>\n",
       "      <td>9.3504</td>\n",
       "      <td>0.02</td>\n",
       "      <td>NaN</td>\n",
       "      <td>NaN</td>\n",
       "      <td>100.00</td>\n",
       "      <td>10.74</td>\n",
       "      <td>6.2972</td>\n",
       "      <td>0</td>\n",
       "    </tr>\n",
       "    <tr>\n",
       "      <th>4</th>\n",
       "      <td>540</td>\n",
       "      <td>2016-05-05T12:00:00Z</td>\n",
       "      <td>25.0031</td>\n",
       "      <td>0.6200</td>\n",
       "      <td>NaN</td>\n",
       "      <td>462.54</td>\n",
       "      <td>536.18</td>\n",
       "      <td>1260.24</td>\n",
       "      <td>1038.22</td>\n",
       "      <td>7.05</td>\n",
       "      <td>9.01</td>\n",
       "      <td>175.42</td>\n",
       "      <td>1915.27</td>\n",
       "      <td>8003.96</td>\n",
       "      <td>0.94</td>\n",
       "      <td>36.50</td>\n",
       "      <td>164.24</td>\n",
       "      <td>2028.22</td>\n",
       "      <td>7866.67</td>\n",
       "      <td>10.8344</td>\n",
       "      <td>0.02</td>\n",
       "      <td>307.0</td>\n",
       "      <td>1915.0</td>\n",
       "      <td>84.93</td>\n",
       "      <td>14.34</td>\n",
       "      <td>8.5780</td>\n",
       "      <td>0</td>\n",
       "    </tr>\n",
       "  </tbody>\n",
       "</table>\n",
       "</div>"
      ],
      "text/plain": [
       "   unit_number            time_stamp  operational_setting_1  \\\n",
       "0          540  2016-05-01T12:00:00Z                42.0033   \n",
       "1          540  2016-05-02T12:00:00Z                10.0049   \n",
       "2          540  2016-05-03T12:00:00Z                20.0026   \n",
       "3          540  2016-05-04T12:00:00Z                42.0023   \n",
       "4          540  2016-05-05T12:00:00Z                25.0031   \n",
       "\n",
       "   operational_setting_2  operational_setting_3  sensor_measurement_1  \\\n",
       "0                 0.8400                    1.0                445.00   \n",
       "1                 0.2513                    1.0                489.05   \n",
       "2                 0.7011                    1.0                491.19   \n",
       "3                 0.8409                    1.0                445.00   \n",
       "4                 0.6200                    NaN                462.54   \n",
       "\n",
       "   sensor_measurement_2  sensor_measurement_3  sensor_measurement_4  \\\n",
       "0                549.11               1345.86               1123.35   \n",
       "1                604.12               1497.52               1299.13   \n",
       "2                606.99               1480.01                   NaN   \n",
       "3                549.09               1346.29               1119.90   \n",
       "4                536.18               1260.24               1038.22   \n",
       "\n",
       "   sensor_measurement_5  sensor_measurement_6  sensor_measurement_7  \\\n",
       "0                  3.91                  5.70                138.25   \n",
       "1                 10.52                 15.48                394.31   \n",
       "2                  9.35                 13.63                334.63   \n",
       "3                  3.91                  5.70                138.10   \n",
       "4                  7.05                  9.01                175.42   \n",
       "\n",
       "   sensor_measurement_8  sensor_measurement_9  sensor_measurement_10  \\\n",
       "0               2211.97               8311.89                   1.02   \n",
       "1               2318.80               8770.06                   1.26   \n",
       "2               2323.80               8717.69                   1.07   \n",
       "3               2211.95               8314.82                   1.02   \n",
       "4               1915.27               8003.96                   0.94   \n",
       "\n",
       "   sensor_measurement_11  sensor_measurement_12  sensor_measurement_13  \\\n",
       "0                  41.64                 130.38                2387.98   \n",
       "1                    NaN                 371.99                2387.94   \n",
       "2                  44.05                 314.99                2387.97   \n",
       "3                  41.74                 130.64                2387.98   \n",
       "4                  36.50                 164.24                2028.22   \n",
       "\n",
       "   sensor_measurement_14  sensor_measurement_15  sensor_measurement_16  \\\n",
       "0                8075.70                 9.3392                   0.02   \n",
       "1                8126.65                 8.5735                   0.03   \n",
       "2                8061.05                 9.1776                   0.02   \n",
       "3                8080.58                 9.3504                   0.02   \n",
       "4                7866.67                10.8344                   0.02   \n",
       "\n",
       "   sensor_measurement_17  sensor_measurement_18  sensor_measurement_19  \\\n",
       "0                  327.0                 2212.0                 100.00   \n",
       "1                  367.0                 2319.0                 100.00   \n",
       "2                  364.0                 2324.0                 100.00   \n",
       "3                    NaN                    NaN                 100.00   \n",
       "4                  307.0                 1915.0                  84.93   \n",
       "\n",
       "   sensor_measurement_20  sensor_measurement_21  status  \n",
       "0                  10.59                 6.4311       0  \n",
       "1                  28.54                17.2279       0  \n",
       "2                  24.40                14.7659       0  \n",
       "3                  10.74                 6.2972       0  \n",
       "4                  14.34                 8.5780       0  "
      ]
     },
     "execution_count": 683,
     "metadata": {},
     "output_type": "execute_result"
    }
   ],
   "source": [
    "all_data.head()"
   ]
  },
  {
   "cell_type": "code",
   "execution_count": 713,
   "metadata": {
    "scrolled": false
   },
   "outputs": [
    {
     "data": {
      "text/plain": [
       "<matplotlib.axes._subplots.AxesSubplot at 0x1a2a855d68>"
      ]
     },
     "execution_count": 713,
     "metadata": {},
     "output_type": "execute_result"
    },
    {
     "data": {
      "image/png": "[encoded data removed]",
      "text/plain": [
       "<matplotlib.figure.Figure at 0x1a2a85a908>"
      ]
     },
     "metadata": {},
     "output_type": "display_data"
    }
   ],
   "source": [
    "#Visualize the missing data for all fields\n",
    "X.isnull().sum().plot(kind='bar')"
   ]
  },
  {
   "cell_type": "code",
   "execution_count": 715,
   "metadata": {},
   "outputs": [
    {
     "data": {
      "text/plain": [
       "<matplotlib.axes._subplots.AxesSubplot at 0x1a2ab5acf8>"
      ]
     },
     "execution_count": 715,
     "metadata": {},
     "output_type": "execute_result"
    },
    {
     "data": {
      "image/png": "[encoded data removed]",
      "text/plain": [
       "<matplotlib.figure.Figure at 0x1a2acc5ba8>"
      ]
     },
     "metadata": {},
     "output_type": "display_data"
    }
   ],
   "source": [
    "all_data.isnull().sum().plot(kind='bar')"
   ]
  },
  {
   "cell_type": "code",
   "execution_count": 716,
   "metadata": {
    "collapsed": true
   },
   "outputs": [],
   "source": [
    "y = clf_data['status']"
   ]
  },
  {
   "cell_type": "code",
   "execution_count": 718,
   "metadata": {
    "collapsed": true
   },
   "outputs": [],
   "source": [
    "#Without balancing data\n",
    "\n",
    "# Train test split\n",
    "X_train, X_test, y_train, y_test = train_test_split(all_data, y, test_size=0.15, random_state=7)\n",
    "\n",
    "# Train validation split\n",
    "X_train, X_val, y_train, y_val = train_test_split(X_train, y_train, test_size=0.15, random_state=7)"
   ]
  },
  {
   "cell_type": "code",
   "execution_count": 719,
   "metadata": {
    "collapsed": true
   },
   "outputs": [],
   "source": [
    "def evaluate(model):\n",
    "    '''\n",
    "    Function to evaluate the performance on training and validation sets.\n",
    "    Args:\n",
    "        model: Sk-learn model with score and predict methods\n",
    "    Returns:\n",
    "        None\n",
    "    '''\n",
    "    print(\"-----Training-----\", \"\\n\")\n",
    "    # Accuracy\n",
    "    train_score = model.score(X_train, y_train)\n",
    "    print(\"Train Accuracy: \", train_score)\n",
    "    # Recall Score\n",
    "    train_recall = recall_score(y_pred = model.predict(X_train), y_true=y_train)\n",
    "    print(\"Train Recall: \", train_recall)\n",
    "    # Confusion Matrix\n",
    "    print(\"Train Confusion Matrix\")\n",
    "    cm_train = pd.DataFrame(confusion_matrix(y_pred = model.predict(X_train), y_true=y_train))\n",
    "    print(cm_train, \"\\n\")\n",
    "    \n",
    "    print(\"-----Validation-----\", \"\\n\")\n",
    "    # Accuracy\n",
    "    val_score = model.score(X_val, y_val)\n",
    "    print(\"Test Accuracy: \", val_score)\n",
    "    # Recall Scores\n",
    "    val_recall = recall_score(y_pred = model.predict(X_val), y_true=y_val)\n",
    "    print(\"Test Recall: \", val_recall)\n",
    "    # Confusion Matrix\n",
    "    print(\"Test Confusion Matrix\")\n",
    "    cm_val = pd.DataFrame(confusion_matrix(y_pred = model.predict(X_val), y_true=y_val))\n",
    "    print(cm_val)\n",
    "\n",
    "def evaluate_test(model):\n",
    "    '''\n",
    "    Function to evaluate the performance on testing sets.\n",
    "    Args:\n",
    "        model: Sk-learn model with score and predict methods\n",
    "    Returns:\n",
    "        None\n",
    "    '''\n",
    "    print(\"-----Testing-----\", \"\\n\")\n",
    "    # Accuracy\n",
    "    test_score = model.score(X_test, y_test)\n",
    "    print(\"Train Accuracy: \", test_score)\n",
    "    # Recall Score\n",
    "    test_recall = recall_score(y_pred = model.predict(X_test), y_true=y_test)\n",
    "    print(\"Test Recall: \", test_recall)\n",
    "    # Confusion Matrix\n",
    "    print(\"Test Confusion Matrix\")\n",
    "    cm_test = pd.DataFrame(confusion_matrix(y_pred = model.predict(X_test), y_true=y_test))\n",
    "    print(cm_test, \"\\n\")"
   ]
  },
  {
   "cell_type": "markdown",
   "metadata": {},
   "source": [
    "## Using Logistic Regression"
   ]
  },
  {
   "cell_type": "code",
   "execution_count": 720,
   "metadata": {},
   "outputs": [
    {
     "data": {
      "text/plain": [
       "LogisticRegression(C=1.0, class_weight=None, dual=False, fit_intercept=True,\n",
       "          intercept_scaling=1, max_iter=100, multi_class='ovr', n_jobs=1,\n",
       "          penalty='l2', random_state=None, solver='liblinear', tol=0.0001,\n",
       "          verbose=0, warm_start=False)"
      ]
     },
     "execution_count": 720,
     "metadata": {},
     "output_type": "execute_result"
    }
   ],
   "source": [
    "lr_clf = LogisticRegression()\n",
    "lr_clf.fit(X_train, y_train)"
   ]
  },
  {
   "cell_type": "code",
   "execution_count": 721,
   "metadata": {},
   "outputs": [
    {
     "name": "stdout",
     "output_type": "stream",
     "text": [
      "-----Training----- \n",
      "\n",
      "Train Accuracy:  0.900658437794\n",
      "Train Recall:  0.57998935604\n",
      "Train Confusion Matrix\n",
      "       0      1\n",
      "0  82938   2458\n",
      "1   7892  10898 \n",
      "\n",
      "-----Validation----- \n",
      "\n",
      "Test Accuracy:  0.903404764495\n",
      "Test Recall:  0.580986981532\n",
      "Test Confusion Matrix\n",
      "       0     1\n",
      "0  14691   392\n",
      "1   1384  1919\n"
     ]
    }
   ],
   "source": [
    "evaluate(lr_clf)"
   ]
  },
  {
   "cell_type": "markdown",
   "metadata": {},
   "source": [
    "## Using SGD"
   ]
  },
  {
   "cell_type": "code",
   "execution_count": 722,
   "metadata": {},
   "outputs": [
    {
     "name": "stderr",
     "output_type": "stream",
     "text": [
      "/Users/avinash/anaconda3/lib/python3.6/site-packages/sklearn/linear_model/stochastic_gradient.py:128: FutureWarning: max_iter and tol parameters have been added in <class 'sklearn.linear_model.stochastic_gradient.SGDClassifier'> in 0.19. If both are left unset, they default to max_iter=5 and tol=None. If tol is not None, max_iter defaults to max_iter=1000. From 0.21, default max_iter will be 1000, and default tol will be 1e-3.\n",
      "  \"and default tol will be 1e-3.\" % type(self), FutureWarning)\n"
     ]
    },
    {
     "data": {
      "text/plain": [
       "SGDClassifier(alpha=0.0001, average=False, class_weight=None, epsilon=0.1,\n",
       "       eta0=0.0, fit_intercept=True, l1_ratio=0.15,\n",
       "       learning_rate='optimal', loss='hinge', max_iter=None, n_iter=None,\n",
       "       n_jobs=1, penalty='l1', power_t=0.5, random_state=None,\n",
       "       shuffle=True, tol=None, verbose=0, warm_start=False)"
      ]
     },
     "execution_count": 722,
     "metadata": {},
     "output_type": "execute_result"
    }
   ],
   "source": [
    "sgd_clf = SGDClassifier(penalty=\"l1\")\n",
    "sgd_clf.fit(X_train, y_train)"
   ]
  },
  {
   "cell_type": "code",
   "execution_count": 723,
   "metadata": {},
   "outputs": [
    {
     "name": "stdout",
     "output_type": "stream",
     "text": [
      "-----Training----- \n",
      "\n",
      "Train Accuracy:  0.801556831052\n",
      "Train Recall:  0.696327833954\n",
      "Train Confusion Matrix\n",
      "       0      1\n",
      "0  70427  14969\n",
      "1   5706  13084 \n",
      "\n",
      "-----Validation----- \n",
      "\n",
      "Test Accuracy:  0.804416403785\n",
      "Test Recall:  0.703300030276\n",
      "Test Confusion Matrix\n",
      "       0     1\n",
      "0  12467  2616\n",
      "1    980  2323\n"
     ]
    }
   ],
   "source": [
    "evaluate(sgd_clf)"
   ]
  },
  {
   "cell_type": "markdown",
   "metadata": {},
   "source": [
    "## Using Random Forest"
   ]
  },
  {
   "cell_type": "code",
   "execution_count": 724,
   "metadata": {
    "scrolled": true
   },
   "outputs": [
    {
     "data": {
      "text/plain": [
       "RandomForestClassifier(bootstrap=True, class_weight=None, criterion='gini',\n",
       "            max_depth=None, max_features='auto', max_leaf_nodes=None,\n",
       "            min_impurity_decrease=0.0, min_impurity_split=None,\n",
       "            min_samples_leaf=1, min_samples_split=2,\n",
       "            min_weight_fraction_leaf=0.0, n_estimators=10, n_jobs=1,\n",
       "            oob_score=False, random_state=None, verbose=0,\n",
       "            warm_start=False)"
      ]
     },
     "execution_count": 724,
     "metadata": {},
     "output_type": "execute_result"
    }
   ],
   "source": [
    "rf_clf = RandomForestClassifier()\n",
    "rf_clf.fit(X_train, y_train)"
   ]
  },
  {
   "cell_type": "code",
   "execution_count": 725,
   "metadata": {
    "scrolled": true
   },
   "outputs": [
    {
     "name": "stdout",
     "output_type": "stream",
     "text": [
      "-----Training----- \n",
      "\n",
      "Train Accuracy:  0.995757587392\n",
      "Train Recall:  0.97929749867\n",
      "Train Confusion Matrix\n",
      "       0      1\n",
      "0  85343     53\n",
      "1    389  18401 \n",
      "\n",
      "-----Validation----- \n",
      "\n",
      "Test Accuracy:  0.946100293702\n",
      "Test Recall:  0.792310021193\n",
      "Test Confusion Matrix\n",
      "       0     1\n",
      "0  14778   305\n",
      "1    686  2617\n"
     ]
    }
   ],
   "source": [
    "evaluate(rf_clf)"
   ]
  },
  {
   "cell_type": "markdown",
   "metadata": {},
   "source": [
    "## XGBoost"
   ]
  },
  {
   "cell_type": "code",
   "execution_count": 726,
   "metadata": {},
   "outputs": [
    {
     "data": {
      "text/plain": [
       "XGBClassifier(base_score=0.5, booster='gbtree', colsample_bylevel=1,\n",
       "       colsample_bytree=1, gamma=0, learning_rate=0.1, max_delta_step=0,\n",
       "       max_depth=3, min_child_weight=1, missing=None, n_estimators=100,\n",
       "       n_jobs=1, nthread=None, objective='binary:logistic', random_state=0,\n",
       "       reg_alpha=0, reg_lambda=1, scale_pos_weight=1, seed=None,\n",
       "       silent=True, subsample=1)"
      ]
     },
     "execution_count": 726,
     "metadata": {},
     "output_type": "execute_result"
    }
   ],
   "source": [
    "xgb = XGBClassifier()\n",
    "xgb.fit(X_train, y_train)"
   ]
  },
  {
   "cell_type": "code",
   "execution_count": 727,
   "metadata": {},
   "outputs": [
    {
     "name": "stdout",
     "output_type": "stream",
     "text": [
      "-----Training----- \n",
      "\n",
      "Train Accuracy:  0.942276313516\n",
      "Train Recall:  0.787014369345\n",
      "Train Confusion Matrix\n",
      "       0      1\n",
      "0  83384   2012\n",
      "1   4002  14788 \n",
      "\n",
      "-----Validation----- \n",
      "\n",
      "Test Accuracy:  0.941966713804\n",
      "Test Recall:  0.788071450197\n",
      "Test Confusion Matrix\n",
      "       0     1\n",
      "0  14716   367\n",
      "1    700  2603\n"
     ]
    }
   ],
   "source": [
    "evaluate(xgb)"
   ]
  },
  {
   "cell_type": "markdown",
   "metadata": {},
   "source": [
    "# GradientBoostingClassifier"
   ]
  },
  {
   "cell_type": "code",
   "execution_count": 728,
   "metadata": {},
   "outputs": [
    {
     "data": {
      "text/plain": [
       "GradientBoostingClassifier(criterion='friedman_mse', init=None,\n",
       "              learning_rate=0.1, loss='deviance', max_depth=3,\n",
       "              max_features=None, max_leaf_nodes=None,\n",
       "              min_impurity_decrease=0.0, min_impurity_split=None,\n",
       "              min_samples_leaf=1, min_samples_split=2,\n",
       "              min_weight_fraction_leaf=0.0, n_estimators=100,\n",
       "              presort='auto', random_state=None, subsample=1.0, verbose=0,\n",
       "              warm_start=False)"
      ]
     },
     "execution_count": 728,
     "metadata": {},
     "output_type": "execute_result"
    }
   ],
   "source": [
    "gbc_clf = GradientBoostingClassifier()\n",
    "gbc_clf.fit(X_train, y_train)"
   ]
  },
  {
   "cell_type": "code",
   "execution_count": 729,
   "metadata": {},
   "outputs": [
    {
     "name": "stdout",
     "output_type": "stream",
     "text": [
      "-----Training----- \n",
      "\n",
      "Train Accuracy:  0.943034572783\n",
      "Train Recall:  0.7928685471\n",
      "Train Confusion Matrix\n",
      "       0      1\n",
      "0  83353   2043\n",
      "1   3892  14898 \n",
      "\n",
      "-----Validation----- \n",
      "\n",
      "Test Accuracy:  0.943217665615\n",
      "Test Recall:  0.796548592189\n",
      "Test Confusion Matrix\n",
      "       0     1\n",
      "0  14711   372\n",
      "1    672  2631\n"
     ]
    }
   ],
   "source": [
    "evaluate(gbc_clf)"
   ]
  },
  {
   "cell_type": "markdown",
   "metadata": {},
   "source": [
    "### Selecting the top 2 models and tuning parameters."
   ]
  },
  {
   "cell_type": "markdown",
   "metadata": {},
   "source": [
    "## Hyperparameter tuning for RandomForestClassifier"
   ]
  },
  {
   "cell_type": "code",
   "execution_count": 734,
   "metadata": {
    "collapsed": true
   },
   "outputs": [],
   "source": [
    "parameters = {'n_estimators': np.arange(100,300,50),\n",
    "              'max_features': ['auto', 'sqrt'],\n",
    "              'max_depth': [None, 5, 7, 10]}"
   ]
  },
  {
   "cell_type": "code",
   "execution_count": 735,
   "metadata": {},
   "outputs": [
    {
     "name": "stdout",
     "output_type": "stream",
     "text": [
      "{'n_estimators': 250, 'max_features': 'sqrt', 'max_depth': None}\n"
     ]
    }
   ],
   "source": [
    "rf_clf = RandomForestClassifier()\n",
    "opt_rfc = RandomizedSearchCV(rf_clf, parameters, n_jobs = 12)\n",
    "opt_rfc.fit(X_train,y_train)\n",
    "print(opt_rfc.best_params_)"
   ]
  },
  {
   "cell_type": "code",
   "execution_count": 737,
   "metadata": {},
   "outputs": [
    {
     "data": {
      "text/plain": [
       "RandomForestClassifier(bootstrap=True, class_weight=None, criterion='gini',\n",
       "            max_depth=None, max_features='sqrt', max_leaf_nodes=None,\n",
       "            min_impurity_decrease=0.0, min_impurity_split=None,\n",
       "            min_samples_leaf=1, min_samples_split=2,\n",
       "            min_weight_fraction_leaf=0.0, n_estimators=250, n_jobs=1,\n",
       "            oob_score=False, random_state=None, verbose=0,\n",
       "            warm_start=False)"
      ]
     },
     "execution_count": 737,
     "metadata": {},
     "output_type": "execute_result"
    }
   ],
   "source": [
    "rfc_opt = RandomForestClassifier(max_depth = None, max_features = 'sqrt', n_estimators = 250)\n",
    "rfc_opt.fit(X_train, y_train)"
   ]
  },
  {
   "cell_type": "code",
   "execution_count": 738,
   "metadata": {},
   "outputs": [
    {
     "name": "stdout",
     "output_type": "stream",
     "text": [
      "-----Training----- \n",
      "\n",
      "Train Accuracy:  1.0\n",
      "Train Recall:  1.0\n",
      "Train Confusion Matrix\n",
      "       0      1\n",
      "0  85396      0\n",
      "1      0  18790 \n",
      "\n",
      "-----Validation----- \n",
      "\n",
      "Test Accuracy:  0.951811160666\n",
      "Test Recall:  0.834695731153\n",
      "Test Confusion Matrix\n",
      "       0     1\n",
      "0  14743   340\n",
      "1    546  2757\n"
     ]
    }
   ],
   "source": [
    "evaluate(rfc_opt)"
   ]
  },
  {
   "cell_type": "markdown",
   "metadata": {},
   "source": [
    "## Hyper Parameter Optimization for GradientBoostingClassifier"
   ]
  },
  {
   "cell_type": "code",
   "execution_count": 739,
   "metadata": {
    "collapsed": true
   },
   "outputs": [],
   "source": [
    "parameters = {'learning_rate' : np.logspace(-2,0,num=3),\n",
    "              'n_estimators': [100, 200, 250], \n",
    "              'max_depth':[3,5,7], \n",
    "              'max_features': ['auto', 'sqrt']}"
   ]
  },
  {
   "cell_type": "code",
   "execution_count": 740,
   "metadata": {},
   "outputs": [
    {
     "name": "stdout",
     "output_type": "stream",
     "text": [
      "{'n_estimators': 250, 'max_features': 'sqrt', 'max_depth': 5, 'learning_rate': 0.10000000000000001}\n",
      "Accuracy: 0.823895824355\n"
     ]
    }
   ],
   "source": [
    "gbc = GradientBoostingClassifier()\n",
    "opt_gbc = RandomizedSearchCV(gbc, parameters, n_jobs = -1, scoring= 'recall', n_iter=9)\n",
    "opt_gbc.fit(X_train,y_train)\n",
    "print(opt_gbc.best_params_)\n",
    "print(\"Accuracy:\", opt_gbc.best_score_)"
   ]
  },
  {
   "cell_type": "code",
   "execution_count": 741,
   "metadata": {},
   "outputs": [
    {
     "data": {
      "text/plain": [
       "GradientBoostingClassifier(criterion='friedman_mse', init=None,\n",
       "              learning_rate=0.1, loss='deviance', max_depth=5,\n",
       "              max_features='sqrt', max_leaf_nodes=None,\n",
       "              min_impurity_decrease=0.0, min_impurity_split=None,\n",
       "              min_samples_leaf=1, min_samples_split=2,\n",
       "              min_weight_fraction_leaf=0.0, n_estimators=250,\n",
       "              presort='auto', random_state=None, subsample=1.0, verbose=0,\n",
       "              warm_start=False)"
      ]
     },
     "execution_count": 741,
     "metadata": {},
     "output_type": "execute_result"
    }
   ],
   "source": [
    "gbc_clf = GradientBoostingClassifier(n_estimators = 250, max_depth = 5, learning_rate = 0.1, max_features='sqrt')\n",
    "gbc_clf.fit(X_train, y_train)"
   ]
  },
  {
   "cell_type": "code",
   "execution_count": 742,
   "metadata": {},
   "outputs": [
    {
     "name": "stdout",
     "output_type": "stream",
     "text": [
      "-----Training----- \n",
      "\n",
      "Train Accuracy:  0.957297525579\n",
      "Train Recall:  0.852953698776\n",
      "Train Confusion Matrix\n",
      "       0      1\n",
      "0  83710   1686\n",
      "1   2763  16027 \n",
      "\n",
      "-----Validation----- \n",
      "\n",
      "Test Accuracy:  0.948928532579\n",
      "Test Recall:  0.829246139873\n",
      "Test Confusion Matrix\n",
      "       0     1\n",
      "0  14708   375\n",
      "1    564  2739\n"
     ]
    }
   ],
   "source": [
    "evaluate(gbc_clf)"
   ]
  },
  {
   "cell_type": "markdown",
   "metadata": {},
   "source": [
    "## Feature Selection "
   ]
  },
  {
   "cell_type": "markdown",
   "metadata": {},
   "source": [
    "#### Using Extra trees classifier and L1 for feature selection"
   ]
  },
  {
   "cell_type": "code",
   "execution_count": 743,
   "metadata": {},
   "outputs": [
    {
     "data": {
      "text/plain": [
       "Pipeline(memory=None,\n",
       "     steps=[('feature_selection', SelectFromModel(estimator=ExtraTreesClassifier(bootstrap=False, class_weight=None, criterion='gini',\n",
       "           max_depth=None, max_features='auto', max_leaf_nodes=None,\n",
       "           min_impurity_decrease=0.0, min_impurity_split=None,\n",
       "           min_samples_leaf=1, min_sam...n_jobs=1,\n",
       "            oob_score=False, random_state=None, verbose=0,\n",
       "            warm_start=False))])"
      ]
     },
     "execution_count": 743,
     "metadata": {},
     "output_type": "execute_result"
    }
   ],
   "source": [
    "clf_pipeline = Pipeline([\n",
    "  ('feature_selection', SelectFromModel(ExtraTreesClassifier(n_estimators=250, random_state=7))),\n",
    "  ('classification', RandomForestClassifier(max_depth = None, max_features = 'sqrt', n_estimators = 250))\n",
    "])\n",
    "clf_pipeline.fit(X_train, y_train)"
   ]
  },
  {
   "cell_type": "code",
   "execution_count": 744,
   "metadata": {},
   "outputs": [
    {
     "name": "stdout",
     "output_type": "stream",
     "text": [
      "-----Training----- \n",
      "\n",
      "Train Accuracy:  1.0\n",
      "Train Recall:  1.0\n",
      "Train Confusion Matrix\n",
      "       0      1\n",
      "0  85396      0\n",
      "1      0  18790 \n",
      "\n",
      "-----Validation----- \n",
      "\n",
      "Test Accuracy:  0.949689981508\n",
      "Test Recall:  0.829851650015\n",
      "Test Confusion Matrix\n",
      "       0     1\n",
      "0  14720   363\n",
      "1    562  2741\n"
     ]
    }
   ],
   "source": [
    "evaluate(clf_pipeline)"
   ]
  },
  {
   "cell_type": "markdown",
   "metadata": {},
   "source": [
    "#### Using LinearSVC and L1 for feature selection"
   ]
  },
  {
   "cell_type": "code",
   "execution_count": 745,
   "metadata": {},
   "outputs": [
    {
     "data": {
      "text/plain": [
       "Pipeline(memory=None,\n",
       "     steps=[('feature_selection', SelectFromModel(estimator=LinearSVC(C=1.0, class_weight=None, dual=False, fit_intercept=True,\n",
       "     intercept_scaling=1, loss='squared_hinge', max_iter=1000,\n",
       "     multi_class='ovr', penalty='l1', random_state=None, tol=0.0001,\n",
       "     verbose=0),\n",
       "        norm_order=1, prefit...n_jobs=1,\n",
       "            oob_score=False, random_state=None, verbose=0,\n",
       "            warm_start=False))])"
      ]
     },
     "execution_count": 745,
     "metadata": {},
     "output_type": "execute_result"
    }
   ],
   "source": [
    "svc_pipeline = Pipeline([\n",
    "  ('feature_selection', SelectFromModel(LinearSVC(penalty=\"l1\", dual = False))),\n",
    "  ('classification', RandomForestClassifier(max_depth = None, max_features = 'sqrt', n_estimators = 250))\n",
    "])\n",
    "svc_pipeline.fit(X_train, y_train)"
   ]
  },
  {
   "cell_type": "code",
   "execution_count": 746,
   "metadata": {},
   "outputs": [
    {
     "name": "stdout",
     "output_type": "stream",
     "text": [
      "-----Training----- \n",
      "\n",
      "Train Accuracy:  1.0\n",
      "Train Recall:  1.0\n",
      "Train Confusion Matrix\n",
      "       0      1\n",
      "0  85396      0\n",
      "1      0  18790 \n",
      "\n",
      "-----Validation----- \n",
      "\n",
      "Test Accuracy:  0.9508321549\n",
      "Test Recall:  0.827429609446\n",
      "Test Confusion Matrix\n",
      "       0     1\n",
      "0  14749   334\n",
      "1    570  2733\n"
     ]
    }
   ],
   "source": [
    "evaluate(svc_pipeline)"
   ]
  },
  {
   "cell_type": "markdown",
   "metadata": {},
   "source": [
    "#### Using Logistic Regression and L1 for feature selection"
   ]
  },
  {
   "cell_type": "code",
   "execution_count": 747,
   "metadata": {},
   "outputs": [
    {
     "data": {
      "text/plain": [
       "Pipeline(memory=None,\n",
       "     steps=[('feature_selection', SelectFromModel(estimator=LogisticRegression(C=1.0, class_weight=None, dual=False, fit_intercept=True,\n",
       "          intercept_scaling=1, max_iter=100, multi_class='ovr', n_jobs=1,\n",
       "          penalty='l1', random_state=None, solver='liblinear', tol=0.0001,\n",
       "          verbose=0...n_jobs=1,\n",
       "            oob_score=False, random_state=None, verbose=0,\n",
       "            warm_start=False))])"
      ]
     },
     "execution_count": 747,
     "metadata": {},
     "output_type": "execute_result"
    }
   ],
   "source": [
    "lr_pipeline = Pipeline([\n",
    "  ('feature_selection', SelectFromModel(LogisticRegression(penalty=\"l1\"))),\n",
    "  ('classification', RandomForestClassifier(max_depth = None, max_features = 'sqrt', n_estimators = 250))\n",
    "])\n",
    "lr_pipeline.fit(X_train, y_train)"
   ]
  },
  {
   "cell_type": "code",
   "execution_count": 748,
   "metadata": {},
   "outputs": [
    {
     "name": "stdout",
     "output_type": "stream",
     "text": [
      "-----Training----- \n",
      "\n",
      "Train Accuracy:  1.0\n",
      "Train Recall:  1.0\n",
      "Train Confusion Matrix\n",
      "       0      1\n",
      "0  85396      0\n",
      "1      0  18790 \n",
      "\n",
      "-----Validation----- \n",
      "\n",
      "Test Accuracy:  0.951104100946\n",
      "Test Recall:  0.832879200727\n",
      "Test Confusion Matrix\n",
      "       0     1\n",
      "0  14736   347\n",
      "1    552  2751\n"
     ]
    }
   ],
   "source": [
    "evaluate(lr_pipeline)"
   ]
  },
  {
   "cell_type": "markdown",
   "metadata": {},
   "source": [
    "#### Using Logistic Regression and Elasticnet for feature selection"
   ]
  },
  {
   "cell_type": "code",
   "execution_count": 749,
   "metadata": {},
   "outputs": [
    {
     "name": "stderr",
     "output_type": "stream",
     "text": [
      "/Users/avinash/anaconda3/lib/python3.6/site-packages/sklearn/linear_model/stochastic_gradient.py:128: FutureWarning: max_iter and tol parameters have been added in <class 'sklearn.linear_model.stochastic_gradient.SGDClassifier'> in 0.19. If both are left unset, they default to max_iter=5 and tol=None. If tol is not None, max_iter defaults to max_iter=1000. From 0.21, default max_iter will be 1000, and default tol will be 1e-3.\n",
      "  \"and default tol will be 1e-3.\" % type(self), FutureWarning)\n"
     ]
    },
    {
     "data": {
      "text/plain": [
       "Pipeline(memory=None,\n",
       "     steps=[('feature_selection', SelectFromModel(estimator=SGDClassifier(alpha=0.0001, average=False, class_weight=None, epsilon=0.1,\n",
       "       eta0=0.0, fit_intercept=True, l1_ratio=0.15,\n",
       "       learning_rate='optimal', loss='hinge', max_iter=None, n_iter=None,\n",
       "       n_jobs=1, penalty='elasticnet', power...n_jobs=1,\n",
       "            oob_score=False, random_state=None, verbose=0,\n",
       "            warm_start=False))])"
      ]
     },
     "execution_count": 749,
     "metadata": {},
     "output_type": "execute_result"
    }
   ],
   "source": [
    "lr_pipeline = Pipeline([\n",
    "  ('feature_selection', SelectFromModel(SGDClassifier(penalty=\"elasticnet\"))),\n",
    "  ('classification', RandomForestClassifier(max_depth = None, max_features = 'sqrt', n_estimators = 250))\n",
    "])\n",
    "lr_pipeline.fit(X_train, y_train)"
   ]
  },
  {
   "cell_type": "code",
   "execution_count": 750,
   "metadata": {},
   "outputs": [
    {
     "name": "stdout",
     "output_type": "stream",
     "text": [
      "-----Training----- \n",
      "\n",
      "Train Accuracy:  1.0\n",
      "Train Recall:  1.0\n",
      "Train Confusion Matrix\n",
      "       0      1\n",
      "0  85396      0\n",
      "1      0  18790 \n",
      "\n",
      "-----Validation----- \n",
      "\n",
      "Test Accuracy:  0.934624170565\n",
      "Test Recall:  0.775052982137\n",
      "Test Confusion Matrix\n",
      "       0     1\n",
      "0  14624   459\n",
      "1    743  2560\n"
     ]
    }
   ],
   "source": [
    "evaluate(lr_pipeline)"
   ]
  },
  {
   "cell_type": "markdown",
   "metadata": {},
   "source": [
    "# Test scores for the final model"
   ]
  },
  {
   "cell_type": "code",
   "execution_count": 751,
   "metadata": {
    "scrolled": false
   },
   "outputs": [
    {
     "name": "stdout",
     "output_type": "stream",
     "text": [
      "-----Testing----- \n",
      "\n",
      "Train Accuracy:  0.952059544173\n",
      "Test Recall:  0.836269430052\n",
      "Test Confusion Matrix\n",
      "       0     1\n",
      "0  17366   405\n",
      "1    632  3228 \n",
      "\n"
     ]
    }
   ],
   "source": [
    "evaluate_test(rfc_opt)"
   ]
  },
  {
   "cell_type": "code",
   "execution_count": 752,
   "metadata": {},
   "outputs": [
    {
     "data": {
      "text/plain": [
       "0.90673974569384885"
      ]
     },
     "execution_count": 752,
     "metadata": {},
     "output_type": "execute_result"
    }
   ],
   "source": [
    "roc_auc_score(y_score=rfc_opt.predict(X_test), y_true=y_test)"
   ]
  },
  {
   "cell_type": "markdown",
   "metadata": {},
   "source": [
    "## Saving final model"
   ]
  },
  {
   "cell_type": "code",
   "execution_count": 754,
   "metadata": {
    "collapsed": true
   },
   "outputs": [],
   "source": [
    "save_classifier = open(\"task1_ubmodel.pickle\", \"wb\")\n",
    "pickle.dump(rfc_opt, save_classifier)\n",
    "save_classifier.close()"
   ]
  },
  {
   "cell_type": "code",
   "execution_count": 755,
   "metadata": {
    "collapsed": true
   },
   "outputs": [],
   "source": [
    "with open('../results/pickles/task1_ubmodel.pickle', 'wb') as save_model:\n",
    "    pickle.dump(rfc_opt, save_model)"
   ]
  },
  {
   "cell_type": "code",
   "execution_count": null,
   "metadata": {
    "collapsed": true
   },
   "outputs": [],
   "source": []
  }
 ],
 "metadata": {
  "kernelspec": {
   "display_name": "Python 3",
   "language": "python",
   "name": "python3"
  },
  "language_info": {
   "codemirror_mode": {
    "name": "ipython",
    "version": 3
   },
   "file_extension": ".py",
   "mimetype": "text/x-python",
   "name": "python",
   "nbconvert_exporter": "python",
   "pygments_lexer": "ipython3",
   "version": "3.6.3"
  }
 },
 "nbformat": 4,
 "nbformat_minor": 2
}
