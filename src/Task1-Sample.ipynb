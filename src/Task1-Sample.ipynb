{
 "cells": [
  {
   "cell_type": "code",
   "execution_count": 1,
   "metadata": {
    "collapsed": true
   },
   "outputs": [],
   "source": [
    "# Importing dependencies\n",
    "import pandas as pd\n",
    "import matplotlib.pyplot as plt\n",
    "\n",
    "# Data preprocessing\n",
    "from sklearn import preprocessing\n",
    "\n",
    "# Evaluation metrics\n",
    "from sklearn.metrics import confusion_matrix, recall_score, roc_auc_score\n",
    "\n",
    "# Classification models\n",
    "from sklearn.ensemble import RandomForestClassifier\n",
    "\n",
    "# To save the final model\n",
    "import _pickle as pickle"
   ]
  },
  {
   "cell_type": "code",
   "execution_count": 2,
   "metadata": {
    "collapsed": true
   },
   "outputs": [],
   "source": [
    "%matplotlib inline"
   ]
  },
  {
   "cell_type": "code",
   "execution_count": 3,
   "metadata": {
    "collapsed": true
   },
   "outputs": [],
   "source": [
    "from task1 import process_data"
   ]
  },
  {
   "cell_type": "code",
   "execution_count": 4,
   "metadata": {
    "collapsed": true
   },
   "outputs": [],
   "source": [
    "# Reading sample data\n",
    "sample_data = pd.read_csv(\"../results/task1_sample.csv\")"
   ]
  },
  {
   "cell_type": "code",
   "execution_count": 5,
   "metadata": {},
   "outputs": [
    {
     "data": {
      "text/html": [
       "<div>\n",
       "<style>\n",
       "    .dataframe thead tr:only-child th {\n",
       "        text-align: right;\n",
       "    }\n",
       "\n",
       "    .dataframe thead th {\n",
       "        text-align: left;\n",
       "    }\n",
       "\n",
       "    .dataframe tbody tr th {\n",
       "        vertical-align: top;\n",
       "    }\n",
       "</style>\n",
       "<table border=\"1\" class=\"dataframe\">\n",
       "  <thead>\n",
       "    <tr style=\"text-align: right;\">\n",
       "      <th></th>\n",
       "      <th>operational_setting_1</th>\n",
       "      <th>operational_setting_2</th>\n",
       "      <th>operational_setting_3</th>\n",
       "      <th>sensor_measurement_1</th>\n",
       "      <th>sensor_measurement_2</th>\n",
       "      <th>sensor_measurement_3</th>\n",
       "      <th>sensor_measurement_4</th>\n",
       "      <th>sensor_measurement_5</th>\n",
       "      <th>sensor_measurement_6</th>\n",
       "      <th>sensor_measurement_7</th>\n",
       "      <th>...</th>\n",
       "      <th>sensor_measurement_12</th>\n",
       "      <th>sensor_measurement_13</th>\n",
       "      <th>sensor_measurement_14</th>\n",
       "      <th>sensor_measurement_15</th>\n",
       "      <th>sensor_measurement_16</th>\n",
       "      <th>sensor_measurement_17</th>\n",
       "      <th>sensor_measurement_18</th>\n",
       "      <th>sensor_measurement_19</th>\n",
       "      <th>sensor_measurement_20</th>\n",
       "      <th>sensor_measurement_21</th>\n",
       "    </tr>\n",
       "  </thead>\n",
       "  <tbody>\n",
       "    <tr>\n",
       "      <th>0</th>\n",
       "      <td>42.0007</td>\n",
       "      <td>0.8415</td>\n",
       "      <td>High</td>\n",
       "      <td>445.00</td>\n",
       "      <td>NaN</td>\n",
       "      <td>1362.47</td>\n",
       "      <td>1143.17</td>\n",
       "      <td>3.91</td>\n",
       "      <td>5.70</td>\n",
       "      <td>142.53</td>\n",
       "      <td>...</td>\n",
       "      <td>133.75</td>\n",
       "      <td>2388.50</td>\n",
       "      <td>8129.92</td>\n",
       "      <td>9.1182</td>\n",
       "      <td>NaN</td>\n",
       "      <td>332.0</td>\n",
       "      <td>2212.0</td>\n",
       "      <td>100.00</td>\n",
       "      <td>10.77</td>\n",
       "      <td>6.5717</td>\n",
       "    </tr>\n",
       "    <tr>\n",
       "      <th>1</th>\n",
       "      <td>-0.0023</td>\n",
       "      <td>0.0004</td>\n",
       "      <td>High</td>\n",
       "      <td>518.67</td>\n",
       "      <td>642.33</td>\n",
       "      <td>1581.03</td>\n",
       "      <td>1400.06</td>\n",
       "      <td>14.62</td>\n",
       "      <td>21.61</td>\n",
       "      <td>554.60</td>\n",
       "      <td>...</td>\n",
       "      <td>522.19</td>\n",
       "      <td>2388.00</td>\n",
       "      <td>8135.70</td>\n",
       "      <td>8.3817</td>\n",
       "      <td>0.03</td>\n",
       "      <td>393.0</td>\n",
       "      <td>2388.0</td>\n",
       "      <td>100.00</td>\n",
       "      <td>39.07</td>\n",
       "      <td>23.3958</td>\n",
       "    </tr>\n",
       "    <tr>\n",
       "      <th>2</th>\n",
       "      <td>NaN</td>\n",
       "      <td>0.6216</td>\n",
       "      <td>Low</td>\n",
       "      <td>462.54</td>\n",
       "      <td>536.71</td>\n",
       "      <td>1250.87</td>\n",
       "      <td>1037.52</td>\n",
       "      <td>7.05</td>\n",
       "      <td>9.00</td>\n",
       "      <td>174.56</td>\n",
       "      <td>...</td>\n",
       "      <td>163.11</td>\n",
       "      <td>2028.06</td>\n",
       "      <td>7867.90</td>\n",
       "      <td>10.8827</td>\n",
       "      <td>NaN</td>\n",
       "      <td>306.0</td>\n",
       "      <td>1915.0</td>\n",
       "      <td>84.93</td>\n",
       "      <td>14.33</td>\n",
       "      <td>8.6202</td>\n",
       "    </tr>\n",
       "    <tr>\n",
       "      <th>3</th>\n",
       "      <td>42.0006</td>\n",
       "      <td>NaN</td>\n",
       "      <td>High</td>\n",
       "      <td>NaN</td>\n",
       "      <td>549.28</td>\n",
       "      <td>1349.42</td>\n",
       "      <td>1114.02</td>\n",
       "      <td>3.91</td>\n",
       "      <td>5.71</td>\n",
       "      <td>137.97</td>\n",
       "      <td>...</td>\n",
       "      <td>130.58</td>\n",
       "      <td>2387.71</td>\n",
       "      <td>8074.81</td>\n",
       "      <td>9.3776</td>\n",
       "      <td>0.02</td>\n",
       "      <td>NaN</td>\n",
       "      <td>2212.0</td>\n",
       "      <td>100.00</td>\n",
       "      <td>10.60</td>\n",
       "      <td>6.2614</td>\n",
       "    </tr>\n",
       "    <tr>\n",
       "      <th>4</th>\n",
       "      <td>-0.0016</td>\n",
       "      <td>0.0004</td>\n",
       "      <td>High</td>\n",
       "      <td>518.67</td>\n",
       "      <td>643.84</td>\n",
       "      <td>1604.53</td>\n",
       "      <td>1431.41</td>\n",
       "      <td>14.62</td>\n",
       "      <td>21.61</td>\n",
       "      <td>551.30</td>\n",
       "      <td>...</td>\n",
       "      <td>519.44</td>\n",
       "      <td>2388.24</td>\n",
       "      <td>8135.95</td>\n",
       "      <td>8.5223</td>\n",
       "      <td>0.03</td>\n",
       "      <td>396.0</td>\n",
       "      <td>2388.0</td>\n",
       "      <td>100.00</td>\n",
       "      <td>38.39</td>\n",
       "      <td>23.0682</td>\n",
       "    </tr>\n",
       "  </tbody>\n",
       "</table>\n",
       "<p>5 rows × 24 columns</p>\n",
       "</div>"
      ],
      "text/plain": [
       "   operational_setting_1  operational_setting_2 operational_setting_3  \\\n",
       "0                42.0007                 0.8415                  High   \n",
       "1                -0.0023                 0.0004                  High   \n",
       "2                    NaN                 0.6216                   Low   \n",
       "3                42.0006                    NaN                  High   \n",
       "4                -0.0016                 0.0004                  High   \n",
       "\n",
       "   sensor_measurement_1  sensor_measurement_2  sensor_measurement_3  \\\n",
       "0                445.00                   NaN               1362.47   \n",
       "1                518.67                642.33               1581.03   \n",
       "2                462.54                536.71               1250.87   \n",
       "3                   NaN                549.28               1349.42   \n",
       "4                518.67                643.84               1604.53   \n",
       "\n",
       "   sensor_measurement_4  sensor_measurement_5  sensor_measurement_6  \\\n",
       "0               1143.17                  3.91                  5.70   \n",
       "1               1400.06                 14.62                 21.61   \n",
       "2               1037.52                  7.05                  9.00   \n",
       "3               1114.02                  3.91                  5.71   \n",
       "4               1431.41                 14.62                 21.61   \n",
       "\n",
       "   sensor_measurement_7          ...            sensor_measurement_12  \\\n",
       "0                142.53          ...                           133.75   \n",
       "1                554.60          ...                           522.19   \n",
       "2                174.56          ...                           163.11   \n",
       "3                137.97          ...                           130.58   \n",
       "4                551.30          ...                           519.44   \n",
       "\n",
       "   sensor_measurement_13  sensor_measurement_14  sensor_measurement_15  \\\n",
       "0                2388.50                8129.92                 9.1182   \n",
       "1                2388.00                8135.70                 8.3817   \n",
       "2                2028.06                7867.90                10.8827   \n",
       "3                2387.71                8074.81                 9.3776   \n",
       "4                2388.24                8135.95                 8.5223   \n",
       "\n",
       "   sensor_measurement_16  sensor_measurement_17  sensor_measurement_18  \\\n",
       "0                    NaN                  332.0                 2212.0   \n",
       "1                   0.03                  393.0                 2388.0   \n",
       "2                    NaN                  306.0                 1915.0   \n",
       "3                   0.02                    NaN                 2212.0   \n",
       "4                   0.03                  396.0                 2388.0   \n",
       "\n",
       "   sensor_measurement_19  sensor_measurement_20  sensor_measurement_21  \n",
       "0                 100.00                  10.77                 6.5717  \n",
       "1                 100.00                  39.07                23.3958  \n",
       "2                  84.93                  14.33                 8.6202  \n",
       "3                 100.00                  10.60                 6.2614  \n",
       "4                 100.00                  38.39                23.0682  \n",
       "\n",
       "[5 rows x 24 columns]"
      ]
     },
     "execution_count": 5,
     "metadata": {},
     "output_type": "execute_result"
    }
   ],
   "source": [
    "sample_data.head()"
   ]
  },
  {
   "cell_type": "code",
   "execution_count": 6,
   "metadata": {
    "scrolled": true
   },
   "outputs": [
    {
     "name": "stdout",
     "output_type": "stream",
     "text": [
      "==== Processing operational_setting_1 ====\n",
      " \t Imputing \n",
      "\n",
      "==== Processing operational_setting_2 ====\n",
      " \t Imputing \n",
      "\n",
      "==== Processing operational_setting_3 ====\n",
      " \t Imputing \n",
      "\n",
      "==== Processing sensor_measurement_1 ====\n",
      " \t Imputing \n",
      "\n",
      "==== Processing sensor_measurement_2 ====\n",
      " \t Imputing \n",
      "\n",
      "==== Processing sensor_measurement_3 ====\n",
      " \t Imputing \n",
      "\n",
      "==== Processing sensor_measurement_4 ====\n",
      " \t Imputing \n",
      "\n",
      "==== Processing sensor_measurement_5 ====\n",
      " \t Imputing \n",
      "\n",
      "==== Processing sensor_measurement_6 ====\n",
      " \t Imputing \n",
      "\n",
      "==== Processing sensor_measurement_7 ====\n",
      " \t Imputing \n",
      "\n",
      "==== Processing sensor_measurement_8 ====\n",
      " \t Imputing \n",
      "\n",
      "==== Processing sensor_measurement_9 ====\n",
      " \t Imputing \n",
      "\n",
      "==== Processing sensor_measurement_10 ====\n",
      " \t Imputing \n",
      "\n",
      "==== Processing sensor_measurement_11 ====\n",
      " \t Imputing \n",
      "\n",
      "==== Processing sensor_measurement_12 ====\n",
      " \t Imputing \n",
      "\n",
      "==== Processing sensor_measurement_13 ====\n",
      " \t Imputing \n",
      "\n",
      "==== Processing sensor_measurement_14 ====\n",
      " \t Imputing \n",
      "\n",
      "==== Processing sensor_measurement_15 ====\n",
      " \t Imputing \n",
      "\n",
      "==== Processing sensor_measurement_16 ====\n",
      " \t Imputing \n",
      "\n",
      "==== Processing sensor_measurement_17 ====\n",
      " \t Imputing \n",
      "\n",
      "==== Processing sensor_measurement_18 ====\n",
      " \t Imputing \n",
      "\n",
      "==== Processing sensor_measurement_19 ====\n",
      " \t Imputing \n",
      "\n",
      "==== Processing sensor_measurement_20 ====\n",
      " \t Imputing \n",
      "\n",
      "==== Processing sensor_measurement_21 ====\n",
      " \t Imputing \n",
      "\n"
     ]
    }
   ],
   "source": [
    "X = process_data(sample_data)"
   ]
  },
  {
   "cell_type": "code",
   "execution_count": 7,
   "metadata": {},
   "outputs": [
    {
     "data": {
      "text/plain": [
       "<matplotlib.axes._subplots.AxesSubplot at 0x1144c9710>"
      ]
     },
     "execution_count": 7,
     "metadata": {},
     "output_type": "execute_result"
    },
    {
     "data": {
      "image/png": "[encoded data removed]",
      "text/plain": [
       "<matplotlib.figure.Figure at 0x11449fdd8>"
      ]
     },
     "metadata": {},
     "output_type": "display_data"
    }
   ],
   "source": [
    "X.isnull().sum().plot(kind='bar')"
   ]
  },
  {
   "cell_type": "markdown",
   "metadata": {},
   "source": [
    "# Loading model"
   ]
  },
  {
   "cell_type": "code",
   "execution_count": 8,
   "metadata": {},
   "outputs": [],
   "source": [
    "with open('../results/pickles/task1_model.pickle', 'rb') as load_model:\n",
    "    task1_model = pickle.load(load_model)"
   ]
  },
  {
   "cell_type": "markdown",
   "metadata": {},
   "source": [
    "## Making Predictions"
   ]
  },
  {
   "cell_type": "code",
   "execution_count": 9,
   "metadata": {},
   "outputs": [
    {
     "data": {
      "text/plain": [
       "array([1, 0, 0, ..., 0, 1, 1])"
      ]
     },
     "execution_count": 9,
     "metadata": {},
     "output_type": "execute_result"
    }
   ],
   "source": [
    "task1_model.predict(X)"
   ]
  },
  {
   "cell_type": "code",
   "execution_count": null,
   "metadata": {
    "collapsed": true
   },
   "outputs": [],
   "source": []
  }
 ],
 "metadata": {
  "kernelspec": {
   "display_name": "Python 3",
   "language": "python",
   "name": "python3"
  },
  "language_info": {
   "codemirror_mode": {
    "name": "ipython",
    "version": 3
   },
   "file_extension": ".py",
   "mimetype": "text/x-python",
   "name": "python",
   "nbconvert_exporter": "python",
   "pygments_lexer": "ipython3",
   "version": "3.6.3"
  }
 },
 "nbformat": 4,
 "nbformat_minor": 2
}
