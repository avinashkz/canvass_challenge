{
 "cells": [
  {
   "cell_type": "code",
   "execution_count": 0,
   "metadata": {
    "colab": {
     "autoexec": {
      "startup": false,
      "wait_interval": 0
     }
    },
    "colab_type": "code",
    "collapsed": true,
    "id": "lxURhwf8Id_s"
   },
   "outputs": [],
   "source": [
    "import numpy as np\n",
    "import pandas as pd\n",
    "import matplotlib.pyplot as plt\n",
    "%matplotlib inline"
   ]
  },
  {
   "cell_type": "code",
   "execution_count": 0,
   "metadata": {
    "colab": {
     "autoexec": {
      "startup": false,
      "wait_interval": 0
     }
    },
    "colab_type": "code",
    "collapsed": true,
    "id": "NKry2aCZId_w"
   },
   "outputs": [],
   "source": [
    "# Data preprocessing\n",
    "from sklearn.preprocessing import Imputer\n",
    "from sklearn.preprocessing import LabelBinarizer\n",
    "from sklearn.model_selection import train_test_split"
   ]
  },
  {
   "cell_type": "code",
   "execution_count": 0,
   "metadata": {
    "colab": {
     "autoexec": {
      "startup": false,
      "wait_interval": 0
     }
    },
    "colab_type": "code",
    "collapsed": true,
    "id": "Z8zqrqUCId_1"
   },
   "outputs": [],
   "source": [
    "# For imputing missing values for level_binary\n",
    "from sklearn.model_selection import cross_val_score\n",
    "from sklearn.metrics import mean_squared_error\n",
    "from sklearn.ensemble import GradientBoostingClassifier"
   ]
  },
  {
   "cell_type": "code",
   "execution_count": 0,
   "metadata": {
    "colab": {
     "autoexec": {
      "startup": false,
      "wait_interval": 0
     }
    },
    "colab_type": "code",
    "collapsed": true,
    "id": "Nk2YCTyjId_3"
   },
   "outputs": [],
   "source": [
    "# Libraries for predicting\n",
    "from sklearn.linear_model import LinearRegression, Ridge, Lasso\n",
    "from sklearn.neighbors import KNeighborsRegressor\n",
    "from sklearn.ensemble import RandomForestRegressor, GradientBoostingRegressor, AdaBoostRegressor\n",
    "from sklearn.svm import SVR\n",
    "from xgboost import XGBRegressor"
   ]
  },
  {
   "cell_type": "code",
   "execution_count": 0,
   "metadata": {
    "colab": {
     "autoexec": {
      "startup": false,
      "wait_interval": 0
     }
    },
    "colab_type": "code",
    "collapsed": true,
    "id": "d7eKxVdIId_7"
   },
   "outputs": [],
   "source": [
    "# For imputation\n",
    "from sklearn.ensemble import RandomForestClassifier\n",
    "from statistics import mode"
   ]
  },
  {
   "cell_type": "code",
   "execution_count": 0,
   "metadata": {
    "colab": {
     "autoexec": {
      "startup": false,
      "wait_interval": 0
     }
    },
    "colab_type": "code",
    "collapsed": true,
    "id": "Tjbz0kFUId__"
   },
   "outputs": [],
   "source": [
    "# Libraries for hyperparameter optimization\n",
    "from sklearn.model_selection import RandomizedSearchCV\n",
    "from sklearn.model_selection import GridSearchCV"
   ]
  },
  {
   "cell_type": "code",
   "execution_count": 0,
   "metadata": {
    "colab": {
     "autoexec": {
      "startup": false,
      "wait_interval": 0
     }
    },
    "colab_type": "code",
    "collapsed": true,
    "id": "BimTFP_TIeAC"
   },
   "outputs": [],
   "source": [
    "# Libraries for feature selection\n",
    "from sklearn.ensemble import ExtraTreesRegressor\n",
    "from sklearn.pipeline import Pipeline\n",
    "from sklearn.feature_selection import SelectFromModel\n",
    "from sklearn.svm import LinearSVC, LinearSVR"
   ]
  },
  {
   "cell_type": "code",
   "execution_count": 30,
   "metadata": {
    "colab": {
     "autoexec": {
      "startup": false,
      "wait_interval": 0
     },
     "base_uri": "https://localhost:8080/",
     "height": 34
    },
    "colab_type": "code",
    "executionInfo": {
     "elapsed": 8003,
     "status": "ok",
     "timestamp": 1532205864937,
     "user": {
      "displayName": "Avinash Prabhakaran",
      "photoUrl": "//lh4.googleusercontent.com/-vhRt4Oyme1Q/AAAAAAAAAAI/AAAAAAAAB0s/y5DG4niLnGw/s50-c-k-no/photo.jpg",
      "userId": "117019898540781408437"
     },
     "user_tz": 420
    },
    "id": "gkuaR1SbQAa6",
    "outputId": "a8fe0bad-ff03-4774-8de7-9a9a0a509691"
   },
   "outputs": [
    {
     "name": "stderr",
     "output_type": "stream",
     "text": [
      "Using TensorFlow backend.\n"
     ]
    }
   ],
   "source": [
    "# Keras\n",
    "from keras.models import Sequential\n",
    "from keras.layers import Dense\n",
    "from sklearn.preprocessing import MinMaxScaler"
   ]
  },
  {
   "cell_type": "code",
   "execution_count": 0,
   "metadata": {
    "colab": {
     "autoexec": {
      "startup": false,
      "wait_interval": 0
     }
    },
    "colab_type": "code",
    "collapsed": true,
    "id": "kPtVCOrrIeAF"
   },
   "outputs": [],
   "source": [
    "#To save the final model\n",
    "import pickle"
   ]
  },
  {
   "cell_type": "code",
   "execution_count": 10,
   "metadata": {
    "colab": {
     "autoexec": {
      "startup": false,
      "wait_interval": 0
     },
     "base_uri": "https://localhost:8080/",
     "height": 244
    },
    "colab_type": "code",
    "executionInfo": {
     "elapsed": 1773,
     "status": "ok",
     "timestamp": 1532205534868,
     "user": {
      "displayName": "Avinash Prabhakaran",
      "photoUrl": "//lh4.googleusercontent.com/-vhRt4Oyme1Q/AAAAAAAAAAI/AAAAAAAAB0s/y5DG4niLnGw/s50-c-k-no/photo.jpg",
      "userId": "117019898540781408437"
     },
     "user_tz": 420
    },
    "id": "B_cEJELSLN0Z",
    "outputId": "1d9641a9-31f5-4e36-e7db-99543f0ff433"
   },
   "outputs": [
    {
     "name": "stdout",
     "output_type": "stream",
     "text": [
      "--2018-07-21 20:38:54--  https://raw.githubusercontent.com/avinashkz/canvass_challenge/master/results/processed_data/forecasting_processed.csv\r\n",
      "Resolving raw.githubusercontent.com (raw.githubusercontent.com)... 151.101.0.133, 151.101.64.133, 151.101.128.133, ...\n",
      "Connecting to raw.githubusercontent.com (raw.githubusercontent.com)|151.101.0.133|:443... connected.\n",
      "HTTP request sent, awaiting response... 200 OK\n",
      "Length: 723063 (706K) [text/plain]\n",
      "Saving to: ‘forecasting_processed.csv’\n",
      "\n",
      "forecasting_process 100%[===================>] 706.12K  --.-KB/s    in 0.09s   \n",
      "\n",
      "2018-07-21 20:38:54 (7.57 MB/s) - ‘forecasting_processed.csv’ saved [723063/723063]\n",
      "\n"
     ]
    }
   ],
   "source": [
    "!wget https://raw.githubusercontent.com/avinashkz/canvass_challenge/master/results/processed_data/forecasting_processed.csv"
   ]
  },
  {
   "cell_type": "code",
   "execution_count": 0,
   "metadata": {
    "colab": {
     "autoexec": {
      "startup": false,
      "wait_interval": 0
     }
    },
    "colab_type": "code",
    "collapsed": true,
    "id": "cHvG5Y1-IeAH"
   },
   "outputs": [],
   "source": [
    "#Load data\n",
    "reg_data = pd.read_csv(\"forecasting_processed.csv\")"
   ]
  },
  {
   "cell_type": "code",
   "execution_count": 13,
   "metadata": {
    "colab": {
     "autoexec": {
      "startup": false,
      "wait_interval": 0
     },
     "base_uri": "https://localhost:8080/",
     "height": 34
    },
    "colab_type": "code",
    "executionInfo": {
     "elapsed": 274,
     "status": "ok",
     "timestamp": 1532205539468,
     "user": {
      "displayName": "Avinash Prabhakaran",
      "photoUrl": "//lh4.googleusercontent.com/-vhRt4Oyme1Q/AAAAAAAAAAI/AAAAAAAAB0s/y5DG4niLnGw/s50-c-k-no/photo.jpg",
      "userId": "117019898540781408437"
     },
     "user_tz": 420
    },
    "id": "X2ORsJ22IeAJ",
    "outputId": "e58750a0-978c-4312-995b-1e43f194b480"
   },
   "outputs": [
    {
     "data": {
      "text/plain": [
       "(8415, 15)"
      ]
     },
     "execution_count": 13,
     "metadata": {
      "tags": []
     },
     "output_type": "execute_result"
    }
   ],
   "source": [
    "reg_data.shape"
   ]
  },
  {
   "cell_type": "code",
   "execution_count": 14,
   "metadata": {
    "colab": {
     "autoexec": {
      "startup": false,
      "wait_interval": 0
     },
     "base_uri": "https://localhost:8080/",
     "height": 204
    },
    "colab_type": "code",
    "executionInfo": {
     "elapsed": 340,
     "status": "ok",
     "timestamp": 1532205541911,
     "user": {
      "displayName": "Avinash Prabhakaran",
      "photoUrl": "//lh4.googleusercontent.com/-vhRt4Oyme1Q/AAAAAAAAAAI/AAAAAAAAB0s/y5DG4niLnGw/s50-c-k-no/photo.jpg",
      "userId": "117019898540781408437"
     },
     "user_tz": 420
    },
    "id": "WyXi61ANIeAO",
    "outputId": "1f896a5d-031d-498b-fef6-e68ff685711a"
   },
   "outputs": [
    {
     "data": {
      "text/html": [
       "<div>\n",
       "<style scoped>\n",
       "    .dataframe tbody tr th:only-of-type {\n",
       "        vertical-align: middle;\n",
       "    }\n",
       "\n",
       "    .dataframe tbody tr th {\n",
       "        vertical-align: top;\n",
       "    }\n",
       "\n",
       "    .dataframe thead th {\n",
       "        text-align: right;\n",
       "    }\n",
       "</style>\n",
       "<table border=\"1\" class=\"dataframe\">\n",
       "  <thead>\n",
       "    <tr style=\"text-align: right;\">\n",
       "      <th></th>\n",
       "      <th>time_stamp</th>\n",
       "      <th>y</th>\n",
       "      <th>co_gt</th>\n",
       "      <th>nhmc</th>\n",
       "      <th>c6h6</th>\n",
       "      <th>s2</th>\n",
       "      <th>nox</th>\n",
       "      <th>s3</th>\n",
       "      <th>no2</th>\n",
       "      <th>s4</th>\n",
       "      <th>s5</th>\n",
       "      <th>t</th>\n",
       "      <th>rh</th>\n",
       "      <th>ah</th>\n",
       "      <th>level</th>\n",
       "    </tr>\n",
       "  </thead>\n",
       "  <tbody>\n",
       "    <tr>\n",
       "      <th>0</th>\n",
       "      <td>2004-03-10T12:30:00Z</td>\n",
       "      <td>1185</td>\n",
       "      <td>2.6</td>\n",
       "      <td>150.0</td>\n",
       "      <td>11.9</td>\n",
       "      <td>NaN</td>\n",
       "      <td>166.0</td>\n",
       "      <td>1056.0</td>\n",
       "      <td>113.0</td>\n",
       "      <td>1692.0</td>\n",
       "      <td>NaN</td>\n",
       "      <td>13.6</td>\n",
       "      <td>48.9</td>\n",
       "      <td>0.7578</td>\n",
       "      <td>High</td>\n",
       "    </tr>\n",
       "    <tr>\n",
       "      <th>1</th>\n",
       "      <td>2004-03-10T13:30:00Z</td>\n",
       "      <td>1136</td>\n",
       "      <td>2.0</td>\n",
       "      <td>112.0</td>\n",
       "      <td>9.4</td>\n",
       "      <td>955.0</td>\n",
       "      <td>103.0</td>\n",
       "      <td>1174.0</td>\n",
       "      <td>92.0</td>\n",
       "      <td>1559.0</td>\n",
       "      <td>972.0</td>\n",
       "      <td>13.3</td>\n",
       "      <td>47.7</td>\n",
       "      <td>0.7255</td>\n",
       "      <td>High</td>\n",
       "    </tr>\n",
       "    <tr>\n",
       "      <th>2</th>\n",
       "      <td>2004-03-10T14:30:00Z</td>\n",
       "      <td>1094</td>\n",
       "      <td>2.2</td>\n",
       "      <td>88.0</td>\n",
       "      <td>9.0</td>\n",
       "      <td>939.0</td>\n",
       "      <td>131.0</td>\n",
       "      <td>1140.0</td>\n",
       "      <td>114.0</td>\n",
       "      <td>1555.0</td>\n",
       "      <td>1074.0</td>\n",
       "      <td>11.9</td>\n",
       "      <td>NaN</td>\n",
       "      <td>0.7502</td>\n",
       "      <td>NaN</td>\n",
       "    </tr>\n",
       "    <tr>\n",
       "      <th>3</th>\n",
       "      <td>2004-03-10T15:30:00Z</td>\n",
       "      <td>1010</td>\n",
       "      <td>2.2</td>\n",
       "      <td>80.0</td>\n",
       "      <td>9.2</td>\n",
       "      <td>948.0</td>\n",
       "      <td>172.0</td>\n",
       "      <td>1092.0</td>\n",
       "      <td>122.0</td>\n",
       "      <td>1584.0</td>\n",
       "      <td>1203.0</td>\n",
       "      <td>11.0</td>\n",
       "      <td>60.0</td>\n",
       "      <td>0.7867</td>\n",
       "      <td>High</td>\n",
       "    </tr>\n",
       "    <tr>\n",
       "      <th>4</th>\n",
       "      <td>2004-03-10T16:30:00Z</td>\n",
       "      <td>1011</td>\n",
       "      <td>1.6</td>\n",
       "      <td>51.0</td>\n",
       "      <td>6.5</td>\n",
       "      <td>836.0</td>\n",
       "      <td>131.0</td>\n",
       "      <td>1205.0</td>\n",
       "      <td>116.0</td>\n",
       "      <td>NaN</td>\n",
       "      <td>1110.0</td>\n",
       "      <td>NaN</td>\n",
       "      <td>59.6</td>\n",
       "      <td>0.7888</td>\n",
       "      <td>High</td>\n",
       "    </tr>\n",
       "  </tbody>\n",
       "</table>\n",
       "</div>"
      ],
      "text/plain": [
       "             time_stamp     y  co_gt   nhmc  c6h6     s2    nox      s3  \\\n",
       "0  2004-03-10T12:30:00Z  1185    2.6  150.0  11.9    NaN  166.0  1056.0   \n",
       "1  2004-03-10T13:30:00Z  1136    2.0  112.0   9.4  955.0  103.0  1174.0   \n",
       "2  2004-03-10T14:30:00Z  1094    2.2   88.0   9.0  939.0  131.0  1140.0   \n",
       "3  2004-03-10T15:30:00Z  1010    2.2   80.0   9.2  948.0  172.0  1092.0   \n",
       "4  2004-03-10T16:30:00Z  1011    1.6   51.0   6.5  836.0  131.0  1205.0   \n",
       "\n",
       "     no2      s4      s5     t    rh      ah level  \n",
       "0  113.0  1692.0     NaN  13.6  48.9  0.7578  High  \n",
       "1   92.0  1559.0   972.0  13.3  47.7  0.7255  High  \n",
       "2  114.0  1555.0  1074.0  11.9   NaN  0.7502   NaN  \n",
       "3  122.0  1584.0  1203.0  11.0  60.0  0.7867  High  \n",
       "4  116.0     NaN  1110.0   NaN  59.6  0.7888  High  "
      ]
     },
     "execution_count": 14,
     "metadata": {
      "tags": []
     },
     "output_type": "execute_result"
    }
   ],
   "source": [
    "reg_data.head()"
   ]
  },
  {
   "cell_type": "code",
   "execution_count": 22,
   "metadata": {
    "colab": {
     "autoexec": {
      "startup": false,
      "wait_interval": 0
     },
     "base_uri": "https://localhost:8080/",
     "height": 34
    },
    "colab_type": "code",
    "executionInfo": {
     "elapsed": 1689,
     "status": "ok",
     "timestamp": 1532205790639,
     "user": {
      "displayName": "Avinash Prabhakaran",
      "photoUrl": "//lh4.googleusercontent.com/-vhRt4Oyme1Q/AAAAAAAAAAI/AAAAAAAAB0s/y5DG4niLnGw/s50-c-k-no/photo.jpg",
      "userId": "117019898540781408437"
     },
     "user_tz": 420
    },
    "id": "OMUUY93Tk7X2",
    "outputId": "c2cbb57e-ad1d-469a-9b7a-0785c6e34a0c"
   },
   "outputs": [
    {
     "name": "stdout",
     "output_type": "stream",
     "text": [
      "mkdir: cannot create directory ‘results/pickles’: File exists\r\n"
     ]
    }
   ],
   "source": [
    "! mkdir results\n",
    "! mkdir results/pickles"
   ]
  },
  {
   "cell_type": "code",
   "execution_count": 0,
   "metadata": {
    "colab": {
     "autoexec": {
      "startup": false,
      "wait_interval": 0
     }
    },
    "colab_type": "code",
    "collapsed": true,
    "id": "rv5dVxg9IeAR"
   },
   "outputs": [],
   "source": [
    "def process_data(X, refit = False):\n",
    "\n",
    "    fixed_values = {}\n",
    "    \n",
    "    all_data = X.loc[:, ['co_gt', 'nhmc', 'c6h6',\n",
    "                         's2', 'nox', 's3', 'no2',\n",
    "                         's4', 's5', 't','rh', 'ah',\n",
    "                         'level']].copy()\n",
    "    \n",
    "    #I have made the assumption that the difference between all the levels are the same. \n",
    "    all_data[\"level\"] = all_data[\"level\"].map( {'Very low': -2, 'Low':-1, 'Moderate':0, 'High':1, 'Very High':2 } )\n",
    "    \n",
    "    feat = [np.abs(item)[item != 1] for item in [all_data.corr()[item] for item in all_data.columns]]\n",
    "\n",
    "    for c,columns in enumerate(feat):\n",
    "\n",
    "        col_name = pd.DataFrame(columns).columns[0]\n",
    "\n",
    "        print(\"==== Processing {} ====\".format(col_name))\n",
    "        \n",
    "        sorted_col = pd.DataFrame(columns).sort_values(col_name)\n",
    "\n",
    "        top_corr = sorted_col.iloc[-1].name\n",
    "        second_corr = sorted_col.iloc[-2].name\n",
    "        third_corr = sorted_col.iloc[-3].name\n",
    "\n",
    "        features = [top_corr, second_corr, third_corr]\n",
    "        \n",
    "        y = all_data.loc[:, col_name]\n",
    "        x1 = all_data.loc[:, top_corr]\n",
    "        x2 = all_data.loc[:, second_corr]\n",
    "        x3 = all_data.loc[:, third_corr]\n",
    "\n",
    "        if refit:        \n",
    "\n",
    "            print(\" \\t Fitting\")\n",
    "            for number, item in enumerate([x1, x2, x3]):   \n",
    "                X_train = item[np.invert(y.isnull() | item.isnull())].values.reshape(-1, 1)\n",
    "                y_train = y[np.invert(y.isnull() | item.isnull())]\n",
    "\n",
    "                #Select Classifier or Regression model based on the number of unique values\n",
    "                if(len(y.unique()) <= 7):\n",
    "                    rf_model = RandomForestClassifier()\n",
    "                    if y_train[0] < 1 : \n",
    "                        y_train = y_train*100\n",
    "                    y_train = y_train.astype('int')\n",
    "\n",
    "                    fixed_values[col_name] = mode(y)\n",
    "\n",
    "                else:\n",
    "                    rf_model = RandomForestRegressor()\n",
    "\n",
    "                    fixed_values[col_name] = np.mean(y)\n",
    "\n",
    "                # Fitting Random forest model\n",
    "                rf_model.fit(X_train, y_train)\n",
    "\n",
    "\n",
    "                with open('results/pickles/{}-{}x.pickle'.format(col_name, number), 'wb') as save_model:\n",
    "                    pickle.dump(rf_model, save_model)\n",
    "\n",
    "            with open('results/pickles/fixed_values2.pickle', 'wb') as save_model:\n",
    "                pickle.dump(fixed_values, save_model)\n",
    "\n",
    "        print(\" \\t Imputing \\n\")\n",
    "\n",
    "        # Data missing selected feature\n",
    "        fallback_1 = y.isnull() & np.invert(x1.isnull())\n",
    "        fallback_2 = y.isnull() & x1.isnull() & np.invert(x2.isnull())\n",
    "        fallback_3 = y.isnull() & x1.isnull() &  x2.isnull() & np.invert(x3.isnull())\n",
    "        fallback_4 = y.isnull() & x1.isnull() &  x2.isnull() & x3.isnull()\n",
    "        fallbacks = [fallback_1, fallback_2, fallback_3, fallback_4]\n",
    "\n",
    "        complete_data = all_data.loc[np.invert(y.isnull())].copy()\n",
    "\n",
    "        for count, item in enumerate(fallbacks):\n",
    "            if item.sum().astype(\"bool\") & (count < 3):\n",
    "                loop_data = all_data.loc[item].copy()\n",
    "                with open('results/pickles/{}-{}x.pickle'.format(col_name, count), 'rb') as load_model:\n",
    "                    rf_model = pickle.load(load_model)\n",
    "\n",
    "                x_data = loop_data.loc[:, features[count]].values.reshape(-1, 1)\n",
    "\n",
    "                #Predicting using Random forest model\n",
    "                y_data = rf_model.predict(x_data)\n",
    "\n",
    "                loop_data.loc[:,col_name] = y_data\n",
    "\n",
    "                complete_data = complete_data.append(loop_data)\n",
    "\n",
    "            else:\n",
    "\n",
    "                #warnings.warn(\"There are more than 3 missing values in one or more records\")\n",
    "\n",
    "                loop_data = all_data.loc[item].copy()\n",
    "\n",
    "                with open('results/pickles/fixed_values2.pickle'.format(col_name, count), 'rb') as load_model:\n",
    "                    fixed_values = pickle.load(load_model)\n",
    "\n",
    "                # Imputing with preset values as more than 4 values are missing.\n",
    "                y_data = fixed_values[col_name]\n",
    "                loop_data.loc[:,col_name] = y_data\n",
    "                complete_data = complete_data.append(loop_data)\n",
    "\n",
    "        all_data = complete_data.copy()\n",
    "\n",
    "    all_data = all_data.sort_index()\n",
    "    \n",
    "    #Binarizing variables\n",
    "    lb = LabelBinarizer()\n",
    "    for col in all_data:\n",
    "        target = all_data[col]\n",
    "        if(len(target.unique()) <= 7):\n",
    "            binary_data = lb.fit_transform(target)\n",
    "            unique_vals = all_data[col].unique()\n",
    "            unique_vals.sort()\n",
    "            col_names = [col + '_' +str(int(item)) for item in unique_vals if item is not np.nan]\n",
    "            all_data = pd.concat([all_data, pd.DataFrame(binary_data, columns= col_names)], axis = 1)\n",
    "            all_data.drop([col], axis = 1, inplace = True)\n",
    "    \n",
    "    \n",
    "    return all_data"
   ]
  },
  {
   "cell_type": "code",
   "execution_count": 24,
   "metadata": {
    "colab": {
     "autoexec": {
      "startup": false,
      "wait_interval": 0
     },
     "base_uri": "https://localhost:8080/",
     "height": 1363
    },
    "colab_type": "code",
    "executionInfo": {
     "elapsed": 3404,
     "status": "ok",
     "timestamp": 1532205800833,
     "user": {
      "displayName": "Avinash Prabhakaran",
      "photoUrl": "//lh4.googleusercontent.com/-vhRt4Oyme1Q/AAAAAAAAAAI/AAAAAAAAB0s/y5DG4niLnGw/s50-c-k-no/photo.jpg",
      "userId": "117019898540781408437"
     },
     "user_tz": 420
    },
    "id": "p8xeIeLuIeAS",
    "outputId": "2ccb7c62-a0d2-4cae-8cd1-611de53993e1"
   },
   "outputs": [
    {
     "name": "stdout",
     "output_type": "stream",
     "text": [
      "==== Processing co_gt ====\n",
      " \t Fitting\n",
      " \t Imputing \n",
      "\n",
      "==== Processing nhmc ====\n",
      " \t Fitting\n"
     ]
    },
    {
     "name": "stderr",
     "output_type": "stream",
     "text": [
      "/usr/local/lib/python3.6/dist-packages/numpy/core/fromnumeric.py:52: FutureWarning: 'argmax' is deprecated. Use 'idxmax' instead. The behavior of 'argmax' will be corrected to return the positional maximum in the future. Use 'series.values.argmax' to get the position of the maximum now.\n",
      "  return getattr(obj, method)(*args, **kwds)\n",
      "/usr/local/lib/python3.6/dist-packages/numpy/core/fromnumeric.py:52: FutureWarning: 'argmax' is deprecated. Use 'idxmax' instead. The behavior of 'argmax' will be corrected to return the positional maximum in the future. Use 'series.values.argmax' to get the position of the maximum now.\n",
      "  return getattr(obj, method)(*args, **kwds)\n"
     ]
    },
    {
     "name": "stdout",
     "output_type": "stream",
     "text": [
      " \t Imputing \n",
      "\n",
      "==== Processing c6h6 ====\n",
      " \t Fitting\n"
     ]
    },
    {
     "name": "stderr",
     "output_type": "stream",
     "text": [
      "/usr/local/lib/python3.6/dist-packages/numpy/core/fromnumeric.py:52: FutureWarning: 'argmax' is deprecated. Use 'idxmax' instead. The behavior of 'argmax' will be corrected to return the positional maximum in the future. Use 'series.values.argmax' to get the position of the maximum now.\n",
      "  return getattr(obj, method)(*args, **kwds)\n"
     ]
    },
    {
     "name": "stdout",
     "output_type": "stream",
     "text": [
      " \t Imputing \n",
      "\n",
      "==== Processing s2 ====\n",
      " \t Fitting\n"
     ]
    },
    {
     "name": "stderr",
     "output_type": "stream",
     "text": [
      "/usr/local/lib/python3.6/dist-packages/numpy/core/fromnumeric.py:52: FutureWarning: 'argmax' is deprecated. Use 'idxmax' instead. The behavior of 'argmax' will be corrected to return the positional maximum in the future. Use 'series.values.argmax' to get the position of the maximum now.\n",
      "  return getattr(obj, method)(*args, **kwds)\n"
     ]
    },
    {
     "name": "stdout",
     "output_type": "stream",
     "text": [
      " \t Imputing \n",
      "\n",
      "==== Processing nox ====\n",
      " \t Fitting\n",
      " \t Imputing \n",
      "\n",
      "==== Processing s3 ====\n",
      " \t Fitting\n"
     ]
    },
    {
     "name": "stderr",
     "output_type": "stream",
     "text": [
      "/usr/local/lib/python3.6/dist-packages/numpy/core/fromnumeric.py:52: FutureWarning: 'argmax' is deprecated. Use 'idxmax' instead. The behavior of 'argmax' will be corrected to return the positional maximum in the future. Use 'series.values.argmax' to get the position of the maximum now.\n",
      "  return getattr(obj, method)(*args, **kwds)\n",
      "/usr/local/lib/python3.6/dist-packages/numpy/core/fromnumeric.py:52: FutureWarning: 'argmax' is deprecated. Use 'idxmax' instead. The behavior of 'argmax' will be corrected to return the positional maximum in the future. Use 'series.values.argmax' to get the position of the maximum now.\n",
      "  return getattr(obj, method)(*args, **kwds)\n"
     ]
    },
    {
     "name": "stdout",
     "output_type": "stream",
     "text": [
      " \t Imputing \n",
      "\n",
      "==== Processing no2 ====\n",
      " \t Fitting\n",
      " \t Imputing \n",
      "\n",
      "==== Processing s4 ====\n",
      " \t Fitting\n"
     ]
    },
    {
     "name": "stderr",
     "output_type": "stream",
     "text": [
      "/usr/local/lib/python3.6/dist-packages/numpy/core/fromnumeric.py:52: FutureWarning: 'argmax' is deprecated. Use 'idxmax' instead. The behavior of 'argmax' will be corrected to return the positional maximum in the future. Use 'series.values.argmax' to get the position of the maximum now.\n",
      "  return getattr(obj, method)(*args, **kwds)\n",
      "/usr/local/lib/python3.6/dist-packages/numpy/core/fromnumeric.py:52: FutureWarning: 'argmax' is deprecated. Use 'idxmax' instead. The behavior of 'argmax' will be corrected to return the positional maximum in the future. Use 'series.values.argmax' to get the position of the maximum now.\n",
      "  return getattr(obj, method)(*args, **kwds)\n"
     ]
    },
    {
     "name": "stdout",
     "output_type": "stream",
     "text": [
      " \t Imputing \n",
      "\n",
      "==== Processing s5 ====\n",
      " \t Fitting\n"
     ]
    },
    {
     "name": "stderr",
     "output_type": "stream",
     "text": [
      "/usr/local/lib/python3.6/dist-packages/numpy/core/fromnumeric.py:52: FutureWarning: 'argmax' is deprecated. Use 'idxmax' instead. The behavior of 'argmax' will be corrected to return the positional maximum in the future. Use 'series.values.argmax' to get the position of the maximum now.\n",
      "  return getattr(obj, method)(*args, **kwds)\n"
     ]
    },
    {
     "name": "stdout",
     "output_type": "stream",
     "text": [
      " \t Imputing \n",
      "\n",
      "==== Processing t ====\n",
      " \t Fitting\n"
     ]
    },
    {
     "name": "stderr",
     "output_type": "stream",
     "text": [
      "/usr/local/lib/python3.6/dist-packages/numpy/core/fromnumeric.py:52: FutureWarning: 'argmax' is deprecated. Use 'idxmax' instead. The behavior of 'argmax' will be corrected to return the positional maximum in the future. Use 'series.values.argmax' to get the position of the maximum now.\n",
      "  return getattr(obj, method)(*args, **kwds)\n"
     ]
    },
    {
     "name": "stdout",
     "output_type": "stream",
     "text": [
      " \t Imputing \n",
      "\n",
      "==== Processing rh ====\n",
      " \t Fitting\n"
     ]
    },
    {
     "name": "stderr",
     "output_type": "stream",
     "text": [
      "/usr/local/lib/python3.6/dist-packages/numpy/core/fromnumeric.py:52: FutureWarning: 'argmax' is deprecated. Use 'idxmax' instead. The behavior of 'argmax' will be corrected to return the positional maximum in the future. Use 'series.values.argmax' to get the position of the maximum now.\n",
      "  return getattr(obj, method)(*args, **kwds)\n"
     ]
    },
    {
     "name": "stdout",
     "output_type": "stream",
     "text": [
      " \t Imputing \n",
      "\n",
      "==== Processing ah ====\n",
      " \t Fitting\n"
     ]
    },
    {
     "name": "stderr",
     "output_type": "stream",
     "text": [
      "/usr/local/lib/python3.6/dist-packages/numpy/core/fromnumeric.py:52: FutureWarning: 'argmax' is deprecated. Use 'idxmax' instead. The behavior of 'argmax' will be corrected to return the positional maximum in the future. Use 'series.values.argmax' to get the position of the maximum now.\n",
      "  return getattr(obj, method)(*args, **kwds)\n"
     ]
    },
    {
     "name": "stdout",
     "output_type": "stream",
     "text": [
      " \t Imputing \n",
      "\n",
      "==== Processing level ====\n",
      " \t Fitting\n",
      " \t Imputing \n",
      "\n"
     ]
    },
    {
     "name": "stderr",
     "output_type": "stream",
     "text": [
      "/usr/local/lib/python3.6/dist-packages/numpy/core/fromnumeric.py:52: FutureWarning: 'argmax' is deprecated. Use 'idxmax' instead. The behavior of 'argmax' will be corrected to return the positional maximum in the future. Use 'series.values.argmax' to get the position of the maximum now.\n",
      "  return getattr(obj, method)(*args, **kwds)\n"
     ]
    }
   ],
   "source": [
    "X = process_data(reg_data, refit=True)"
   ]
  },
  {
   "cell_type": "code",
   "execution_count": 0,
   "metadata": {
    "colab": {
     "autoexec": {
      "startup": false,
      "wait_interval": 0
     }
    },
    "colab_type": "code",
    "collapsed": true,
    "id": "vnZo6roIj0sE"
   },
   "outputs": [],
   "source": [
    "y = reg_data['y']"
   ]
  },
  {
   "cell_type": "code",
   "execution_count": 0,
   "metadata": {
    "colab": {
     "autoexec": {
      "startup": false,
      "wait_interval": 0
     }
    },
    "colab_type": "code",
    "collapsed": true,
    "id": "-yGh4Hobj0l7"
   },
   "outputs": [],
   "source": [
    "# Train test split\n",
    "X_train, X_test, y_train, y_test = train_test_split(X, y, test_size=0.15, random_state=7)\n",
    "\n",
    "# Train validation split\n",
    "X_train, X_val, y_train, y_val = train_test_split(X_train, y_train, test_size=0.15, random_state=7)"
   ]
  },
  {
   "cell_type": "code",
   "execution_count": 25,
   "metadata": {
    "colab": {
     "autoexec": {
      "startup": false,
      "wait_interval": 0
     },
     "base_uri": "https://localhost:8080/",
     "height": 308
    },
    "colab_type": "code",
    "executionInfo": {
     "elapsed": 591,
     "status": "ok",
     "timestamp": 1532205836766,
     "user": {
      "displayName": "Avinash Prabhakaran",
      "photoUrl": "//lh4.googleusercontent.com/-vhRt4Oyme1Q/AAAAAAAAAAI/AAAAAAAAB0s/y5DG4niLnGw/s50-c-k-no/photo.jpg",
      "userId": "117019898540781408437"
     },
     "user_tz": 420
    },
    "id": "bk0_hTt3IeAT",
    "outputId": "8066fd22-0449-43e7-a77b-fbf228c7e9f6"
   },
   "outputs": [
    {
     "data": {
      "text/plain": [
       "<matplotlib.axes._subplots.AxesSubplot at 0x7f01575d55c0>"
      ]
     },
     "execution_count": 25,
     "metadata": {
      "tags": []
     },
     "output_type": "execute_result"
    },
    {
     "data": {
      "image/png": "[encoded data removed]",
      "text/plain": [
       "<matplotlib.figure.Figure at 0x7f01575f4b38>"
      ]
     },
     "metadata": {
      "tags": []
     },
     "output_type": "display_data"
    }
   ],
   "source": [
    "X.isnull().sum().plot(kind='bar')"
   ]
  },
  {
   "cell_type": "code",
   "execution_count": 28,
   "metadata": {
    "colab": {
     "autoexec": {
      "startup": false,
      "wait_interval": 0
     },
     "base_uri": "https://localhost:8080/",
     "height": 244
    },
    "colab_type": "code",
    "executionInfo": {
     "elapsed": 323,
     "status": "ok",
     "timestamp": 1532205846693,
     "user": {
      "displayName": "Avinash Prabhakaran",
      "photoUrl": "//lh4.googleusercontent.com/-vhRt4Oyme1Q/AAAAAAAAAAI/AAAAAAAAB0s/y5DG4niLnGw/s50-c-k-no/photo.jpg",
      "userId": "117019898540781408437"
     },
     "user_tz": 420
    },
    "id": "DljLrqi-IeAV",
    "outputId": "e1061f4a-034e-42bd-cb23-db8f76c99c42"
   },
   "outputs": [
    {
     "data": {
      "text/html": [
       "<div>\n",
       "<style scoped>\n",
       "    .dataframe tbody tr th:only-of-type {\n",
       "        vertical-align: middle;\n",
       "    }\n",
       "\n",
       "    .dataframe tbody tr th {\n",
       "        vertical-align: top;\n",
       "    }\n",
       "\n",
       "    .dataframe thead th {\n",
       "        text-align: right;\n",
       "    }\n",
       "</style>\n",
       "<table border=\"1\" class=\"dataframe\">\n",
       "  <thead>\n",
       "    <tr style=\"text-align: right;\">\n",
       "      <th></th>\n",
       "      <th>co_gt</th>\n",
       "      <th>nhmc</th>\n",
       "      <th>c6h6</th>\n",
       "      <th>s2</th>\n",
       "      <th>nox</th>\n",
       "      <th>s3</th>\n",
       "      <th>no2</th>\n",
       "      <th>s4</th>\n",
       "      <th>s5</th>\n",
       "      <th>t</th>\n",
       "      <th>rh</th>\n",
       "      <th>ah</th>\n",
       "      <th>level_-2</th>\n",
       "      <th>level_-1</th>\n",
       "      <th>level_0</th>\n",
       "      <th>level_1</th>\n",
       "      <th>level_2</th>\n",
       "    </tr>\n",
       "  </thead>\n",
       "  <tbody>\n",
       "    <tr>\n",
       "      <th>0</th>\n",
       "      <td>2.6</td>\n",
       "      <td>150.0</td>\n",
       "      <td>11.9</td>\n",
       "      <td>927.811429</td>\n",
       "      <td>166.0</td>\n",
       "      <td>1056.0</td>\n",
       "      <td>113.0</td>\n",
       "      <td>1692.000000</td>\n",
       "      <td>974.514482</td>\n",
       "      <td>13.60</td>\n",
       "      <td>48.900000</td>\n",
       "      <td>0.7578</td>\n",
       "      <td>0</td>\n",
       "      <td>0</td>\n",
       "      <td>0</td>\n",
       "      <td>1</td>\n",
       "      <td>0</td>\n",
       "    </tr>\n",
       "    <tr>\n",
       "      <th>1</th>\n",
       "      <td>2.0</td>\n",
       "      <td>112.0</td>\n",
       "      <td>9.4</td>\n",
       "      <td>955.000000</td>\n",
       "      <td>103.0</td>\n",
       "      <td>1174.0</td>\n",
       "      <td>92.0</td>\n",
       "      <td>1559.000000</td>\n",
       "      <td>972.000000</td>\n",
       "      <td>13.30</td>\n",
       "      <td>47.700000</td>\n",
       "      <td>0.7255</td>\n",
       "      <td>0</td>\n",
       "      <td>0</td>\n",
       "      <td>0</td>\n",
       "      <td>1</td>\n",
       "      <td>0</td>\n",
       "    </tr>\n",
       "    <tr>\n",
       "      <th>2</th>\n",
       "      <td>2.2</td>\n",
       "      <td>88.0</td>\n",
       "      <td>9.0</td>\n",
       "      <td>939.000000</td>\n",
       "      <td>131.0</td>\n",
       "      <td>1140.0</td>\n",
       "      <td>114.0</td>\n",
       "      <td>1555.000000</td>\n",
       "      <td>1074.000000</td>\n",
       "      <td>11.90</td>\n",
       "      <td>28.058095</td>\n",
       "      <td>0.7502</td>\n",
       "      <td>0</td>\n",
       "      <td>0</td>\n",
       "      <td>0</td>\n",
       "      <td>1</td>\n",
       "      <td>0</td>\n",
       "    </tr>\n",
       "    <tr>\n",
       "      <th>3</th>\n",
       "      <td>2.2</td>\n",
       "      <td>80.0</td>\n",
       "      <td>9.2</td>\n",
       "      <td>948.000000</td>\n",
       "      <td>172.0</td>\n",
       "      <td>1092.0</td>\n",
       "      <td>122.0</td>\n",
       "      <td>1584.000000</td>\n",
       "      <td>1203.000000</td>\n",
       "      <td>11.00</td>\n",
       "      <td>60.000000</td>\n",
       "      <td>0.7867</td>\n",
       "      <td>0</td>\n",
       "      <td>0</td>\n",
       "      <td>0</td>\n",
       "      <td>1</td>\n",
       "      <td>0</td>\n",
       "    </tr>\n",
       "    <tr>\n",
       "      <th>4</th>\n",
       "      <td>1.6</td>\n",
       "      <td>51.0</td>\n",
       "      <td>6.5</td>\n",
       "      <td>836.000000</td>\n",
       "      <td>131.0</td>\n",
       "      <td>1205.0</td>\n",
       "      <td>116.0</td>\n",
       "      <td>1468.929042</td>\n",
       "      <td>1110.000000</td>\n",
       "      <td>12.97</td>\n",
       "      <td>59.600000</td>\n",
       "      <td>0.7888</td>\n",
       "      <td>0</td>\n",
       "      <td>0</td>\n",
       "      <td>0</td>\n",
       "      <td>1</td>\n",
       "      <td>0</td>\n",
       "    </tr>\n",
       "  </tbody>\n",
       "</table>\n",
       "</div>"
      ],
      "text/plain": [
       "   co_gt   nhmc  c6h6          s2    nox      s3    no2           s4  \\\n",
       "0    2.6  150.0  11.9  927.811429  166.0  1056.0  113.0  1692.000000   \n",
       "1    2.0  112.0   9.4  955.000000  103.0  1174.0   92.0  1559.000000   \n",
       "2    2.2   88.0   9.0  939.000000  131.0  1140.0  114.0  1555.000000   \n",
       "3    2.2   80.0   9.2  948.000000  172.0  1092.0  122.0  1584.000000   \n",
       "4    1.6   51.0   6.5  836.000000  131.0  1205.0  116.0  1468.929042   \n",
       "\n",
       "            s5      t         rh      ah  level_-2  level_-1  level_0  \\\n",
       "0   974.514482  13.60  48.900000  0.7578         0         0        0   \n",
       "1   972.000000  13.30  47.700000  0.7255         0         0        0   \n",
       "2  1074.000000  11.90  28.058095  0.7502         0         0        0   \n",
       "3  1203.000000  11.00  60.000000  0.7867         0         0        0   \n",
       "4  1110.000000  12.97  59.600000  0.7888         0         0        0   \n",
       "\n",
       "   level_1  level_2  \n",
       "0        1        0  \n",
       "1        1        0  \n",
       "2        1        0  \n",
       "3        1        0  \n",
       "4        1        0  "
      ]
     },
     "execution_count": 28,
     "metadata": {
      "tags": []
     },
     "output_type": "execute_result"
    }
   ],
   "source": [
    "X.head()"
   ]
  },
  {
   "cell_type": "code",
   "execution_count": 0,
   "metadata": {
    "colab": {
     "autoexec": {
      "startup": false,
      "wait_interval": 0
     }
    },
    "colab_type": "code",
    "collapsed": true,
    "id": "4_DHwL77IeAX"
   },
   "outputs": [],
   "source": [
    "def evaluate(model): \n",
    "    '''\n",
    "    Function prints the training and validation scores.\n",
    "    Args\n",
    "        Model: Sklearn object with predict method.\n",
    "    \n",
    "    Returns\n",
    "        None\n",
    "    '''\n",
    "    model.fit(X_train, y_train)\n",
    "    train_rmse = np.sqrt(mean_squared_error(y_pred=model.predict(X_train),y_true=y_train))\n",
    "    val_rmse = np.sqrt(mean_squared_error(y_pred=model.predict(X_val),y_true=y_val))\n",
    "    print(\"Train RMSE: \", train_rmse)\n",
    "    print(\"Validation RMSE: \", val_rmse)"
   ]
  },
  {
   "cell_type": "markdown",
   "metadata": {
    "colab_type": "text",
    "id": "CYvDCOJBXU3w"
   },
   "source": [
    "# Keras"
   ]
  },
  {
   "cell_type": "code",
   "execution_count": 0,
   "metadata": {
    "colab": {
     "autoexec": {
      "startup": false,
      "wait_interval": 0
     }
    },
    "colab_type": "code",
    "collapsed": true,
    "id": "BPJVWkq8U6Sp"
   },
   "outputs": [],
   "source": [
    "scalarX = MinMaxScaler()\n",
    "scalarX.fit(X_train)\n",
    "Xs_train = scalarX.transform(X_train)\n",
    "Xs_val = scalarX.transform(X_val)\n",
    "Xs_test = scalarX.transform(X_test)"
   ]
  },
  {
   "cell_type": "code",
   "execution_count": 37,
   "metadata": {
    "colab": {
     "autoexec": {
      "startup": false,
      "wait_interval": 0
     },
     "base_uri": "https://localhost:8080/",
     "height": 34
    },
    "colab_type": "code",
    "executionInfo": {
     "elapsed": 34009,
     "status": "ok",
     "timestamp": 1532205972867,
     "user": {
      "displayName": "Avinash Prabhakaran",
      "photoUrl": "//lh4.googleusercontent.com/-vhRt4Oyme1Q/AAAAAAAAAAI/AAAAAAAAB0s/y5DG4niLnGw/s50-c-k-no/photo.jpg",
      "userId": "117019898540781408437"
     },
     "user_tz": 420
    },
    "id": "p6gnv2pFLiOU",
    "outputId": "3a149cb4-122c-4541-b0ba-0b31b3e773c4"
   },
   "outputs": [
    {
     "data": {
      "text/plain": [
       "<keras.callbacks.History at 0x7f00edbbfdd8>"
      ]
     },
     "execution_count": 37,
     "metadata": {
      "tags": []
     },
     "output_type": "execute_result"
    }
   ],
   "source": [
    "model = Sequential()\n",
    "model.add(Dense(20, input_dim=17, activation='relu'))\n",
    "model.add(Dense(50, activation='relu'))\n",
    "model.add(Dense(100, activation='relu'))\n",
    "model.add(Dense(100, activation='relu'))\n",
    "model.add(Dense(50, activation='relu'))\n",
    "model.add(Dense(20, activation='relu'))\n",
    "model.add(Dense(10, activation='relu'))\n",
    "model.add(Dense(1, activation='linear'))\n",
    "model.compile(loss='mse', optimizer='adam')\n",
    "model.fit(Xs_train, y_train, epochs=20, verbose=0)"
   ]
  },
  {
   "cell_type": "code",
   "execution_count": 40,
   "metadata": {
    "colab": {
     "autoexec": {
      "startup": false,
      "wait_interval": 0
     },
     "base_uri": "https://localhost:8080/",
     "height": 34
    },
    "colab_type": "code",
    "executionInfo": {
     "elapsed": 337,
     "status": "ok",
     "timestamp": 1532205984200,
     "user": {
      "displayName": "Avinash Prabhakaran",
      "photoUrl": "//lh4.googleusercontent.com/-vhRt4Oyme1Q/AAAAAAAAAAI/AAAAAAAAB0s/y5DG4niLnGw/s50-c-k-no/photo.jpg",
      "userId": "117019898540781408437"
     },
     "user_tz": 420
    },
    "id": "71fL4fyfLiEC",
    "outputId": "a0aaf758-7a2b-428a-990a-58051bc195c8"
   },
   "outputs": [
    {
     "data": {
      "text/plain": [
       "262.63143683876973"
      ]
     },
     "execution_count": 40,
     "metadata": {
      "tags": []
     },
     "output_type": "execute_result"
    }
   ],
   "source": [
    "evaluate(model)"
   ]
  },
  {
   "cell_type": "markdown",
   "metadata": {
    "colab_type": "text",
    "id": "LVR43FZNmQhs"
   },
   "source": [
    "# Test RMSE"
   ]
  },
  {
   "cell_type": "code",
   "execution_count": 71,
   "metadata": {
    "colab": {
     "autoexec": {
      "startup": false,
      "wait_interval": 0
     },
     "base_uri": "https://localhost:8080/",
     "height": 34
    },
    "colab_type": "code",
    "executionInfo": {
     "elapsed": 531,
     "status": "ok",
     "timestamp": 1532167416138,
     "user": {
      "displayName": "Avinash Prabhakaran",
      "photoUrl": "//lh4.googleusercontent.com/-vhRt4Oyme1Q/AAAAAAAAAAI/AAAAAAAAB0s/y5DG4niLnGw/s50-c-k-no/photo.jpg",
      "userId": "117019898540781408437"
     },
     "user_tz": 420
    },
    "id": "OX-4ltmKLiAh",
    "outputId": "3a0fd418-eccd-4ca7-e0cb-7aa0d881d0c6"
   },
   "outputs": [
    {
     "data": {
      "text/plain": [
       "253.968110938304"
      ]
     },
     "execution_count": 71,
     "metadata": {
      "tags": []
     },
     "output_type": "execute_result"
    }
   ],
   "source": [
    "np.sqrt(mean_squared_error(y_pred=model.predict(X_test),y_true=y_test))"
   ]
  }
 ],
 "metadata": {
  "accelerator": "GPU",
  "colab": {
   "default_view": {},
   "name": "Task2 - No Missing.ipynb",
   "provenance": [],
   "version": "0.3.2",
   "views": {}
  },
  "kernelspec": {
   "display_name": "Python 3",
   "language": "python",
   "name": "python3"
  },
  "language_info": {
   "codemirror_mode": {
    "name": "ipython",
    "version": 3
   },
   "file_extension": ".py",
   "mimetype": "text/x-python",
   "name": "python",
   "nbconvert_exporter": "python",
   "pygments_lexer": "ipython3",
   "version": "3.6.3"
  }
 },
 "nbformat": 4,
 "nbformat_minor": 1
}
