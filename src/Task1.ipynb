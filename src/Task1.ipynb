{
 "cells": [
  {
   "cell_type": "code",
   "execution_count": 1,
   "metadata": {
    "collapsed": true
   },
   "outputs": [],
   "source": [
    "# Importing dependencies\n",
    "import numpy as np\n",
    "import pandas as pd\n",
    "import matplotlib.pyplot as plt\n",
    "\n",
    "# Data preprocessing\n",
    "from sklearn import preprocessing\n",
    "\n",
    "# Evaluation metrics\n",
    "from sklearn.metrics import confusion_matrix, recall_score, roc_auc_score\n",
    "\n",
    "# Classification models\n",
    "from sklearn.ensemble import RandomForestClassifier\n",
    "\n",
    "# Regression models for imputation\n",
    "from sklearn.ensemble import RandomForestRegressor\n",
    "\n",
    "# To save the final model\n",
    "import _pickle as pickle"
   ]
  },
  {
   "cell_type": "code",
   "execution_count": 2,
   "metadata": {
    "collapsed": true
   },
   "outputs": [],
   "source": [
    "%matplotlib inline"
   ]
  },
  {
   "cell_type": "code",
   "execution_count": 3,
   "metadata": {},
   "outputs": [],
   "source": [
    "from task1 import process_data"
   ]
  },
  {
   "cell_type": "code",
   "execution_count": 4,
   "metadata": {
    "collapsed": true
   },
   "outputs": [],
   "source": [
    "# Reading training data\n",
    "clf_data = pd.read_csv(\"../results/processed_data/predictive_maintenance_dataset_processed.csv\")"
   ]
  },
  {
   "cell_type": "code",
   "execution_count": 5,
   "metadata": {},
   "outputs": [
    {
     "data": {
      "text/html": [
       "<div>\n",
       "<style>\n",
       "    .dataframe thead tr:only-child th {\n",
       "        text-align: right;\n",
       "    }\n",
       "\n",
       "    .dataframe thead th {\n",
       "        text-align: left;\n",
       "    }\n",
       "\n",
       "    .dataframe tbody tr th {\n",
       "        vertical-align: top;\n",
       "    }\n",
       "</style>\n",
       "<table border=\"1\" class=\"dataframe\">\n",
       "  <thead>\n",
       "    <tr style=\"text-align: right;\">\n",
       "      <th></th>\n",
       "      <th>unit_number</th>\n",
       "      <th>time_stamp</th>\n",
       "      <th>operational_setting_1</th>\n",
       "      <th>operational_setting_2</th>\n",
       "      <th>operational_setting_3</th>\n",
       "      <th>sensor_measurement_1</th>\n",
       "      <th>sensor_measurement_2</th>\n",
       "      <th>sensor_measurement_3</th>\n",
       "      <th>sensor_measurement_4</th>\n",
       "      <th>sensor_measurement_5</th>\n",
       "      <th>...</th>\n",
       "      <th>sensor_measurement_13</th>\n",
       "      <th>sensor_measurement_14</th>\n",
       "      <th>sensor_measurement_15</th>\n",
       "      <th>sensor_measurement_16</th>\n",
       "      <th>sensor_measurement_17</th>\n",
       "      <th>sensor_measurement_18</th>\n",
       "      <th>sensor_measurement_19</th>\n",
       "      <th>sensor_measurement_20</th>\n",
       "      <th>sensor_measurement_21</th>\n",
       "      <th>status</th>\n",
       "    </tr>\n",
       "  </thead>\n",
       "  <tbody>\n",
       "    <tr>\n",
       "      <th>0</th>\n",
       "      <td>540</td>\n",
       "      <td>2016-05-01T12:00:00Z</td>\n",
       "      <td>42.0033</td>\n",
       "      <td>0.8400</td>\n",
       "      <td>High</td>\n",
       "      <td>445.00</td>\n",
       "      <td>549.11</td>\n",
       "      <td>1345.86</td>\n",
       "      <td>1123.35</td>\n",
       "      <td>3.91</td>\n",
       "      <td>...</td>\n",
       "      <td>2387.98</td>\n",
       "      <td>8075.70</td>\n",
       "      <td>9.3392</td>\n",
       "      <td>0.02</td>\n",
       "      <td>327.0</td>\n",
       "      <td>2212.0</td>\n",
       "      <td>100.00</td>\n",
       "      <td>10.59</td>\n",
       "      <td>6.4311</td>\n",
       "      <td>0</td>\n",
       "    </tr>\n",
       "    <tr>\n",
       "      <th>1</th>\n",
       "      <td>540</td>\n",
       "      <td>2016-05-02T12:00:00Z</td>\n",
       "      <td>10.0049</td>\n",
       "      <td>0.2513</td>\n",
       "      <td>High</td>\n",
       "      <td>489.05</td>\n",
       "      <td>604.12</td>\n",
       "      <td>1497.52</td>\n",
       "      <td>1299.13</td>\n",
       "      <td>10.52</td>\n",
       "      <td>...</td>\n",
       "      <td>2387.94</td>\n",
       "      <td>8126.65</td>\n",
       "      <td>8.5735</td>\n",
       "      <td>0.03</td>\n",
       "      <td>367.0</td>\n",
       "      <td>2319.0</td>\n",
       "      <td>100.00</td>\n",
       "      <td>28.54</td>\n",
       "      <td>17.2279</td>\n",
       "      <td>0</td>\n",
       "    </tr>\n",
       "    <tr>\n",
       "      <th>2</th>\n",
       "      <td>540</td>\n",
       "      <td>2016-05-03T12:00:00Z</td>\n",
       "      <td>20.0026</td>\n",
       "      <td>0.7011</td>\n",
       "      <td>High</td>\n",
       "      <td>491.19</td>\n",
       "      <td>606.99</td>\n",
       "      <td>1480.01</td>\n",
       "      <td>NaN</td>\n",
       "      <td>9.35</td>\n",
       "      <td>...</td>\n",
       "      <td>2387.97</td>\n",
       "      <td>8061.05</td>\n",
       "      <td>9.1776</td>\n",
       "      <td>0.02</td>\n",
       "      <td>364.0</td>\n",
       "      <td>2324.0</td>\n",
       "      <td>100.00</td>\n",
       "      <td>24.40</td>\n",
       "      <td>14.7659</td>\n",
       "      <td>0</td>\n",
       "    </tr>\n",
       "    <tr>\n",
       "      <th>3</th>\n",
       "      <td>540</td>\n",
       "      <td>2016-05-04T12:00:00Z</td>\n",
       "      <td>42.0023</td>\n",
       "      <td>0.8409</td>\n",
       "      <td>High</td>\n",
       "      <td>445.00</td>\n",
       "      <td>549.09</td>\n",
       "      <td>1346.29</td>\n",
       "      <td>1119.90</td>\n",
       "      <td>3.91</td>\n",
       "      <td>...</td>\n",
       "      <td>2387.98</td>\n",
       "      <td>8080.58</td>\n",
       "      <td>9.3504</td>\n",
       "      <td>0.02</td>\n",
       "      <td>NaN</td>\n",
       "      <td>NaN</td>\n",
       "      <td>100.00</td>\n",
       "      <td>10.74</td>\n",
       "      <td>6.2972</td>\n",
       "      <td>0</td>\n",
       "    </tr>\n",
       "    <tr>\n",
       "      <th>4</th>\n",
       "      <td>540</td>\n",
       "      <td>2016-05-05T12:00:00Z</td>\n",
       "      <td>25.0031</td>\n",
       "      <td>0.6200</td>\n",
       "      <td>NaN</td>\n",
       "      <td>462.54</td>\n",
       "      <td>536.18</td>\n",
       "      <td>1260.24</td>\n",
       "      <td>1038.22</td>\n",
       "      <td>7.05</td>\n",
       "      <td>...</td>\n",
       "      <td>2028.22</td>\n",
       "      <td>7866.67</td>\n",
       "      <td>10.8344</td>\n",
       "      <td>0.02</td>\n",
       "      <td>307.0</td>\n",
       "      <td>1915.0</td>\n",
       "      <td>84.93</td>\n",
       "      <td>14.34</td>\n",
       "      <td>8.5780</td>\n",
       "      <td>0</td>\n",
       "    </tr>\n",
       "  </tbody>\n",
       "</table>\n",
       "<p>5 rows × 27 columns</p>\n",
       "</div>"
      ],
      "text/plain": [
       "   unit_number            time_stamp  operational_setting_1  \\\n",
       "0          540  2016-05-01T12:00:00Z                42.0033   \n",
       "1          540  2016-05-02T12:00:00Z                10.0049   \n",
       "2          540  2016-05-03T12:00:00Z                20.0026   \n",
       "3          540  2016-05-04T12:00:00Z                42.0023   \n",
       "4          540  2016-05-05T12:00:00Z                25.0031   \n",
       "\n",
       "   operational_setting_2 operational_setting_3  sensor_measurement_1  \\\n",
       "0                 0.8400                  High                445.00   \n",
       "1                 0.2513                  High                489.05   \n",
       "2                 0.7011                  High                491.19   \n",
       "3                 0.8409                  High                445.00   \n",
       "4                 0.6200                   NaN                462.54   \n",
       "\n",
       "   sensor_measurement_2  sensor_measurement_3  sensor_measurement_4  \\\n",
       "0                549.11               1345.86               1123.35   \n",
       "1                604.12               1497.52               1299.13   \n",
       "2                606.99               1480.01                   NaN   \n",
       "3                549.09               1346.29               1119.90   \n",
       "4                536.18               1260.24               1038.22   \n",
       "\n",
       "   sensor_measurement_5   ...    sensor_measurement_13  sensor_measurement_14  \\\n",
       "0                  3.91   ...                  2387.98                8075.70   \n",
       "1                 10.52   ...                  2387.94                8126.65   \n",
       "2                  9.35   ...                  2387.97                8061.05   \n",
       "3                  3.91   ...                  2387.98                8080.58   \n",
       "4                  7.05   ...                  2028.22                7866.67   \n",
       "\n",
       "   sensor_measurement_15  sensor_measurement_16  sensor_measurement_17  \\\n",
       "0                 9.3392                   0.02                  327.0   \n",
       "1                 8.5735                   0.03                  367.0   \n",
       "2                 9.1776                   0.02                  364.0   \n",
       "3                 9.3504                   0.02                    NaN   \n",
       "4                10.8344                   0.02                  307.0   \n",
       "\n",
       "   sensor_measurement_18  sensor_measurement_19  sensor_measurement_20  \\\n",
       "0                 2212.0                 100.00                  10.59   \n",
       "1                 2319.0                 100.00                  28.54   \n",
       "2                 2324.0                 100.00                  24.40   \n",
       "3                    NaN                 100.00                  10.74   \n",
       "4                 1915.0                  84.93                  14.34   \n",
       "\n",
       "   sensor_measurement_21  status  \n",
       "0                 6.4311       0  \n",
       "1                17.2279       0  \n",
       "2                14.7659       0  \n",
       "3                 6.2972       0  \n",
       "4                 8.5780       0  \n",
       "\n",
       "[5 rows x 27 columns]"
      ]
     },
     "execution_count": 5,
     "metadata": {},
     "output_type": "execute_result"
    }
   ],
   "source": [
    "clf_data.head()"
   ]
  },
  {
   "cell_type": "code",
   "execution_count": 6,
   "metadata": {
    "scrolled": true
   },
   "outputs": [
    {
     "name": "stdout",
     "output_type": "stream",
     "text": [
      "==== Processing operational_setting_1 ====\n",
      " \t Imputing \n",
      "\n",
      "==== Processing operational_setting_2 ====\n",
      " \t Imputing \n",
      "\n",
      "==== Processing operational_setting_3 ====\n",
      " \t Imputing \n",
      "\n",
      "==== Processing sensor_measurement_1 ====\n",
      " \t Imputing \n",
      "\n",
      "==== Processing sensor_measurement_2 ====\n",
      " \t Imputing \n",
      "\n",
      "==== Processing sensor_measurement_3 ====\n",
      " \t Imputing \n",
      "\n",
      "==== Processing sensor_measurement_4 ====\n",
      " \t Imputing \n",
      "\n",
      "==== Processing sensor_measurement_5 ====\n",
      " \t Imputing \n",
      "\n",
      "==== Processing sensor_measurement_6 ====\n",
      " \t Imputing \n",
      "\n",
      "==== Processing sensor_measurement_7 ====\n",
      " \t Imputing \n",
      "\n",
      "==== Processing sensor_measurement_8 ====\n",
      " \t Imputing \n",
      "\n",
      "==== Processing sensor_measurement_9 ====\n",
      " \t Imputing \n",
      "\n",
      "==== Processing sensor_measurement_10 ====\n",
      " \t Imputing \n",
      "\n",
      "==== Processing sensor_measurement_11 ====\n",
      " \t Imputing \n",
      "\n",
      "==== Processing sensor_measurement_12 ====\n",
      " \t Imputing \n",
      "\n",
      "==== Processing sensor_measurement_13 ====\n",
      " \t Imputing \n",
      "\n",
      "==== Processing sensor_measurement_14 ====\n",
      " \t Imputing \n",
      "\n",
      "==== Processing sensor_measurement_15 ====\n",
      " \t Imputing \n",
      "\n",
      "==== Processing sensor_measurement_16 ====\n",
      " \t Imputing \n",
      "\n",
      "==== Processing sensor_measurement_17 ====\n",
      " \t Imputing \n",
      "\n",
      "==== Processing sensor_measurement_18 ====\n",
      " \t Imputing \n",
      "\n",
      "==== Processing sensor_measurement_19 ====\n",
      " \t Imputing \n",
      "\n",
      "==== Processing sensor_measurement_20 ====\n",
      " \t Imputing \n",
      "\n",
      "==== Processing sensor_measurement_21 ====\n",
      " \t Imputing \n",
      "\n"
     ]
    }
   ],
   "source": [
    "X = process_data(clf_data)"
   ]
  },
  {
   "cell_type": "code",
   "execution_count": 7,
   "metadata": {},
   "outputs": [
    {
     "data": {
      "text/plain": [
       "<matplotlib.axes._subplots.AxesSubplot at 0x1a0f165d68>"
      ]
     },
     "execution_count": 7,
     "metadata": {},
     "output_type": "execute_result"
    },
    {
     "data": {
      "image/png": "[encoded data removed]",
      "text/plain": [
       "<matplotlib.figure.Figure at 0x1a0f1b8518>"
      ]
     },
     "metadata": {},
     "output_type": "display_data"
    }
   ],
   "source": [
    "X.isnull().sum().plot(kind='bar')"
   ]
  },
  {
   "cell_type": "markdown",
   "metadata": {},
   "source": [
    "# Retraining the best model using all the data"
   ]
  },
  {
   "cell_type": "code",
   "execution_count": 47,
   "metadata": {
    "collapsed": true
   },
   "outputs": [],
   "source": [
    "y = clf_data['status']"
   ]
  },
  {
   "cell_type": "code",
   "execution_count": 48,
   "metadata": {},
   "outputs": [
    {
     "data": {
      "text/plain": [
       "RandomForestClassifier(bootstrap=True, class_weight=None, criterion='gini',\n",
       "            max_depth=None, max_features='sqrt', max_leaf_nodes=None,\n",
       "            min_impurity_decrease=0.0, min_impurity_split=None,\n",
       "            min_samples_leaf=1, min_samples_split=2,\n",
       "            min_weight_fraction_leaf=0.0, n_estimators=250, n_jobs=1,\n",
       "            oob_score=False, random_state=None, verbose=0,\n",
       "            warm_start=False)"
      ]
     },
     "execution_count": 48,
     "metadata": {},
     "output_type": "execute_result"
    }
   ],
   "source": [
    "rfc_opt = RandomForestClassifier(max_depth = None, max_features = 'sqrt', n_estimators = 250)\n",
    "rfc_opt.fit(X, y)"
   ]
  },
  {
   "cell_type": "code",
   "execution_count": 49,
   "metadata": {},
   "outputs": [
    {
     "data": {
      "text/plain": [
       "1.0"
      ]
     },
     "execution_count": 49,
     "metadata": {},
     "output_type": "execute_result"
    }
   ],
   "source": [
    "rfc_opt.score(X,y)"
   ]
  },
  {
   "cell_type": "markdown",
   "metadata": {},
   "source": [
    "# Saving final model"
   ]
  },
  {
   "cell_type": "code",
   "execution_count": 50,
   "metadata": {
    "collapsed": true
   },
   "outputs": [],
   "source": [
    "with open('../results/pickles/task1_model.pickle', 'wb') as save_model:\n",
    "    pickle.dump(rfc_opt, save_model)"
   ]
  }
 ],
 "metadata": {
  "kernelspec": {
   "display_name": "Python 3",
   "language": "python",
   "name": "python3"
  },
  "language_info": {
   "codemirror_mode": {
    "name": "ipython",
    "version": 3
   },
   "file_extension": ".py",
   "mimetype": "text/x-python",
   "name": "python",
   "nbconvert_exporter": "python",
   "pygments_lexer": "ipython3",
   "version": "3.6.3"
  }
 },
 "nbformat": 4,
 "nbformat_minor": 2
}
