{
 "cells": [
  {
   "cell_type": "markdown",
   "metadata": {},
   "source": [
    "## Task 1\n",
    "`predictive_maintenance_dataset.csv` is a file that contains parameters and settings (`operational_setting_1`, `operational_setting_2`, `sensor_measurement_1`, `sensor_measurement_2`, etc.) for many wind turbines. There is a column called `unit_number` which specifies which turbine it is, and one called `status`, in which a value of 1 means the turbine broke down that day, and 0 means it didn't. Your task is to create a model that, when fed with operational settings and sensor measurements (`unit_number` and `time_stamp` will *not* be fed in), outputs 1 if the turbine will break down within the next 40 days, and 0 if not."
   ]
  },
  {
   "cell_type": "code",
   "execution_count": 1,
   "metadata": {
    "collapsed": true
   },
   "outputs": [],
   "source": [
    "import numpy as np\n",
    "import pandas as pd\n",
    "import matplotlib.pyplot as plt"
   ]
  },
  {
   "cell_type": "code",
   "execution_count": 2,
   "metadata": {
    "collapsed": true
   },
   "outputs": [],
   "source": [
    "%matplotlib inline"
   ]
  },
  {
   "cell_type": "code",
   "execution_count": 3,
   "metadata": {
    "collapsed": true
   },
   "outputs": [],
   "source": [
    "# Data preprocessing\n",
    "from sklearn.preprocessing import Imputer\n",
    "from sklearn.model_selection import train_test_split"
   ]
  },
  {
   "cell_type": "code",
   "execution_count": 4,
   "metadata": {
    "collapsed": true
   },
   "outputs": [],
   "source": [
    "# Evaluation metrics\n",
    "from sklearn.metrics import confusion_matrix, recall_score, roc_auc_score\n"
   ]
  },
  {
   "cell_type": "code",
   "execution_count": 5,
   "metadata": {
    "collapsed": true
   },
   "outputs": [],
   "source": [
    "# Classification models\n",
    "from xgboost import XGBClassifier\n",
    "from sklearn.linear_model import LogisticRegression, SGDClassifier\n",
    "from sklearn.ensemble import RandomForestClassifier\n",
    "from sklearn.ensemble import GradientBoostingClassifier"
   ]
  },
  {
   "cell_type": "code",
   "execution_count": 6,
   "metadata": {
    "collapsed": true
   },
   "outputs": [],
   "source": [
    "# Libraries for hyperparameter optimization\n",
    "from sklearn.model_selection import RandomizedSearchCV"
   ]
  },
  {
   "cell_type": "code",
   "execution_count": 7,
   "metadata": {
    "collapsed": true
   },
   "outputs": [],
   "source": [
    "# Libraries for feature selection\n",
    "from sklearn.ensemble import ExtraTreesClassifier\n",
    "from sklearn.pipeline import Pipeline\n",
    "from sklearn.feature_selection import SelectFromModel\n",
    "from sklearn.svm import LinearSVC"
   ]
  },
  {
   "cell_type": "code",
   "execution_count": 63,
   "metadata": {
    "collapsed": true
   },
   "outputs": [],
   "source": [
    "# To save the final model\n",
    "import pickle"
   ]
  },
  {
   "cell_type": "code",
   "execution_count": 8,
   "metadata": {
    "collapsed": true
   },
   "outputs": [],
   "source": [
    "clf_data = pd.read_csv(\"predictive_maintenance_dataset.csv\")"
   ]
  },
  {
   "cell_type": "code",
   "execution_count": 9,
   "metadata": {},
   "outputs": [
    {
     "data": {
      "text/plain": [
       "(144203, 27)"
      ]
     },
     "execution_count": 9,
     "metadata": {},
     "output_type": "execute_result"
    }
   ],
   "source": [
    "clf_data.shape"
   ]
  },
  {
   "cell_type": "code",
   "execution_count": 10,
   "metadata": {
    "scrolled": false
   },
   "outputs": [
    {
     "data": {
      "text/html": [
       "<div>\n",
       "<style>\n",
       "    .dataframe thead tr:only-child th {\n",
       "        text-align: right;\n",
       "    }\n",
       "\n",
       "    .dataframe thead th {\n",
       "        text-align: left;\n",
       "    }\n",
       "\n",
       "    .dataframe tbody tr th {\n",
       "        vertical-align: top;\n",
       "    }\n",
       "</style>\n",
       "<table border=\"1\" class=\"dataframe\">\n",
       "  <thead>\n",
       "    <tr style=\"text-align: right;\">\n",
       "      <th></th>\n",
       "      <th>unit_number</th>\n",
       "      <th>time_stamp</th>\n",
       "      <th>status</th>\n",
       "      <th>operational_setting_1</th>\n",
       "      <th>operational_setting_2</th>\n",
       "      <th>operational_setting_3</th>\n",
       "      <th>sensor_measurement_1</th>\n",
       "      <th>sensor_measurement_2</th>\n",
       "      <th>sensor_measurement_3</th>\n",
       "      <th>sensor_measurement_4</th>\n",
       "      <th>...</th>\n",
       "      <th>sensor_measurement_12</th>\n",
       "      <th>sensor_measurement_13</th>\n",
       "      <th>sensor_measurement_14</th>\n",
       "      <th>sensor_measurement_15</th>\n",
       "      <th>sensor_measurement_16</th>\n",
       "      <th>sensor_measurement_17</th>\n",
       "      <th>sensor_measurement_18</th>\n",
       "      <th>sensor_measurement_19</th>\n",
       "      <th>sensor_measurement_20</th>\n",
       "      <th>sensor_measurement_21</th>\n",
       "    </tr>\n",
       "  </thead>\n",
       "  <tbody>\n",
       "    <tr>\n",
       "      <th>0</th>\n",
       "      <td>540</td>\n",
       "      <td>2017-02-19 12:00:00</td>\n",
       "      <td>0</td>\n",
       "      <td>42.0007</td>\n",
       "      <td>0.8415</td>\n",
       "      <td>High</td>\n",
       "      <td>445.00</td>\n",
       "      <td>NaN</td>\n",
       "      <td>1362.47</td>\n",
       "      <td>1143.17</td>\n",
       "      <td>...</td>\n",
       "      <td>133.75</td>\n",
       "      <td>2388.50</td>\n",
       "      <td>8129.92</td>\n",
       "      <td>9.1182</td>\n",
       "      <td>NaN</td>\n",
       "      <td>332.0</td>\n",
       "      <td>2212.0</td>\n",
       "      <td>100.00</td>\n",
       "      <td>10.77</td>\n",
       "      <td>6.5717</td>\n",
       "    </tr>\n",
       "    <tr>\n",
       "      <th>1</th>\n",
       "      <td>396</td>\n",
       "      <td>2017-11-21 12:00:00</td>\n",
       "      <td>0</td>\n",
       "      <td>-0.0023</td>\n",
       "      <td>0.0004</td>\n",
       "      <td>High</td>\n",
       "      <td>518.67</td>\n",
       "      <td>642.33</td>\n",
       "      <td>1581.03</td>\n",
       "      <td>1400.06</td>\n",
       "      <td>...</td>\n",
       "      <td>522.19</td>\n",
       "      <td>2388.00</td>\n",
       "      <td>8135.70</td>\n",
       "      <td>8.3817</td>\n",
       "      <td>0.03</td>\n",
       "      <td>393.0</td>\n",
       "      <td>2388.0</td>\n",
       "      <td>100.00</td>\n",
       "      <td>39.07</td>\n",
       "      <td>23.3958</td>\n",
       "    </tr>\n",
       "    <tr>\n",
       "      <th>2</th>\n",
       "      <td>513</td>\n",
       "      <td>2017-02-12 12:00:00</td>\n",
       "      <td>0</td>\n",
       "      <td>NaN</td>\n",
       "      <td>0.6216</td>\n",
       "      <td>Low</td>\n",
       "      <td>462.54</td>\n",
       "      <td>536.71</td>\n",
       "      <td>1250.87</td>\n",
       "      <td>1037.52</td>\n",
       "      <td>...</td>\n",
       "      <td>163.11</td>\n",
       "      <td>2028.06</td>\n",
       "      <td>7867.90</td>\n",
       "      <td>10.8827</td>\n",
       "      <td>NaN</td>\n",
       "      <td>306.0</td>\n",
       "      <td>1915.0</td>\n",
       "      <td>84.93</td>\n",
       "      <td>14.33</td>\n",
       "      <td>8.6202</td>\n",
       "    </tr>\n",
       "    <tr>\n",
       "      <th>3</th>\n",
       "      <td>211</td>\n",
       "      <td>2014-06-05 12:00:00</td>\n",
       "      <td>0</td>\n",
       "      <td>42.0006</td>\n",
       "      <td>NaN</td>\n",
       "      <td>High</td>\n",
       "      <td>NaN</td>\n",
       "      <td>549.28</td>\n",
       "      <td>1349.42</td>\n",
       "      <td>1114.02</td>\n",
       "      <td>...</td>\n",
       "      <td>130.58</td>\n",
       "      <td>2387.71</td>\n",
       "      <td>8074.81</td>\n",
       "      <td>9.3776</td>\n",
       "      <td>0.02</td>\n",
       "      <td>NaN</td>\n",
       "      <td>2212.0</td>\n",
       "      <td>100.00</td>\n",
       "      <td>10.60</td>\n",
       "      <td>6.2614</td>\n",
       "    </tr>\n",
       "    <tr>\n",
       "      <th>4</th>\n",
       "      <td>460</td>\n",
       "      <td>2014-11-27 12:00:00</td>\n",
       "      <td>0</td>\n",
       "      <td>-0.0016</td>\n",
       "      <td>0.0004</td>\n",
       "      <td>High</td>\n",
       "      <td>518.67</td>\n",
       "      <td>643.84</td>\n",
       "      <td>1604.53</td>\n",
       "      <td>1431.41</td>\n",
       "      <td>...</td>\n",
       "      <td>519.44</td>\n",
       "      <td>2388.24</td>\n",
       "      <td>8135.95</td>\n",
       "      <td>8.5223</td>\n",
       "      <td>0.03</td>\n",
       "      <td>396.0</td>\n",
       "      <td>2388.0</td>\n",
       "      <td>100.00</td>\n",
       "      <td>38.39</td>\n",
       "      <td>23.0682</td>\n",
       "    </tr>\n",
       "  </tbody>\n",
       "</table>\n",
       "<p>5 rows × 27 columns</p>\n",
       "</div>"
      ],
      "text/plain": [
       "   unit_number           time_stamp  status  operational_setting_1  \\\n",
       "0          540  2017-02-19 12:00:00       0                42.0007   \n",
       "1          396  2017-11-21 12:00:00       0                -0.0023   \n",
       "2          513  2017-02-12 12:00:00       0                    NaN   \n",
       "3          211  2014-06-05 12:00:00       0                42.0006   \n",
       "4          460  2014-11-27 12:00:00       0                -0.0016   \n",
       "\n",
       "   operational_setting_2 operational_setting_3  sensor_measurement_1  \\\n",
       "0                 0.8415                  High                445.00   \n",
       "1                 0.0004                  High                518.67   \n",
       "2                 0.6216                   Low                462.54   \n",
       "3                    NaN                  High                   NaN   \n",
       "4                 0.0004                  High                518.67   \n",
       "\n",
       "   sensor_measurement_2  sensor_measurement_3  sensor_measurement_4  \\\n",
       "0                   NaN               1362.47               1143.17   \n",
       "1                642.33               1581.03               1400.06   \n",
       "2                536.71               1250.87               1037.52   \n",
       "3                549.28               1349.42               1114.02   \n",
       "4                643.84               1604.53               1431.41   \n",
       "\n",
       "           ...            sensor_measurement_12  sensor_measurement_13  \\\n",
       "0          ...                           133.75                2388.50   \n",
       "1          ...                           522.19                2388.00   \n",
       "2          ...                           163.11                2028.06   \n",
       "3          ...                           130.58                2387.71   \n",
       "4          ...                           519.44                2388.24   \n",
       "\n",
       "   sensor_measurement_14  sensor_measurement_15  sensor_measurement_16  \\\n",
       "0                8129.92                 9.1182                    NaN   \n",
       "1                8135.70                 8.3817                   0.03   \n",
       "2                7867.90                10.8827                    NaN   \n",
       "3                8074.81                 9.3776                   0.02   \n",
       "4                8135.95                 8.5223                   0.03   \n",
       "\n",
       "   sensor_measurement_17  sensor_measurement_18  sensor_measurement_19  \\\n",
       "0                  332.0                 2212.0                 100.00   \n",
       "1                  393.0                 2388.0                 100.00   \n",
       "2                  306.0                 1915.0                  84.93   \n",
       "3                    NaN                 2212.0                 100.00   \n",
       "4                  396.0                 2388.0                 100.00   \n",
       "\n",
       "   sensor_measurement_20  sensor_measurement_21  \n",
       "0                  10.77                 6.5717  \n",
       "1                  39.07                23.3958  \n",
       "2                  14.33                 8.6202  \n",
       "3                  10.60                 6.2614  \n",
       "4                  38.39                23.0682  \n",
       "\n",
       "[5 rows x 27 columns]"
      ]
     },
     "execution_count": 10,
     "metadata": {},
     "output_type": "execute_result"
    }
   ],
   "source": [
    "clf_data.head()"
   ]
  },
  {
   "cell_type": "code",
   "execution_count": 11,
   "metadata": {},
   "outputs": [
    {
     "data": {
      "text/plain": [
       "0    High\n",
       "1    High\n",
       "2     Low\n",
       "3    High\n",
       "4    High\n",
       "Name: operational_setting_3, dtype: object"
      ]
     },
     "execution_count": 11,
     "metadata": {},
     "output_type": "execute_result"
    }
   ],
   "source": [
    "clf_data['operational_setting_3'].head()"
   ]
  },
  {
   "cell_type": "code",
   "execution_count": 12,
   "metadata": {},
   "outputs": [
    {
     "data": {
      "text/plain": [
       "0    1.0\n",
       "1    1.0\n",
       "2    0.0\n",
       "3    1.0\n",
       "4    1.0\n",
       "Name: operational_setting_3, dtype: float64"
      ]
     },
     "execution_count": 12,
     "metadata": {},
     "output_type": "execute_result"
    }
   ],
   "source": [
    "clf_data['operational_setting_3'].map( {'High':1, 'Low':0} ).head()"
   ]
  },
  {
   "cell_type": "code",
   "execution_count": 13,
   "metadata": {},
   "outputs": [
    {
     "data": {
      "text/plain": [
       "array([  1.,   0.,  nan])"
      ]
     },
     "execution_count": 13,
     "metadata": {},
     "output_type": "execute_result"
    }
   ],
   "source": [
    "clf_data['operational_setting_3'].map( {'High':1, 'Low':0} ).unique()"
   ]
  },
  {
   "cell_type": "code",
   "execution_count": 14,
   "metadata": {
    "collapsed": true
   },
   "outputs": [],
   "source": [
    "clf_data['os3_binary'] = clf_data['operational_setting_3'].map( {'High':1, 'Low':0} )"
   ]
  },
  {
   "cell_type": "code",
   "execution_count": 15,
   "metadata": {},
   "outputs": [
    {
     "data": {
      "text/html": [
       "<div>\n",
       "<style>\n",
       "    .dataframe thead tr:only-child th {\n",
       "        text-align: right;\n",
       "    }\n",
       "\n",
       "    .dataframe thead th {\n",
       "        text-align: left;\n",
       "    }\n",
       "\n",
       "    .dataframe tbody tr th {\n",
       "        vertical-align: top;\n",
       "    }\n",
       "</style>\n",
       "<table border=\"1\" class=\"dataframe\">\n",
       "  <thead>\n",
       "    <tr style=\"text-align: right;\">\n",
       "      <th></th>\n",
       "      <th>unit_number</th>\n",
       "      <th>time_stamp</th>\n",
       "      <th>status</th>\n",
       "      <th>operational_setting_1</th>\n",
       "      <th>operational_setting_2</th>\n",
       "      <th>operational_setting_3</th>\n",
       "      <th>sensor_measurement_1</th>\n",
       "      <th>sensor_measurement_2</th>\n",
       "      <th>sensor_measurement_3</th>\n",
       "      <th>sensor_measurement_4</th>\n",
       "      <th>...</th>\n",
       "      <th>sensor_measurement_13</th>\n",
       "      <th>sensor_measurement_14</th>\n",
       "      <th>sensor_measurement_15</th>\n",
       "      <th>sensor_measurement_16</th>\n",
       "      <th>sensor_measurement_17</th>\n",
       "      <th>sensor_measurement_18</th>\n",
       "      <th>sensor_measurement_19</th>\n",
       "      <th>sensor_measurement_20</th>\n",
       "      <th>sensor_measurement_21</th>\n",
       "      <th>os3_binary</th>\n",
       "    </tr>\n",
       "  </thead>\n",
       "  <tbody>\n",
       "    <tr>\n",
       "      <th>0</th>\n",
       "      <td>540</td>\n",
       "      <td>2017-02-19 12:00:00</td>\n",
       "      <td>0</td>\n",
       "      <td>42.0007</td>\n",
       "      <td>0.8415</td>\n",
       "      <td>High</td>\n",
       "      <td>445.00</td>\n",
       "      <td>NaN</td>\n",
       "      <td>1362.47</td>\n",
       "      <td>1143.17</td>\n",
       "      <td>...</td>\n",
       "      <td>2388.50</td>\n",
       "      <td>8129.92</td>\n",
       "      <td>9.1182</td>\n",
       "      <td>NaN</td>\n",
       "      <td>332.0</td>\n",
       "      <td>2212.0</td>\n",
       "      <td>100.00</td>\n",
       "      <td>10.77</td>\n",
       "      <td>6.5717</td>\n",
       "      <td>1.0</td>\n",
       "    </tr>\n",
       "    <tr>\n",
       "      <th>1</th>\n",
       "      <td>396</td>\n",
       "      <td>2017-11-21 12:00:00</td>\n",
       "      <td>0</td>\n",
       "      <td>-0.0023</td>\n",
       "      <td>0.0004</td>\n",
       "      <td>High</td>\n",
       "      <td>518.67</td>\n",
       "      <td>642.33</td>\n",
       "      <td>1581.03</td>\n",
       "      <td>1400.06</td>\n",
       "      <td>...</td>\n",
       "      <td>2388.00</td>\n",
       "      <td>8135.70</td>\n",
       "      <td>8.3817</td>\n",
       "      <td>0.03</td>\n",
       "      <td>393.0</td>\n",
       "      <td>2388.0</td>\n",
       "      <td>100.00</td>\n",
       "      <td>39.07</td>\n",
       "      <td>23.3958</td>\n",
       "      <td>1.0</td>\n",
       "    </tr>\n",
       "    <tr>\n",
       "      <th>2</th>\n",
       "      <td>513</td>\n",
       "      <td>2017-02-12 12:00:00</td>\n",
       "      <td>0</td>\n",
       "      <td>NaN</td>\n",
       "      <td>0.6216</td>\n",
       "      <td>Low</td>\n",
       "      <td>462.54</td>\n",
       "      <td>536.71</td>\n",
       "      <td>1250.87</td>\n",
       "      <td>1037.52</td>\n",
       "      <td>...</td>\n",
       "      <td>2028.06</td>\n",
       "      <td>7867.90</td>\n",
       "      <td>10.8827</td>\n",
       "      <td>NaN</td>\n",
       "      <td>306.0</td>\n",
       "      <td>1915.0</td>\n",
       "      <td>84.93</td>\n",
       "      <td>14.33</td>\n",
       "      <td>8.6202</td>\n",
       "      <td>0.0</td>\n",
       "    </tr>\n",
       "    <tr>\n",
       "      <th>3</th>\n",
       "      <td>211</td>\n",
       "      <td>2014-06-05 12:00:00</td>\n",
       "      <td>0</td>\n",
       "      <td>42.0006</td>\n",
       "      <td>NaN</td>\n",
       "      <td>High</td>\n",
       "      <td>NaN</td>\n",
       "      <td>549.28</td>\n",
       "      <td>1349.42</td>\n",
       "      <td>1114.02</td>\n",
       "      <td>...</td>\n",
       "      <td>2387.71</td>\n",
       "      <td>8074.81</td>\n",
       "      <td>9.3776</td>\n",
       "      <td>0.02</td>\n",
       "      <td>NaN</td>\n",
       "      <td>2212.0</td>\n",
       "      <td>100.00</td>\n",
       "      <td>10.60</td>\n",
       "      <td>6.2614</td>\n",
       "      <td>1.0</td>\n",
       "    </tr>\n",
       "    <tr>\n",
       "      <th>4</th>\n",
       "      <td>460</td>\n",
       "      <td>2014-11-27 12:00:00</td>\n",
       "      <td>0</td>\n",
       "      <td>-0.0016</td>\n",
       "      <td>0.0004</td>\n",
       "      <td>High</td>\n",
       "      <td>518.67</td>\n",
       "      <td>643.84</td>\n",
       "      <td>1604.53</td>\n",
       "      <td>1431.41</td>\n",
       "      <td>...</td>\n",
       "      <td>2388.24</td>\n",
       "      <td>8135.95</td>\n",
       "      <td>8.5223</td>\n",
       "      <td>0.03</td>\n",
       "      <td>396.0</td>\n",
       "      <td>2388.0</td>\n",
       "      <td>100.00</td>\n",
       "      <td>38.39</td>\n",
       "      <td>23.0682</td>\n",
       "      <td>1.0</td>\n",
       "    </tr>\n",
       "  </tbody>\n",
       "</table>\n",
       "<p>5 rows × 28 columns</p>\n",
       "</div>"
      ],
      "text/plain": [
       "   unit_number           time_stamp  status  operational_setting_1  \\\n",
       "0          540  2017-02-19 12:00:00       0                42.0007   \n",
       "1          396  2017-11-21 12:00:00       0                -0.0023   \n",
       "2          513  2017-02-12 12:00:00       0                    NaN   \n",
       "3          211  2014-06-05 12:00:00       0                42.0006   \n",
       "4          460  2014-11-27 12:00:00       0                -0.0016   \n",
       "\n",
       "   operational_setting_2 operational_setting_3  sensor_measurement_1  \\\n",
       "0                 0.8415                  High                445.00   \n",
       "1                 0.0004                  High                518.67   \n",
       "2                 0.6216                   Low                462.54   \n",
       "3                    NaN                  High                   NaN   \n",
       "4                 0.0004                  High                518.67   \n",
       "\n",
       "   sensor_measurement_2  sensor_measurement_3  sensor_measurement_4  \\\n",
       "0                   NaN               1362.47               1143.17   \n",
       "1                642.33               1581.03               1400.06   \n",
       "2                536.71               1250.87               1037.52   \n",
       "3                549.28               1349.42               1114.02   \n",
       "4                643.84               1604.53               1431.41   \n",
       "\n",
       "      ...      sensor_measurement_13  sensor_measurement_14  \\\n",
       "0     ...                    2388.50                8129.92   \n",
       "1     ...                    2388.00                8135.70   \n",
       "2     ...                    2028.06                7867.90   \n",
       "3     ...                    2387.71                8074.81   \n",
       "4     ...                    2388.24                8135.95   \n",
       "\n",
       "   sensor_measurement_15  sensor_measurement_16  sensor_measurement_17  \\\n",
       "0                 9.1182                    NaN                  332.0   \n",
       "1                 8.3817                   0.03                  393.0   \n",
       "2                10.8827                    NaN                  306.0   \n",
       "3                 9.3776                   0.02                    NaN   \n",
       "4                 8.5223                   0.03                  396.0   \n",
       "\n",
       "   sensor_measurement_18  sensor_measurement_19  sensor_measurement_20  \\\n",
       "0                 2212.0                 100.00                  10.77   \n",
       "1                 2388.0                 100.00                  39.07   \n",
       "2                 1915.0                  84.93                  14.33   \n",
       "3                 2212.0                 100.00                  10.60   \n",
       "4                 2388.0                 100.00                  38.39   \n",
       "\n",
       "   sensor_measurement_21  os3_binary  \n",
       "0                 6.5717         1.0  \n",
       "1                23.3958         1.0  \n",
       "2                 8.6202         0.0  \n",
       "3                 6.2614         1.0  \n",
       "4                23.0682         1.0  \n",
       "\n",
       "[5 rows x 28 columns]"
      ]
     },
     "execution_count": 15,
     "metadata": {},
     "output_type": "execute_result"
    }
   ],
   "source": [
    "clf_data.head()"
   ]
  },
  {
   "cell_type": "code",
   "execution_count": 25,
   "metadata": {
    "collapsed": true
   },
   "outputs": [],
   "source": [
    "X = clf_data.drop(['time_stamp', 'unit_number','status', 'operational_setting_3'], axis=1)"
   ]
  },
  {
   "cell_type": "code",
   "execution_count": 26,
   "metadata": {
    "scrolled": false
   },
   "outputs": [
    {
     "data": {
      "text/plain": [
       "<matplotlib.axes._subplots.AxesSubplot at 0x1a2aced860>"
      ]
     },
     "execution_count": 26,
     "metadata": {},
     "output_type": "execute_result"
    },
    {
     "data": {
      "image/png": "[encoded data removed]",
      "text/plain": [
       "<matplotlib.figure.Figure at 0x109001f60>"
      ]
     },
     "metadata": {},
     "output_type": "display_data"
    }
   ],
   "source": [
    "X.isnull().sum().plot(kind='bar')"
   ]
  },
  {
   "cell_type": "code",
   "execution_count": 27,
   "metadata": {},
   "outputs": [
    {
     "name": "stderr",
     "output_type": "stream",
     "text": [
      "/Users/avinash/anaconda3/lib/python3.6/site-packages/ipykernel_launcher.py:2: FutureWarning: reshape is deprecated and will raise in a subsequent release. Please use .values.reshape(...) instead\n",
      "  \n"
     ]
    }
   ],
   "source": [
    "# Imputing missing values in categorical variables\n",
    "data_imputer = Imputer(strategy='most_frequent')\n",
    "X['os3_binary'] = data_imputer.fit_transform(X['os3_binary'].reshape(-1,1))"
   ]
  },
  {
   "cell_type": "code",
   "execution_count": 28,
   "metadata": {},
   "outputs": [
    {
     "data": {
      "text/plain": [
       "array([ 1.,  0.])"
      ]
     },
     "execution_count": 28,
     "metadata": {},
     "output_type": "execute_result"
    }
   ],
   "source": [
    "# Checking the unique values for os3\n",
    "X['os3_binary'].unique()"
   ]
  },
  {
   "cell_type": "code",
   "execution_count": 30,
   "metadata": {
    "collapsed": true
   },
   "outputs": [],
   "source": [
    "data_imputer = Imputer()\n",
    "X_imp = data_imputer.fit_transform(X)"
   ]
  },
  {
   "cell_type": "code",
   "execution_count": 31,
   "metadata": {
    "collapsed": true
   },
   "outputs": [],
   "source": [
    "X_imp = pd.DataFrame(X_imp, columns=X.columns)"
   ]
  },
  {
   "cell_type": "code",
   "execution_count": 32,
   "metadata": {},
   "outputs": [
    {
     "data": {
      "text/plain": [
       "<matplotlib.axes._subplots.AxesSubplot at 0x1a1a0cc630>"
      ]
     },
     "execution_count": 32,
     "metadata": {},
     "output_type": "execute_result"
    },
    {
     "data": {
      "image/png": "[encoded data removed]",
      "text/plain": [
       "<matplotlib.figure.Figure at 0x1a1a100630>"
      ]
     },
     "metadata": {},
     "output_type": "display_data"
    }
   ],
   "source": [
    "X_imp.isnull().sum().plot(kind='bar')"
   ]
  },
  {
   "cell_type": "code",
   "execution_count": 33,
   "metadata": {
    "collapsed": true
   },
   "outputs": [],
   "source": [
    "y = clf_data['status']"
   ]
  },
  {
   "cell_type": "code",
   "execution_count": 34,
   "metadata": {
    "collapsed": true
   },
   "outputs": [],
   "source": [
    "# Train test split\n",
    "X_train, X_test, y_train, y_test = train_test_split(X_imp, y, test_size=0.15, random_state=7)"
   ]
  },
  {
   "cell_type": "code",
   "execution_count": 35,
   "metadata": {
    "collapsed": true
   },
   "outputs": [],
   "source": [
    "# Train validation split\n",
    "X_train, X_val, y_train, y_val = train_test_split(X_train, y_train, test_size=0.15, random_state=7)"
   ]
  },
  {
   "cell_type": "code",
   "execution_count": 60,
   "metadata": {
    "collapsed": true
   },
   "outputs": [],
   "source": [
    "def evaluate(model):\n",
    "    print(\"-----Training-----\", \"\\n\")\n",
    "    # Accuracy\n",
    "    train_score = model.score(X_train, y_train)\n",
    "    print(\"Train Accuracy: \", train_score)\n",
    "    # Recall Score\n",
    "    train_recall = recall_score(y_pred = model.predict(X_train), y_true=y_train)\n",
    "    print(\"Train Recall: \", train_recall)\n",
    "    # Confusion Matrix\n",
    "    print(\"Train Confusion Matrix\")\n",
    "    cm_train = pd.DataFrame(confusion_matrix(y_pred = model.predict(X_train), y_true=y_train))\n",
    "    print(cm_train, \"\\n\")\n",
    "    \n",
    "    print(\"-----Validation-----\", \"\\n\")\n",
    "    # Accuracy\n",
    "    val_score = model.score(X_val, y_val)\n",
    "    print(\"Test Accuracy: \", val_score)\n",
    "    # Recall Scores\n",
    "    val_recall = recall_score(y_pred = model.predict(X_val), y_true=y_val)\n",
    "    print(\"Test Recall: \", val_recall)\n",
    "    # Confusion Matrix\n",
    "    print(\"Test Confusion Matrix\")\n",
    "    cm_val = pd.DataFrame(confusion_matrix(y_pred = model.predict(X_val), y_true=y_val))\n",
    "    print(cm_val)\n",
    "\n",
    "def evaluate_test(model):\n",
    "    print(\"-----Testing-----\", \"\\n\")\n",
    "    # Accuracy\n",
    "    test_score = model.score(X_test, y_test)\n",
    "    print(\"Train Accuracy: \", test_score)\n",
    "    # Recall Score\n",
    "    test_recall = recall_score(y_pred = model.predict(X_test), y_true=y_test)\n",
    "    print(\"Test Recall: \", test_recall)\n",
    "    # Confusion Matrix\n",
    "    print(\"Test Confusion Matrix\")\n",
    "    cm_test = pd.DataFrame(confusion_matrix(y_pred = model.predict(X_test), y_true=y_test))\n",
    "    print(cm_test, \"\\n\")"
   ]
  },
  {
   "cell_type": "markdown",
   "metadata": {},
   "source": [
    "## Using Logistic Regression"
   ]
  },
  {
   "cell_type": "code",
   "execution_count": 37,
   "metadata": {},
   "outputs": [
    {
     "data": {
      "text/plain": [
       "LogisticRegression(C=1.0, class_weight=None, dual=False, fit_intercept=True,\n",
       "          intercept_scaling=1, max_iter=100, multi_class='ovr', n_jobs=1,\n",
       "          penalty='l2', random_state=None, solver='liblinear', tol=0.0001,\n",
       "          verbose=0, warm_start=False)"
      ]
     },
     "execution_count": 37,
     "metadata": {},
     "output_type": "execute_result"
    }
   ],
   "source": [
    "lr_clf = LogisticRegression()\n",
    "lr_clf.fit(X_train, y_train)"
   ]
  },
  {
   "cell_type": "code",
   "execution_count": 38,
   "metadata": {},
   "outputs": [
    {
     "name": "stdout",
     "output_type": "stream",
     "text": [
      "-----Training----- \n",
      "\n",
      "Train Accuracy:  0.995786382047\n",
      "Train Recall:  0.0\n",
      "Train Confusion Matrix\n",
      "        0  1\n",
      "0  103747  0\n",
      "1     439  0 \n",
      "\n",
      "-----Validation----- \n",
      "\n",
      "Test Accuracy:  0.995812030893\n",
      "Test Recall:  0.0\n",
      "Test Confusion Matrix\n",
      "       0  1\n",
      "0  18309  1\n",
      "1     76  0\n"
     ]
    }
   ],
   "source": [
    "evaluate(lr_clf)"
   ]
  },
  {
   "cell_type": "markdown",
   "metadata": {},
   "source": [
    "## Using SGD"
   ]
  },
  {
   "cell_type": "code",
   "execution_count": 39,
   "metadata": {},
   "outputs": [
    {
     "name": "stderr",
     "output_type": "stream",
     "text": [
      "/Users/avinash/anaconda3/lib/python3.6/site-packages/sklearn/linear_model/stochastic_gradient.py:128: FutureWarning: max_iter and tol parameters have been added in <class 'sklearn.linear_model.stochastic_gradient.SGDClassifier'> in 0.19. If both are left unset, they default to max_iter=5 and tol=None. If tol is not None, max_iter defaults to max_iter=1000. From 0.21, default max_iter will be 1000, and default tol will be 1e-3.\n",
      "  \"and default tol will be 1e-3.\" % type(self), FutureWarning)\n"
     ]
    },
    {
     "data": {
      "text/plain": [
       "SGDClassifier(alpha=0.0001, average=False, class_weight=None, epsilon=0.1,\n",
       "       eta0=0.0, fit_intercept=True, l1_ratio=0.15,\n",
       "       learning_rate='optimal', loss='hinge', max_iter=None, n_iter=None,\n",
       "       n_jobs=1, penalty='l1', power_t=0.5, random_state=None,\n",
       "       shuffle=True, tol=None, verbose=0, warm_start=False)"
      ]
     },
     "execution_count": 39,
     "metadata": {},
     "output_type": "execute_result"
    }
   ],
   "source": [
    "sgd_clf = SGDClassifier(penalty=\"l1\")\n",
    "sgd_clf.fit(X_train, y_train)"
   ]
  },
  {
   "cell_type": "code",
   "execution_count": 40,
   "metadata": {},
   "outputs": [
    {
     "name": "stdout",
     "output_type": "stream",
     "text": [
      "-----Training----- \n",
      "\n",
      "Train Accuracy:  0.995786382047\n",
      "Train Recall:  0.0\n",
      "Train Confusion Matrix\n",
      "        0  1\n",
      "0  103747  0\n",
      "1     439  0 \n",
      "\n",
      "-----Validation----- \n",
      "\n",
      "Test Accuracy:  0.995866420102\n",
      "Test Recall:  0.0\n",
      "Test Confusion Matrix\n",
      "       0  1\n",
      "0  18310  0\n",
      "1     76  0\n"
     ]
    }
   ],
   "source": [
    "evaluate(sgd_clf)"
   ]
  },
  {
   "cell_type": "markdown",
   "metadata": {},
   "source": [
    "## Using Random Forest"
   ]
  },
  {
   "cell_type": "code",
   "execution_count": 41,
   "metadata": {
    "scrolled": true
   },
   "outputs": [
    {
     "data": {
      "text/plain": [
       "RandomForestClassifier(bootstrap=True, class_weight=None, criterion='gini',\n",
       "            max_depth=None, max_features='auto', max_leaf_nodes=None,\n",
       "            min_impurity_decrease=0.0, min_impurity_split=None,\n",
       "            min_samples_leaf=1, min_samples_split=2,\n",
       "            min_weight_fraction_leaf=0.0, n_estimators=10, n_jobs=1,\n",
       "            oob_score=False, random_state=None, verbose=0,\n",
       "            warm_start=False)"
      ]
     },
     "execution_count": 41,
     "metadata": {},
     "output_type": "execute_result"
    }
   ],
   "source": [
    "rf_clf = RandomForestClassifier()\n",
    "rf_clf.fit(X_train, y_train)"
   ]
  },
  {
   "cell_type": "code",
   "execution_count": 42,
   "metadata": {
    "scrolled": true
   },
   "outputs": [
    {
     "name": "stdout",
     "output_type": "stream",
     "text": [
      "-----Training----- \n",
      "\n",
      "Train Accuracy:  0.999433705104\n",
      "Train Recall:  0.865603644647\n",
      "Train Confusion Matrix\n",
      "        0    1\n",
      "0  103747    0\n",
      "1      59  380 \n",
      "\n",
      "-----Validation----- \n",
      "\n",
      "Test Accuracy:  0.996355922985\n",
      "Test Recall:  0.144736842105\n",
      "Test Confusion Matrix\n",
      "       0   1\n",
      "0  18308   2\n",
      "1     65  11\n"
     ]
    }
   ],
   "source": [
    "evaluate(rf_clf)"
   ]
  },
  {
   "cell_type": "markdown",
   "metadata": {},
   "source": [
    "## XGBoost"
   ]
  },
  {
   "cell_type": "code",
   "execution_count": 43,
   "metadata": {},
   "outputs": [
    {
     "data": {
      "text/plain": [
       "XGBClassifier(base_score=0.5, booster='gbtree', colsample_bylevel=1,\n",
       "       colsample_bytree=1, gamma=0, learning_rate=0.1, max_delta_step=0,\n",
       "       max_depth=3, min_child_weight=1, missing=None, n_estimators=100,\n",
       "       n_jobs=1, nthread=None, objective='binary:logistic', random_state=0,\n",
       "       reg_alpha=0, reg_lambda=1, scale_pos_weight=1, seed=None,\n",
       "       silent=True, subsample=1)"
      ]
     },
     "execution_count": 43,
     "metadata": {},
     "output_type": "execute_result"
    }
   ],
   "source": [
    "xgb = XGBClassifier()\n",
    "xgb.fit(X_train, y_train)"
   ]
  },
  {
   "cell_type": "code",
   "execution_count": 44,
   "metadata": {},
   "outputs": [
    {
     "name": "stdout",
     "output_type": "stream",
     "text": [
      "-----Training----- \n",
      "\n",
      "Train Accuracy:  0.996515846659\n",
      "Train Recall:  0.198177676538\n",
      "Train Confusion Matrix\n",
      "        0   1\n",
      "0  103736  11\n",
      "1     352  87 \n",
      "\n",
      "-----Validation----- \n",
      "\n",
      "Test Accuracy:  0.996138366148\n",
      "Test Recall:  0.118421052632\n",
      "Test Confusion Matrix\n",
      "       0  1\n",
      "0  18306  4\n",
      "1     67  9\n"
     ]
    }
   ],
   "source": [
    "evaluate(xgb)"
   ]
  },
  {
   "cell_type": "markdown",
   "metadata": {},
   "source": [
    "# GradientBoostingClassifier"
   ]
  },
  {
   "cell_type": "code",
   "execution_count": 45,
   "metadata": {},
   "outputs": [
    {
     "data": {
      "text/plain": [
       "GradientBoostingClassifier(criterion='friedman_mse', init=None,\n",
       "              learning_rate=0.1, loss='deviance', max_depth=3,\n",
       "              max_features=None, max_leaf_nodes=None,\n",
       "              min_impurity_decrease=0.0, min_impurity_split=None,\n",
       "              min_samples_leaf=1, min_samples_split=2,\n",
       "              min_weight_fraction_leaf=0.0, n_estimators=100,\n",
       "              presort='auto', random_state=None, subsample=1.0, verbose=0,\n",
       "              warm_start=False)"
      ]
     },
     "execution_count": 45,
     "metadata": {},
     "output_type": "execute_result"
    }
   ],
   "source": [
    "gbc_clf = GradientBoostingClassifier()\n",
    "gbc_clf.fit(X_train, y_train)"
   ]
  },
  {
   "cell_type": "code",
   "execution_count": 46,
   "metadata": {},
   "outputs": [
    {
     "name": "stdout",
     "output_type": "stream",
     "text": [
      "-----Training----- \n",
      "\n",
      "Train Accuracy:  0.997254909489\n",
      "Train Recall:  0.425968109339\n",
      "Train Confusion Matrix\n",
      "        0    1\n",
      "0  103713   34\n",
      "1     252  187 \n",
      "\n",
      "-----Validation----- \n",
      "\n",
      "Test Accuracy:  0.995812030893\n",
      "Test Recall:  0.25\n",
      "Test Confusion Matrix\n",
      "       0   1\n",
      "0  18290  20\n",
      "1     57  19\n"
     ]
    }
   ],
   "source": [
    "evaluate(gbc_clf)"
   ]
  },
  {
   "cell_type": "markdown",
   "metadata": {},
   "source": [
    "## Hyper Parameter Optimization for GradientBoostingClassifier"
   ]
  },
  {
   "cell_type": "code",
   "execution_count": 48,
   "metadata": {
    "collapsed": true
   },
   "outputs": [],
   "source": [
    "parameters = {'learning_rate' : np.logspace(-2,0,num=3),\n",
    "              'n_estimators': [100, 200, 250], \n",
    "              'max_depth':[3,5,7], \n",
    "              'max_features': ['auto', 'sqrt']}"
   ]
  },
  {
   "cell_type": "code",
   "execution_count": 49,
   "metadata": {},
   "outputs": [
    {
     "name": "stdout",
     "output_type": "stream",
     "text": [
      "{'n_estimators': 250, 'max_depth': 5, 'learning_rate': 0.10000000000000001}\n",
      "Accuracy: 0.236914749338\n",
      "Error: 0.763085250662\n"
     ]
    }
   ],
   "source": [
    "gbc = GradientBoostingClassifier()\n",
    "opt_gbc = RandomizedSearchCV(gbc, parameters, n_jobs = 3, scoring= 'recall', n_iter=9)\n",
    "opt_gbc.fit(X_train,y_train)\n",
    "print(opt_gbc.best_params_)\n",
    "print(\"Accuracy:\", opt_gbc.best_score_)\n",
    "print(\"Error:\", 1- opt_gbc.best_score_)"
   ]
  },
  {
   "cell_type": "code",
   "execution_count": 50,
   "metadata": {},
   "outputs": [
    {
     "data": {
      "text/plain": [
       "GradientBoostingClassifier(criterion='friedman_mse', init=None,\n",
       "              learning_rate=0.1, loss='deviance', max_depth=5,\n",
       "              max_features=None, max_leaf_nodes=None,\n",
       "              min_impurity_decrease=0.0, min_impurity_split=None,\n",
       "              min_samples_leaf=1, min_samples_split=2,\n",
       "              min_weight_fraction_leaf=0.0, n_estimators=250,\n",
       "              presort='auto', random_state=None, subsample=1.0, verbose=0,\n",
       "              warm_start=False)"
      ]
     },
     "execution_count": 50,
     "metadata": {},
     "output_type": "execute_result"
    }
   ],
   "source": [
    "gbc_clf = GradientBoostingClassifier(n_estimators = 250, max_depth = 5, learning_rate = 0.1)\n",
    "gbc_clf.fit(X_train, y_train)"
   ]
  },
  {
   "cell_type": "code",
   "execution_count": 51,
   "metadata": {},
   "outputs": [
    {
     "name": "stdout",
     "output_type": "stream",
     "text": [
      "-----Training----- \n",
      "\n",
      "Train Accuracy:  0.999750446317\n",
      "Train Recall:  0.945330296128\n",
      "Train Confusion Matrix\n",
      "        0    1\n",
      "0  103745    2\n",
      "1      24  415 \n",
      "\n",
      "-----Validation----- \n",
      "\n",
      "Test Accuracy:  0.995050581965\n",
      "Test Recall:  0.315789473684\n",
      "Test Confusion Matrix\n",
      "       0   1\n",
      "0  18271  39\n",
      "1     52  24\n"
     ]
    }
   ],
   "source": [
    "evaluate(gbc_clf)"
   ]
  },
  {
   "cell_type": "markdown",
   "metadata": {},
   "source": [
    "## Feature Selection "
   ]
  },
  {
   "cell_type": "markdown",
   "metadata": {},
   "source": [
    "#### Using Extra trees classifier and L1 for feature selection"
   ]
  },
  {
   "cell_type": "code",
   "execution_count": 52,
   "metadata": {},
   "outputs": [
    {
     "data": {
      "text/plain": [
       "Pipeline(memory=None,\n",
       "     steps=[('feature_selection', SelectFromModel(estimator=ExtraTreesClassifier(bootstrap=False, class_weight=None, criterion='gini',\n",
       "           max_depth=None, max_features='auto', max_leaf_nodes=None,\n",
       "           min_impurity_decrease=0.0, min_impurity_split=None,\n",
       "           min_samples_leaf=1, min_sam...      presort='auto', random_state=None, subsample=1.0, verbose=0,\n",
       "              warm_start=False))])"
      ]
     },
     "execution_count": 52,
     "metadata": {},
     "output_type": "execute_result"
    }
   ],
   "source": [
    "clf_pipeline = Pipeline([\n",
    "  ('feature_selection', SelectFromModel(ExtraTreesClassifier(n_estimators=250, random_state=7))),\n",
    "  ('classification', GradientBoostingClassifier(n_estimators = 250, max_depth = 5, learning_rate = 0.1))\n",
    "])\n",
    "clf_pipeline.fit(X_train, y_train)"
   ]
  },
  {
   "cell_type": "code",
   "execution_count": 53,
   "metadata": {},
   "outputs": [
    {
     "name": "stdout",
     "output_type": "stream",
     "text": [
      "-----Training----- \n",
      "\n",
      "Train Accuracy:  0.999779240973\n",
      "Train Recall:  0.952164009112\n",
      "Train Confusion Matrix\n",
      "        0    1\n",
      "0  103745    2\n",
      "1      21  418 \n",
      "\n",
      "-----Validation----- \n",
      "\n",
      "Test Accuracy:  0.995594474056\n",
      "Test Recall:  0.302631578947\n",
      "Test Confusion Matrix\n",
      "       0   1\n",
      "0  18282  28\n",
      "1     53  23\n"
     ]
    }
   ],
   "source": [
    "evaluate(clf_pipeline)"
   ]
  },
  {
   "cell_type": "markdown",
   "metadata": {},
   "source": [
    "#### Using LinearSVC and L1 for feature selection"
   ]
  },
  {
   "cell_type": "code",
   "execution_count": 56,
   "metadata": {},
   "outputs": [
    {
     "data": {
      "text/plain": [
       "Pipeline(memory=None,\n",
       "     steps=[('feature_selection', SelectFromModel(estimator=LinearSVC(C=1.0, class_weight=None, dual=False, fit_intercept=True,\n",
       "     intercept_scaling=1, loss='squared_hinge', max_iter=1000,\n",
       "     multi_class='ovr', penalty='l1', random_state=None, tol=0.0001,\n",
       "     verbose=0),\n",
       "        norm_order=1, prefit...      presort='auto', random_state=None, subsample=1.0, verbose=0,\n",
       "              warm_start=False))])"
      ]
     },
     "execution_count": 56,
     "metadata": {},
     "output_type": "execute_result"
    }
   ],
   "source": [
    "svc_pipeline = Pipeline([\n",
    "  ('feature_selection', SelectFromModel(LinearSVC(penalty=\"l1\", dual = False))),\n",
    "  ('classification', GradientBoostingClassifier(n_estimators = 250, max_depth = 5, learning_rate = 0.1))\n",
    "])\n",
    "svc_pipeline.fit(X_train, y_train)"
   ]
  },
  {
   "cell_type": "code",
   "execution_count": 57,
   "metadata": {},
   "outputs": [
    {
     "name": "stdout",
     "output_type": "stream",
     "text": [
      "-----Training----- \n",
      "\n",
      "Train Accuracy:  0.999068972799\n",
      "Train Recall:  0.799544419134\n",
      "Train Confusion Matrix\n",
      "        0    1\n",
      "0  103738    9\n",
      "1      88  351 \n",
      "\n",
      "-----Validation----- \n",
      "\n",
      "Test Accuracy:  0.995594474056\n",
      "Test Recall:  0.315789473684\n",
      "Test Confusion Matrix\n",
      "       0   1\n",
      "0  18281  29\n",
      "1     52  24\n"
     ]
    }
   ],
   "source": [
    "evaluate(svc_pipeline)"
   ]
  },
  {
   "cell_type": "markdown",
   "metadata": {},
   "source": [
    "#### Using Logistic Regression and L1 for feature selection"
   ]
  },
  {
   "cell_type": "code",
   "execution_count": 58,
   "metadata": {},
   "outputs": [
    {
     "data": {
      "text/plain": [
       "Pipeline(memory=None,\n",
       "     steps=[('feature_selection', SelectFromModel(estimator=LogisticRegression(C=1.0, class_weight=None, dual=False, fit_intercept=True,\n",
       "          intercept_scaling=1, max_iter=100, multi_class='ovr', n_jobs=1,\n",
       "          penalty='l1', random_state=None, solver='liblinear', tol=0.0001,\n",
       "          verbose=0...      presort='auto', random_state=None, subsample=1.0, verbose=0,\n",
       "              warm_start=False))])"
      ]
     },
     "execution_count": 58,
     "metadata": {},
     "output_type": "execute_result"
    }
   ],
   "source": [
    "lr_pipeline = Pipeline([\n",
    "  ('feature_selection', SelectFromModel(LogisticRegression(penalty=\"l1\"))),\n",
    "  ('classification', GradientBoostingClassifier(n_estimators = 250, max_depth = 5, learning_rate = 0.1))\n",
    "])\n",
    "lr_pipeline.fit(X_train, y_train)"
   ]
  },
  {
   "cell_type": "code",
   "execution_count": 59,
   "metadata": {},
   "outputs": [
    {
     "name": "stdout",
     "output_type": "stream",
     "text": [
      "-----Training----- \n",
      "\n",
      "Train Accuracy:  0.994500220759\n",
      "Train Recall:  0.95444191344\n",
      "Train Confusion Matrix\n",
      "        0    1\n",
      "0  103194  553\n",
      "1      20  419 \n",
      "\n",
      "-----Validation----- \n",
      "\n",
      "Test Accuracy:  0.991025780485\n",
      "Test Recall:  0.302631578947\n",
      "Test Confusion Matrix\n",
      "       0    1\n",
      "0  18198  112\n",
      "1     53   23\n"
     ]
    }
   ],
   "source": [
    "evaluate(lr_pipeline)"
   ]
  },
  {
   "cell_type": "markdown",
   "metadata": {},
   "source": [
    "# Test scores for the final model"
   ]
  },
  {
   "cell_type": "code",
   "execution_count": 61,
   "metadata": {
    "scrolled": false
   },
   "outputs": [
    {
     "name": "stdout",
     "output_type": "stream",
     "text": [
      "-----Testing----- \n",
      "\n",
      "Train Accuracy:  0.994868475799\n",
      "Test Recall:  0.279661016949\n",
      "Test Confusion Matrix\n",
      "       0   1\n",
      "0  21487  26\n",
      "1     85  33 \n",
      "\n"
     ]
    }
   ],
   "source": [
    "evaluate_test(svc_pipeline)"
   ]
  },
  {
   "cell_type": "code",
   "execution_count": 67,
   "metadata": {},
   "outputs": [
    {
     "data": {
      "text/plain": [
       "0.89972883481901256"
      ]
     },
     "execution_count": 67,
     "metadata": {},
     "output_type": "execute_result"
    }
   ],
   "source": [
    "roc_auc_score(y_score=svc_pipeline.predict(X_train), y_true=y_train)"
   ]
  },
  {
   "cell_type": "markdown",
   "metadata": {},
   "source": [
    "## Saving final model"
   ]
  },
  {
   "cell_type": "code",
   "execution_count": 64,
   "metadata": {
    "collapsed": true
   },
   "outputs": [],
   "source": [
    "save_classifier = open(\"task1_model.pickle\", \"wb\")\n",
    "pickle.dump(svc_pipeline, save_classifier)\n",
    "save_classifier.close()"
   ]
  }
 ],
 "metadata": {
  "kernelspec": {
   "display_name": "Python 3",
   "language": "python",
   "name": "python3"
  },
  "language_info": {
   "codemirror_mode": {
    "name": "ipython",
    "version": 3
   },
   "file_extension": ".py",
   "mimetype": "text/x-python",
   "name": "python",
   "nbconvert_exporter": "python",
   "pygments_lexer": "ipython3",
   "version": "3.6.3"
  }
 },
 "nbformat": 4,
 "nbformat_minor": 2
}
