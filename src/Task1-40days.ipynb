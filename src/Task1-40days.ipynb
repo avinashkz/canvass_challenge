{
 "cells": [
  {
   "cell_type": "markdown",
   "metadata": {},
   "source": [
    "## Task 1\n",
    "`predictive_maintenance_dataset.csv` is a file that contains parameters and settings (`operational_setting_1`, `operational_setting_2`, `sensor_measurement_1`, `sensor_measurement_2`, etc.) for many wind turbines. There is a column called `unit_number` which specifies which turbine it is, and one called `status`, in which a value of 1 means the turbine broke down that day, and 0 means it didn't. Your task is to create a model that, when fed with operational settings and sensor measurements (`unit_number` and `time_stamp` will *not* be fed in), outputs 1 if the turbine will break down within the next 40 days, and 0 if not."
   ]
  },
  {
   "cell_type": "code",
   "execution_count": 1,
   "metadata": {
    "collapsed": true
   },
   "outputs": [],
   "source": [
    "import numpy as np\n",
    "import pandas as pd\n",
    "import matplotlib.pyplot as plt"
   ]
  },
  {
   "cell_type": "code",
   "execution_count": 2,
   "metadata": {
    "collapsed": true
   },
   "outputs": [],
   "source": [
    "%matplotlib inline"
   ]
  },
  {
   "cell_type": "code",
   "execution_count": 3,
   "metadata": {
    "collapsed": true
   },
   "outputs": [],
   "source": [
    "# Data preprocessing\n",
    "from sklearn.preprocessing import Imputer\n",
    "from sklearn.model_selection import train_test_split"
   ]
  },
  {
   "cell_type": "code",
   "execution_count": 4,
   "metadata": {
    "collapsed": true
   },
   "outputs": [],
   "source": [
    "# Evaluation metrics\n",
    "from sklearn.metrics import confusion_matrix, recall_score, roc_auc_score\n"
   ]
  },
  {
   "cell_type": "code",
   "execution_count": 5,
   "metadata": {
    "collapsed": true
   },
   "outputs": [],
   "source": [
    "# Classification models\n",
    "from xgboost import XGBClassifier\n",
    "from sklearn.linear_model import LogisticRegression, SGDClassifier\n",
    "from sklearn.ensemble import RandomForestClassifier\n",
    "from sklearn.ensemble import GradientBoostingClassifier"
   ]
  },
  {
   "cell_type": "code",
   "execution_count": 6,
   "metadata": {
    "collapsed": true
   },
   "outputs": [],
   "source": [
    "# Libraries for hyperparameter optimization\n",
    "from sklearn.model_selection import RandomizedSearchCV"
   ]
  },
  {
   "cell_type": "code",
   "execution_count": 7,
   "metadata": {
    "collapsed": true
   },
   "outputs": [],
   "source": [
    "# Libraries for feature selection\n",
    "from sklearn.ensemble import ExtraTreesClassifier\n",
    "from sklearn.pipeline import Pipeline\n",
    "from sklearn.feature_selection import SelectFromModel\n",
    "from sklearn.svm import LinearSVC"
   ]
  },
  {
   "cell_type": "code",
   "execution_count": 8,
   "metadata": {
    "collapsed": true
   },
   "outputs": [],
   "source": [
    "# To save the final model\n",
    "import pickle"
   ]
  },
  {
   "cell_type": "code",
   "execution_count": 13,
   "metadata": {
    "collapsed": true
   },
   "outputs": [],
   "source": [
    "clf_data = pd.read_csv(\"predictive_maintenance_dataset_40days.csv\")"
   ]
  },
  {
   "cell_type": "code",
   "execution_count": 14,
   "metadata": {},
   "outputs": [
    {
     "data": {
      "text/plain": [
       "(118883, 27)"
      ]
     },
     "execution_count": 14,
     "metadata": {},
     "output_type": "execute_result"
    }
   ],
   "source": [
    "clf_data.shape"
   ]
  },
  {
   "cell_type": "code",
   "execution_count": 15,
   "metadata": {
    "scrolled": false
   },
   "outputs": [
    {
     "data": {
      "text/html": [
       "<div>\n",
       "<style>\n",
       "    .dataframe thead tr:only-child th {\n",
       "        text-align: right;\n",
       "    }\n",
       "\n",
       "    .dataframe thead th {\n",
       "        text-align: left;\n",
       "    }\n",
       "\n",
       "    .dataframe tbody tr th {\n",
       "        vertical-align: top;\n",
       "    }\n",
       "</style>\n",
       "<table border=\"1\" class=\"dataframe\">\n",
       "  <thead>\n",
       "    <tr style=\"text-align: right;\">\n",
       "      <th></th>\n",
       "      <th>unit_number</th>\n",
       "      <th>time_stamp</th>\n",
       "      <th>status</th>\n",
       "      <th>operational_setting_1</th>\n",
       "      <th>operational_setting_2</th>\n",
       "      <th>operational_setting_3</th>\n",
       "      <th>sensor_measurement_1</th>\n",
       "      <th>sensor_measurement_2</th>\n",
       "      <th>sensor_measurement_3</th>\n",
       "      <th>sensor_measurement_4</th>\n",
       "      <th>...</th>\n",
       "      <th>sensor_measurement_12</th>\n",
       "      <th>sensor_measurement_13</th>\n",
       "      <th>sensor_measurement_14</th>\n",
       "      <th>sensor_measurement_15</th>\n",
       "      <th>sensor_measurement_16</th>\n",
       "      <th>sensor_measurement_17</th>\n",
       "      <th>sensor_measurement_18</th>\n",
       "      <th>sensor_measurement_19</th>\n",
       "      <th>sensor_measurement_20</th>\n",
       "      <th>sensor_measurement_21</th>\n",
       "    </tr>\n",
       "  </thead>\n",
       "  <tbody>\n",
       "    <tr>\n",
       "      <th>0</th>\n",
       "      <td>540</td>\n",
       "      <td>2016-05-01T12:00:00Z</td>\n",
       "      <td>0</td>\n",
       "      <td>42.0033</td>\n",
       "      <td>0.8400</td>\n",
       "      <td>High</td>\n",
       "      <td>445.00</td>\n",
       "      <td>549.11</td>\n",
       "      <td>1345.86</td>\n",
       "      <td>1123.35</td>\n",
       "      <td>...</td>\n",
       "      <td>130.38</td>\n",
       "      <td>2387.98</td>\n",
       "      <td>8075.70</td>\n",
       "      <td>9.3392</td>\n",
       "      <td>0.02</td>\n",
       "      <td>327.0</td>\n",
       "      <td>2212.0</td>\n",
       "      <td>100.00</td>\n",
       "      <td>10.59</td>\n",
       "      <td>6.4311</td>\n",
       "    </tr>\n",
       "    <tr>\n",
       "      <th>1</th>\n",
       "      <td>540</td>\n",
       "      <td>2016-05-02T12:00:00Z</td>\n",
       "      <td>0</td>\n",
       "      <td>10.0049</td>\n",
       "      <td>0.2513</td>\n",
       "      <td>High</td>\n",
       "      <td>489.05</td>\n",
       "      <td>604.12</td>\n",
       "      <td>1497.52</td>\n",
       "      <td>1299.13</td>\n",
       "      <td>...</td>\n",
       "      <td>371.99</td>\n",
       "      <td>2387.94</td>\n",
       "      <td>8126.65</td>\n",
       "      <td>8.5735</td>\n",
       "      <td>0.03</td>\n",
       "      <td>367.0</td>\n",
       "      <td>2319.0</td>\n",
       "      <td>100.00</td>\n",
       "      <td>28.54</td>\n",
       "      <td>17.2279</td>\n",
       "    </tr>\n",
       "    <tr>\n",
       "      <th>2</th>\n",
       "      <td>540</td>\n",
       "      <td>2016-05-03T12:00:00Z</td>\n",
       "      <td>0</td>\n",
       "      <td>20.0026</td>\n",
       "      <td>0.7011</td>\n",
       "      <td>High</td>\n",
       "      <td>491.19</td>\n",
       "      <td>606.99</td>\n",
       "      <td>1480.01</td>\n",
       "      <td>NaN</td>\n",
       "      <td>...</td>\n",
       "      <td>314.99</td>\n",
       "      <td>2387.97</td>\n",
       "      <td>8061.05</td>\n",
       "      <td>9.1776</td>\n",
       "      <td>0.02</td>\n",
       "      <td>364.0</td>\n",
       "      <td>2324.0</td>\n",
       "      <td>100.00</td>\n",
       "      <td>24.40</td>\n",
       "      <td>14.7659</td>\n",
       "    </tr>\n",
       "    <tr>\n",
       "      <th>3</th>\n",
       "      <td>540</td>\n",
       "      <td>2016-05-04T12:00:00Z</td>\n",
       "      <td>0</td>\n",
       "      <td>42.0023</td>\n",
       "      <td>0.8409</td>\n",
       "      <td>High</td>\n",
       "      <td>445.00</td>\n",
       "      <td>549.09</td>\n",
       "      <td>1346.29</td>\n",
       "      <td>1119.90</td>\n",
       "      <td>...</td>\n",
       "      <td>130.64</td>\n",
       "      <td>2387.98</td>\n",
       "      <td>8080.58</td>\n",
       "      <td>9.3504</td>\n",
       "      <td>0.02</td>\n",
       "      <td>NaN</td>\n",
       "      <td>NaN</td>\n",
       "      <td>100.00</td>\n",
       "      <td>10.74</td>\n",
       "      <td>6.2972</td>\n",
       "    </tr>\n",
       "    <tr>\n",
       "      <th>4</th>\n",
       "      <td>540</td>\n",
       "      <td>2016-05-05T12:00:00Z</td>\n",
       "      <td>0</td>\n",
       "      <td>25.0031</td>\n",
       "      <td>0.6200</td>\n",
       "      <td>NaN</td>\n",
       "      <td>462.54</td>\n",
       "      <td>536.18</td>\n",
       "      <td>1260.24</td>\n",
       "      <td>1038.22</td>\n",
       "      <td>...</td>\n",
       "      <td>164.24</td>\n",
       "      <td>2028.22</td>\n",
       "      <td>7866.67</td>\n",
       "      <td>10.8344</td>\n",
       "      <td>0.02</td>\n",
       "      <td>307.0</td>\n",
       "      <td>1915.0</td>\n",
       "      <td>84.93</td>\n",
       "      <td>14.34</td>\n",
       "      <td>8.5780</td>\n",
       "    </tr>\n",
       "  </tbody>\n",
       "</table>\n",
       "<p>5 rows × 27 columns</p>\n",
       "</div>"
      ],
      "text/plain": [
       "   unit_number            time_stamp  status  operational_setting_1  \\\n",
       "0          540  2016-05-01T12:00:00Z       0                42.0033   \n",
       "1          540  2016-05-02T12:00:00Z       0                10.0049   \n",
       "2          540  2016-05-03T12:00:00Z       0                20.0026   \n",
       "3          540  2016-05-04T12:00:00Z       0                42.0023   \n",
       "4          540  2016-05-05T12:00:00Z       0                25.0031   \n",
       "\n",
       "   operational_setting_2 operational_setting_3  sensor_measurement_1  \\\n",
       "0                 0.8400                  High                445.00   \n",
       "1                 0.2513                  High                489.05   \n",
       "2                 0.7011                  High                491.19   \n",
       "3                 0.8409                  High                445.00   \n",
       "4                 0.6200                   NaN                462.54   \n",
       "\n",
       "   sensor_measurement_2  sensor_measurement_3  sensor_measurement_4  \\\n",
       "0                549.11               1345.86               1123.35   \n",
       "1                604.12               1497.52               1299.13   \n",
       "2                606.99               1480.01                   NaN   \n",
       "3                549.09               1346.29               1119.90   \n",
       "4                536.18               1260.24               1038.22   \n",
       "\n",
       "           ...            sensor_measurement_12  sensor_measurement_13  \\\n",
       "0          ...                           130.38                2387.98   \n",
       "1          ...                           371.99                2387.94   \n",
       "2          ...                           314.99                2387.97   \n",
       "3          ...                           130.64                2387.98   \n",
       "4          ...                           164.24                2028.22   \n",
       "\n",
       "   sensor_measurement_14  sensor_measurement_15  sensor_measurement_16  \\\n",
       "0                8075.70                 9.3392                   0.02   \n",
       "1                8126.65                 8.5735                   0.03   \n",
       "2                8061.05                 9.1776                   0.02   \n",
       "3                8080.58                 9.3504                   0.02   \n",
       "4                7866.67                10.8344                   0.02   \n",
       "\n",
       "   sensor_measurement_17  sensor_measurement_18  sensor_measurement_19  \\\n",
       "0                  327.0                 2212.0                 100.00   \n",
       "1                  367.0                 2319.0                 100.00   \n",
       "2                  364.0                 2324.0                 100.00   \n",
       "3                    NaN                    NaN                 100.00   \n",
       "4                  307.0                 1915.0                  84.93   \n",
       "\n",
       "   sensor_measurement_20  sensor_measurement_21  \n",
       "0                  10.59                 6.4311  \n",
       "1                  28.54                17.2279  \n",
       "2                  24.40                14.7659  \n",
       "3                  10.74                 6.2972  \n",
       "4                  14.34                 8.5780  \n",
       "\n",
       "[5 rows x 27 columns]"
      ]
     },
     "execution_count": 15,
     "metadata": {},
     "output_type": "execute_result"
    }
   ],
   "source": [
    "clf_data.head()"
   ]
  },
  {
   "cell_type": "code",
   "execution_count": 16,
   "metadata": {},
   "outputs": [
    {
     "data": {
      "text/plain": [
       "0    High\n",
       "1    High\n",
       "2    High\n",
       "3    High\n",
       "4     NaN\n",
       "Name: operational_setting_3, dtype: object"
      ]
     },
     "execution_count": 16,
     "metadata": {},
     "output_type": "execute_result"
    }
   ],
   "source": [
    "clf_data['operational_setting_3'].head()"
   ]
  },
  {
   "cell_type": "code",
   "execution_count": 17,
   "metadata": {},
   "outputs": [
    {
     "data": {
      "text/plain": [
       "0    1.0\n",
       "1    1.0\n",
       "2    1.0\n",
       "3    1.0\n",
       "4    NaN\n",
       "Name: operational_setting_3, dtype: float64"
      ]
     },
     "execution_count": 17,
     "metadata": {},
     "output_type": "execute_result"
    }
   ],
   "source": [
    "clf_data['operational_setting_3'].map( {'High':1, 'Low':0} ).head()"
   ]
  },
  {
   "cell_type": "code",
   "execution_count": 18,
   "metadata": {},
   "outputs": [
    {
     "data": {
      "text/plain": [
       "array([  1.,  nan,   0.])"
      ]
     },
     "execution_count": 18,
     "metadata": {},
     "output_type": "execute_result"
    }
   ],
   "source": [
    "clf_data['operational_setting_3'].map( {'High':1, 'Low':0} ).unique()"
   ]
  },
  {
   "cell_type": "code",
   "execution_count": 19,
   "metadata": {
    "collapsed": true
   },
   "outputs": [],
   "source": [
    "clf_data['os3_binary'] = clf_data['operational_setting_3'].map( {'High':1, 'Low':0} )"
   ]
  },
  {
   "cell_type": "code",
   "execution_count": 20,
   "metadata": {},
   "outputs": [
    {
     "data": {
      "text/html": [
       "<div>\n",
       "<style>\n",
       "    .dataframe thead tr:only-child th {\n",
       "        text-align: right;\n",
       "    }\n",
       "\n",
       "    .dataframe thead th {\n",
       "        text-align: left;\n",
       "    }\n",
       "\n",
       "    .dataframe tbody tr th {\n",
       "        vertical-align: top;\n",
       "    }\n",
       "</style>\n",
       "<table border=\"1\" class=\"dataframe\">\n",
       "  <thead>\n",
       "    <tr style=\"text-align: right;\">\n",
       "      <th></th>\n",
       "      <th>unit_number</th>\n",
       "      <th>time_stamp</th>\n",
       "      <th>status</th>\n",
       "      <th>operational_setting_1</th>\n",
       "      <th>operational_setting_2</th>\n",
       "      <th>operational_setting_3</th>\n",
       "      <th>sensor_measurement_1</th>\n",
       "      <th>sensor_measurement_2</th>\n",
       "      <th>sensor_measurement_3</th>\n",
       "      <th>sensor_measurement_4</th>\n",
       "      <th>...</th>\n",
       "      <th>sensor_measurement_13</th>\n",
       "      <th>sensor_measurement_14</th>\n",
       "      <th>sensor_measurement_15</th>\n",
       "      <th>sensor_measurement_16</th>\n",
       "      <th>sensor_measurement_17</th>\n",
       "      <th>sensor_measurement_18</th>\n",
       "      <th>sensor_measurement_19</th>\n",
       "      <th>sensor_measurement_20</th>\n",
       "      <th>sensor_measurement_21</th>\n",
       "      <th>os3_binary</th>\n",
       "    </tr>\n",
       "  </thead>\n",
       "  <tbody>\n",
       "    <tr>\n",
       "      <th>0</th>\n",
       "      <td>540</td>\n",
       "      <td>2016-05-01T12:00:00Z</td>\n",
       "      <td>0</td>\n",
       "      <td>42.0033</td>\n",
       "      <td>0.8400</td>\n",
       "      <td>High</td>\n",
       "      <td>445.00</td>\n",
       "      <td>549.11</td>\n",
       "      <td>1345.86</td>\n",
       "      <td>1123.35</td>\n",
       "      <td>...</td>\n",
       "      <td>2387.98</td>\n",
       "      <td>8075.70</td>\n",
       "      <td>9.3392</td>\n",
       "      <td>0.02</td>\n",
       "      <td>327.0</td>\n",
       "      <td>2212.0</td>\n",
       "      <td>100.00</td>\n",
       "      <td>10.59</td>\n",
       "      <td>6.4311</td>\n",
       "      <td>1.0</td>\n",
       "    </tr>\n",
       "    <tr>\n",
       "      <th>1</th>\n",
       "      <td>540</td>\n",
       "      <td>2016-05-02T12:00:00Z</td>\n",
       "      <td>0</td>\n",
       "      <td>10.0049</td>\n",
       "      <td>0.2513</td>\n",
       "      <td>High</td>\n",
       "      <td>489.05</td>\n",
       "      <td>604.12</td>\n",
       "      <td>1497.52</td>\n",
       "      <td>1299.13</td>\n",
       "      <td>...</td>\n",
       "      <td>2387.94</td>\n",
       "      <td>8126.65</td>\n",
       "      <td>8.5735</td>\n",
       "      <td>0.03</td>\n",
       "      <td>367.0</td>\n",
       "      <td>2319.0</td>\n",
       "      <td>100.00</td>\n",
       "      <td>28.54</td>\n",
       "      <td>17.2279</td>\n",
       "      <td>1.0</td>\n",
       "    </tr>\n",
       "    <tr>\n",
       "      <th>2</th>\n",
       "      <td>540</td>\n",
       "      <td>2016-05-03T12:00:00Z</td>\n",
       "      <td>0</td>\n",
       "      <td>20.0026</td>\n",
       "      <td>0.7011</td>\n",
       "      <td>High</td>\n",
       "      <td>491.19</td>\n",
       "      <td>606.99</td>\n",
       "      <td>1480.01</td>\n",
       "      <td>NaN</td>\n",
       "      <td>...</td>\n",
       "      <td>2387.97</td>\n",
       "      <td>8061.05</td>\n",
       "      <td>9.1776</td>\n",
       "      <td>0.02</td>\n",
       "      <td>364.0</td>\n",
       "      <td>2324.0</td>\n",
       "      <td>100.00</td>\n",
       "      <td>24.40</td>\n",
       "      <td>14.7659</td>\n",
       "      <td>1.0</td>\n",
       "    </tr>\n",
       "    <tr>\n",
       "      <th>3</th>\n",
       "      <td>540</td>\n",
       "      <td>2016-05-04T12:00:00Z</td>\n",
       "      <td>0</td>\n",
       "      <td>42.0023</td>\n",
       "      <td>0.8409</td>\n",
       "      <td>High</td>\n",
       "      <td>445.00</td>\n",
       "      <td>549.09</td>\n",
       "      <td>1346.29</td>\n",
       "      <td>1119.90</td>\n",
       "      <td>...</td>\n",
       "      <td>2387.98</td>\n",
       "      <td>8080.58</td>\n",
       "      <td>9.3504</td>\n",
       "      <td>0.02</td>\n",
       "      <td>NaN</td>\n",
       "      <td>NaN</td>\n",
       "      <td>100.00</td>\n",
       "      <td>10.74</td>\n",
       "      <td>6.2972</td>\n",
       "      <td>1.0</td>\n",
       "    </tr>\n",
       "    <tr>\n",
       "      <th>4</th>\n",
       "      <td>540</td>\n",
       "      <td>2016-05-05T12:00:00Z</td>\n",
       "      <td>0</td>\n",
       "      <td>25.0031</td>\n",
       "      <td>0.6200</td>\n",
       "      <td>NaN</td>\n",
       "      <td>462.54</td>\n",
       "      <td>536.18</td>\n",
       "      <td>1260.24</td>\n",
       "      <td>1038.22</td>\n",
       "      <td>...</td>\n",
       "      <td>2028.22</td>\n",
       "      <td>7866.67</td>\n",
       "      <td>10.8344</td>\n",
       "      <td>0.02</td>\n",
       "      <td>307.0</td>\n",
       "      <td>1915.0</td>\n",
       "      <td>84.93</td>\n",
       "      <td>14.34</td>\n",
       "      <td>8.5780</td>\n",
       "      <td>NaN</td>\n",
       "    </tr>\n",
       "  </tbody>\n",
       "</table>\n",
       "<p>5 rows × 28 columns</p>\n",
       "</div>"
      ],
      "text/plain": [
       "   unit_number            time_stamp  status  operational_setting_1  \\\n",
       "0          540  2016-05-01T12:00:00Z       0                42.0033   \n",
       "1          540  2016-05-02T12:00:00Z       0                10.0049   \n",
       "2          540  2016-05-03T12:00:00Z       0                20.0026   \n",
       "3          540  2016-05-04T12:00:00Z       0                42.0023   \n",
       "4          540  2016-05-05T12:00:00Z       0                25.0031   \n",
       "\n",
       "   operational_setting_2 operational_setting_3  sensor_measurement_1  \\\n",
       "0                 0.8400                  High                445.00   \n",
       "1                 0.2513                  High                489.05   \n",
       "2                 0.7011                  High                491.19   \n",
       "3                 0.8409                  High                445.00   \n",
       "4                 0.6200                   NaN                462.54   \n",
       "\n",
       "   sensor_measurement_2  sensor_measurement_3  sensor_measurement_4  \\\n",
       "0                549.11               1345.86               1123.35   \n",
       "1                604.12               1497.52               1299.13   \n",
       "2                606.99               1480.01                   NaN   \n",
       "3                549.09               1346.29               1119.90   \n",
       "4                536.18               1260.24               1038.22   \n",
       "\n",
       "      ...      sensor_measurement_13  sensor_measurement_14  \\\n",
       "0     ...                    2387.98                8075.70   \n",
       "1     ...                    2387.94                8126.65   \n",
       "2     ...                    2387.97                8061.05   \n",
       "3     ...                    2387.98                8080.58   \n",
       "4     ...                    2028.22                7866.67   \n",
       "\n",
       "   sensor_measurement_15  sensor_measurement_16  sensor_measurement_17  \\\n",
       "0                 9.3392                   0.02                  327.0   \n",
       "1                 8.5735                   0.03                  367.0   \n",
       "2                 9.1776                   0.02                  364.0   \n",
       "3                 9.3504                   0.02                    NaN   \n",
       "4                10.8344                   0.02                  307.0   \n",
       "\n",
       "   sensor_measurement_18  sensor_measurement_19  sensor_measurement_20  \\\n",
       "0                 2212.0                 100.00                  10.59   \n",
       "1                 2319.0                 100.00                  28.54   \n",
       "2                 2324.0                 100.00                  24.40   \n",
       "3                    NaN                 100.00                  10.74   \n",
       "4                 1915.0                  84.93                  14.34   \n",
       "\n",
       "   sensor_measurement_21  os3_binary  \n",
       "0                 6.4311         1.0  \n",
       "1                17.2279         1.0  \n",
       "2                14.7659         1.0  \n",
       "3                 6.2972         1.0  \n",
       "4                 8.5780         NaN  \n",
       "\n",
       "[5 rows x 28 columns]"
      ]
     },
     "execution_count": 20,
     "metadata": {},
     "output_type": "execute_result"
    }
   ],
   "source": [
    "clf_data.head()"
   ]
  },
  {
   "cell_type": "code",
   "execution_count": 21,
   "metadata": {
    "collapsed": true
   },
   "outputs": [],
   "source": [
    "X = clf_data.drop(['time_stamp', 'unit_number','status', 'operational_setting_3'], axis=1)"
   ]
  },
  {
   "cell_type": "code",
   "execution_count": 22,
   "metadata": {
    "scrolled": false
   },
   "outputs": [
    {
     "data": {
      "text/plain": [
       "<matplotlib.axes._subplots.AxesSubplot at 0x1a175e2438>"
      ]
     },
     "execution_count": 22,
     "metadata": {},
     "output_type": "execute_result"
    },
    {
     "data": {
      "image/png": "[encoded data removed]",
      "text/plain": [
       "<matplotlib.figure.Figure at 0x1a175f63c8>"
      ]
     },
     "metadata": {},
     "output_type": "display_data"
    }
   ],
   "source": [
    "X.isnull().sum().plot(kind='bar')"
   ]
  },
  {
   "cell_type": "code",
   "execution_count": 23,
   "metadata": {},
   "outputs": [
    {
     "name": "stderr",
     "output_type": "stream",
     "text": [
      "/Users/avinash/anaconda3/lib/python3.6/site-packages/ipykernel_launcher.py:3: FutureWarning: reshape is deprecated and will raise in a subsequent release. Please use .values.reshape(...) instead\n",
      "  This is separate from the ipykernel package so we can avoid doing imports until\n"
     ]
    }
   ],
   "source": [
    "# Imputing missing values in categorical variables\n",
    "data_imputer = Imputer(strategy='most_frequent')\n",
    "X['os3_binary'] = data_imputer.fit_transform(X['os3_binary'].reshape(-1,1))"
   ]
  },
  {
   "cell_type": "code",
   "execution_count": 24,
   "metadata": {},
   "outputs": [
    {
     "data": {
      "text/plain": [
       "array([ 1.,  0.])"
      ]
     },
     "execution_count": 24,
     "metadata": {},
     "output_type": "execute_result"
    }
   ],
   "source": [
    "# Checking the unique values for os3\n",
    "X['os3_binary'].unique()"
   ]
  },
  {
   "cell_type": "code",
   "execution_count": 25,
   "metadata": {
    "collapsed": true
   },
   "outputs": [],
   "source": [
    "data_imputer = Imputer()\n",
    "X_imp = data_imputer.fit_transform(X)"
   ]
  },
  {
   "cell_type": "code",
   "execution_count": 26,
   "metadata": {
    "collapsed": true
   },
   "outputs": [],
   "source": [
    "X_imp = pd.DataFrame(X_imp, columns=X.columns)"
   ]
  },
  {
   "cell_type": "code",
   "execution_count": 27,
   "metadata": {},
   "outputs": [
    {
     "data": {
      "text/plain": [
       "<matplotlib.axes._subplots.AxesSubplot at 0x1a175f6748>"
      ]
     },
     "execution_count": 27,
     "metadata": {},
     "output_type": "execute_result"
    },
    {
     "data": {
      "image/png": "[encoded data removed]",
      "text/plain": [
       "<matplotlib.figure.Figure at 0x1a175e2d68>"
      ]
     },
     "metadata": {},
     "output_type": "display_data"
    }
   ],
   "source": [
    "X_imp.isnull().sum().plot(kind='bar')"
   ]
  },
  {
   "cell_type": "code",
   "execution_count": 28,
   "metadata": {
    "collapsed": true
   },
   "outputs": [],
   "source": [
    "y = clf_data['status']"
   ]
  },
  {
   "cell_type": "code",
   "execution_count": 29,
   "metadata": {
    "collapsed": true
   },
   "outputs": [],
   "source": [
    "# Train test split\n",
    "X_train, X_test, y_train, y_test = train_test_split(X_imp, y, test_size=0.15, random_state=7)\n",
    "\n",
    "# Train validation split\n",
    "X_train, X_val, y_train, y_val = train_test_split(X_train, y_train, test_size=0.15, random_state=7)"
   ]
  },
  {
   "cell_type": "code",
   "execution_count": 31,
   "metadata": {
    "collapsed": true
   },
   "outputs": [],
   "source": [
    "def evaluate(model):\n",
    "    print(\"-----Training-----\", \"\\n\")\n",
    "    # Accuracy\n",
    "    train_score = model.score(X_train, y_train)\n",
    "    print(\"Train Accuracy: \", train_score)\n",
    "    # Recall Score\n",
    "    train_recall = recall_score(y_pred = model.predict(X_train), y_true=y_train)\n",
    "    print(\"Train Recall: \", train_recall)\n",
    "    # Confusion Matrix\n",
    "    print(\"Train Confusion Matrix\")\n",
    "    cm_train = pd.DataFrame(confusion_matrix(y_pred = model.predict(X_train), y_true=y_train))\n",
    "    print(cm_train, \"\\n\")\n",
    "    \n",
    "    print(\"-----Validation-----\", \"\\n\")\n",
    "    # Accuracy\n",
    "    val_score = model.score(X_val, y_val)\n",
    "    print(\"Test Accuracy: \", val_score)\n",
    "    # Recall Scores\n",
    "    val_recall = recall_score(y_pred = model.predict(X_val), y_true=y_val)\n",
    "    print(\"Test Recall: \", val_recall)\n",
    "    # Confusion Matrix\n",
    "    print(\"Test Confusion Matrix\")\n",
    "    cm_val = pd.DataFrame(confusion_matrix(y_pred = model.predict(X_val), y_true=y_val))\n",
    "    print(cm_val)\n",
    "\n",
    "def evaluate_test(model):\n",
    "    print(\"-----Testing-----\", \"\\n\")\n",
    "    # Accuracy\n",
    "    test_score = model.score(X_test, y_test)\n",
    "    print(\"Train Accuracy: \", test_score)\n",
    "    # Recall Score\n",
    "    test_recall = recall_score(y_pred = model.predict(X_test), y_true=y_test)\n",
    "    print(\"Test Recall: \", test_recall)\n",
    "    # Confusion Matrix\n",
    "    print(\"Test Confusion Matrix\")\n",
    "    cm_test = pd.DataFrame(confusion_matrix(y_pred = model.predict(X_test), y_true=y_test))\n",
    "    print(cm_test, \"\\n\")"
   ]
  },
  {
   "cell_type": "markdown",
   "metadata": {},
   "source": [
    "## Using Logistic Regression"
   ]
  },
  {
   "cell_type": "code",
   "execution_count": 32,
   "metadata": {},
   "outputs": [
    {
     "data": {
      "text/plain": [
       "LogisticRegression(C=1.0, class_weight=None, dual=False, fit_intercept=True,\n",
       "          intercept_scaling=1, max_iter=100, multi_class='ovr', n_jobs=1,\n",
       "          penalty='l2', random_state=None, solver='liblinear', tol=0.0001,\n",
       "          verbose=0, warm_start=False)"
      ]
     },
     "execution_count": 32,
     "metadata": {},
     "output_type": "execute_result"
    }
   ],
   "source": [
    "lr_clf = LogisticRegression()\n",
    "lr_clf.fit(X_train, y_train)"
   ]
  },
  {
   "cell_type": "code",
   "execution_count": 33,
   "metadata": {},
   "outputs": [
    {
     "name": "stdout",
     "output_type": "stream",
     "text": [
      "-----Training----- \n",
      "\n",
      "Train Accuracy:  0.99480743259\n",
      "Train Recall:  0.0\n",
      "Train Confusion Matrix\n",
      "       0  1\n",
      "0  85446  0\n",
      "1    446  0 \n",
      "\n",
      "-----Validation----- \n",
      "\n",
      "Test Accuracy:  0.994326428289\n",
      "Test Recall:  0.0\n",
      "Test Confusion Matrix\n",
      "       0  1\n",
      "0  15072  0\n",
      "1     86  0\n"
     ]
    }
   ],
   "source": [
    "evaluate(lr_clf)"
   ]
  },
  {
   "cell_type": "markdown",
   "metadata": {},
   "source": [
    "## Using SGD"
   ]
  },
  {
   "cell_type": "code",
   "execution_count": 34,
   "metadata": {},
   "outputs": [
    {
     "name": "stderr",
     "output_type": "stream",
     "text": [
      "/Users/avinash/anaconda3/lib/python3.6/site-packages/sklearn/linear_model/stochastic_gradient.py:128: FutureWarning: max_iter and tol parameters have been added in <class 'sklearn.linear_model.stochastic_gradient.SGDClassifier'> in 0.19. If both are left unset, they default to max_iter=5 and tol=None. If tol is not None, max_iter defaults to max_iter=1000. From 0.21, default max_iter will be 1000, and default tol will be 1e-3.\n",
      "  \"and default tol will be 1e-3.\" % type(self), FutureWarning)\n"
     ]
    },
    {
     "data": {
      "text/plain": [
       "SGDClassifier(alpha=0.0001, average=False, class_weight=None, epsilon=0.1,\n",
       "       eta0=0.0, fit_intercept=True, l1_ratio=0.15,\n",
       "       learning_rate='optimal', loss='hinge', max_iter=None, n_iter=None,\n",
       "       n_jobs=1, penalty='l1', power_t=0.5, random_state=None,\n",
       "       shuffle=True, tol=None, verbose=0, warm_start=False)"
      ]
     },
     "execution_count": 34,
     "metadata": {},
     "output_type": "execute_result"
    }
   ],
   "source": [
    "sgd_clf = SGDClassifier(penalty=\"l1\")\n",
    "sgd_clf.fit(X_train, y_train)"
   ]
  },
  {
   "cell_type": "code",
   "execution_count": 35,
   "metadata": {},
   "outputs": [
    {
     "name": "stdout",
     "output_type": "stream",
     "text": [
      "-----Training----- \n",
      "\n",
      "Train Accuracy:  0.99480743259\n",
      "Train Recall:  0.0\n",
      "Train Confusion Matrix\n",
      "       0  1\n",
      "0  85446  0\n",
      "1    446  0 \n",
      "\n",
      "-----Validation----- \n",
      "\n",
      "Test Accuracy:  0.994326428289\n",
      "Test Recall:  0.0\n",
      "Test Confusion Matrix\n",
      "       0  1\n",
      "0  15072  0\n",
      "1     86  0\n"
     ]
    }
   ],
   "source": [
    "evaluate(sgd_clf)"
   ]
  },
  {
   "cell_type": "markdown",
   "metadata": {},
   "source": [
    "## Using Random Forest"
   ]
  },
  {
   "cell_type": "code",
   "execution_count": 36,
   "metadata": {
    "scrolled": true
   },
   "outputs": [
    {
     "data": {
      "text/plain": [
       "RandomForestClassifier(bootstrap=True, class_weight=None, criterion='gini',\n",
       "            max_depth=None, max_features='auto', max_leaf_nodes=None,\n",
       "            min_impurity_decrease=0.0, min_impurity_split=None,\n",
       "            min_samples_leaf=1, min_samples_split=2,\n",
       "            min_weight_fraction_leaf=0.0, n_estimators=10, n_jobs=1,\n",
       "            oob_score=False, random_state=None, verbose=0,\n",
       "            warm_start=False)"
      ]
     },
     "execution_count": 36,
     "metadata": {},
     "output_type": "execute_result"
    }
   ],
   "source": [
    "rf_clf = RandomForestClassifier()\n",
    "rf_clf.fit(X_train, y_train)"
   ]
  },
  {
   "cell_type": "code",
   "execution_count": 37,
   "metadata": {
    "scrolled": true
   },
   "outputs": [
    {
     "name": "stdout",
     "output_type": "stream",
     "text": [
      "-----Training----- \n",
      "\n",
      "Train Accuracy:  0.998719321939\n",
      "Train Recall:  0.7533632287\n",
      "Train Confusion Matrix\n",
      "       0    1\n",
      "0  85446    0\n",
      "1    110  336 \n",
      "\n",
      "-----Validation----- \n",
      "\n",
      "Test Accuracy:  0.994326428289\n",
      "Test Recall:  0.0\n",
      "Test Confusion Matrix\n",
      "       0  1\n",
      "0  15072  0\n",
      "1     86  0\n"
     ]
    }
   ],
   "source": [
    "evaluate(rf_clf)"
   ]
  },
  {
   "cell_type": "markdown",
   "metadata": {},
   "source": [
    "## XGBoost"
   ]
  },
  {
   "cell_type": "code",
   "execution_count": 38,
   "metadata": {},
   "outputs": [
    {
     "data": {
      "text/plain": [
       "XGBClassifier(base_score=0.5, booster='gbtree', colsample_bylevel=1,\n",
       "       colsample_bytree=1, gamma=0, learning_rate=0.1, max_delta_step=0,\n",
       "       max_depth=3, min_child_weight=1, missing=None, n_estimators=100,\n",
       "       n_jobs=1, nthread=None, objective='binary:logistic', random_state=0,\n",
       "       reg_alpha=0, reg_lambda=1, scale_pos_weight=1, seed=None,\n",
       "       silent=True, subsample=1)"
      ]
     },
     "execution_count": 38,
     "metadata": {},
     "output_type": "execute_result"
    }
   ],
   "source": [
    "xgb = XGBClassifier()\n",
    "xgb.fit(X_train, y_train)"
   ]
  },
  {
   "cell_type": "code",
   "execution_count": 39,
   "metadata": {},
   "outputs": [
    {
     "name": "stdout",
     "output_type": "stream",
     "text": [
      "-----Training----- \n",
      "\n",
      "Train Accuracy:  0.994830717645\n",
      "Train Recall:  0.0067264573991\n",
      "Train Confusion Matrix\n",
      "       0  1\n",
      "0  85445  1\n",
      "1    443  3 \n",
      "\n",
      "-----Validation----- \n",
      "\n",
      "Test Accuracy:  0.994326428289\n",
      "Test Recall:  0.0\n",
      "Test Confusion Matrix\n",
      "       0  1\n",
      "0  15072  0\n",
      "1     86  0\n"
     ]
    }
   ],
   "source": [
    "evaluate(xgb)"
   ]
  },
  {
   "cell_type": "markdown",
   "metadata": {},
   "source": [
    "# GradientBoostingClassifier"
   ]
  },
  {
   "cell_type": "code",
   "execution_count": 40,
   "metadata": {},
   "outputs": [
    {
     "data": {
      "text/plain": [
       "GradientBoostingClassifier(criterion='friedman_mse', init=None,\n",
       "              learning_rate=0.1, loss='deviance', max_depth=3,\n",
       "              max_features=None, max_leaf_nodes=None,\n",
       "              min_impurity_decrease=0.0, min_impurity_split=None,\n",
       "              min_samples_leaf=1, min_samples_split=2,\n",
       "              min_weight_fraction_leaf=0.0, n_estimators=100,\n",
       "              presort='auto', random_state=None, subsample=1.0, verbose=0,\n",
       "              warm_start=False)"
      ]
     },
     "execution_count": 40,
     "metadata": {},
     "output_type": "execute_result"
    }
   ],
   "source": [
    "gbc_clf = GradientBoostingClassifier()\n",
    "gbc_clf.fit(X_train, y_train)"
   ]
  },
  {
   "cell_type": "code",
   "execution_count": 41,
   "metadata": {},
   "outputs": [
    {
     "name": "stdout",
     "output_type": "stream",
     "text": [
      "-----Training----- \n",
      "\n",
      "Train Accuracy:  0.995354631398\n",
      "Train Recall:  0.12331838565\n",
      "Train Confusion Matrix\n",
      "       0   1\n",
      "0  85438   8\n",
      "1    391  55 \n",
      "\n",
      "-----Validation----- \n",
      "\n",
      "Test Accuracy:  0.99386462594\n",
      "Test Recall:  0.0116279069767\n",
      "Test Confusion Matrix\n",
      "       0  1\n",
      "0  15064  8\n",
      "1     85  1\n"
     ]
    }
   ],
   "source": [
    "evaluate(gbc_clf)"
   ]
  },
  {
   "cell_type": "markdown",
   "metadata": {},
   "source": [
    "## Hyper Parameter Optimization for GradientBoostingClassifier"
   ]
  },
  {
   "cell_type": "code",
   "execution_count": 42,
   "metadata": {
    "collapsed": true
   },
   "outputs": [],
   "source": [
    "parameters = {'learning_rate' : np.logspace(-2,0,num=3),\n",
    "              'n_estimators': [100, 200, 250], \n",
    "              'max_depth':[3,5,7], \n",
    "              'max_features': ['auto', 'sqrt']}"
   ]
  },
  {
   "cell_type": "code",
   "execution_count": 43,
   "metadata": {},
   "outputs": [
    {
     "name": "stdout",
     "output_type": "stream",
     "text": [
      "{'n_estimators': 200, 'max_features': 'sqrt', 'max_depth': 7, 'learning_rate': 1.0}\n",
      "Accuracy: 0.291327357269\n",
      "Error: 0.708672642731\n"
     ]
    }
   ],
   "source": [
    "gbc = GradientBoostingClassifier()\n",
    "opt_gbc = RandomizedSearchCV(gbc, parameters, n_jobs = -1, scoring= 'recall', n_iter=9)\n",
    "opt_gbc.fit(X_train,y_train)\n",
    "print(opt_gbc.best_params_)\n",
    "print(\"Accuracy:\", opt_gbc.best_score_)\n",
    "print(\"Error:\", 1- opt_gbc.best_score_)"
   ]
  },
  {
   "cell_type": "code",
   "execution_count": 46,
   "metadata": {},
   "outputs": [
    {
     "data": {
      "text/plain": [
       "GradientBoostingClassifier(criterion='friedman_mse', init=None,\n",
       "              learning_rate=1, loss='deviance', max_depth=7,\n",
       "              max_features=None, max_leaf_nodes=None,\n",
       "              min_impurity_decrease=0.0, min_impurity_split=None,\n",
       "              min_samples_leaf=1, min_samples_split=2,\n",
       "              min_weight_fraction_leaf=0.0, n_estimators=200,\n",
       "              presort='auto', random_state=None, subsample=1.0, verbose=0,\n",
       "              warm_start=False)"
      ]
     },
     "execution_count": 46,
     "metadata": {},
     "output_type": "execute_result"
    }
   ],
   "source": [
    "gbc_clf = GradientBoostingClassifier(n_estimators = 200, max_depth = 7, learning_rate = 1)\n",
    "gbc_clf.fit(X_train, y_train)"
   ]
  },
  {
   "cell_type": "code",
   "execution_count": 47,
   "metadata": {},
   "outputs": [
    {
     "name": "stdout",
     "output_type": "stream",
     "text": [
      "-----Training----- \n",
      "\n",
      "Train Accuracy:  0.992327574163\n",
      "Train Recall:  0.495515695067\n",
      "Train Confusion Matrix\n",
      "       0    1\n",
      "0  85012  434\n",
      "1    225  221 \n",
      "\n",
      "-----Validation----- \n",
      "\n",
      "Test Accuracy:  0.987069534239\n",
      "Test Recall:  0.0813953488372\n",
      "Test Confusion Matrix\n",
      "       0    1\n",
      "0  14955  117\n",
      "1     79    7\n"
     ]
    }
   ],
   "source": [
    "evaluate(gbc_clf)"
   ]
  },
  {
   "cell_type": "markdown",
   "metadata": {},
   "source": [
    "## Feature Selection "
   ]
  },
  {
   "cell_type": "markdown",
   "metadata": {},
   "source": [
    "#### Using Extra trees classifier and L1 for feature selection"
   ]
  },
  {
   "cell_type": "code",
   "execution_count": 48,
   "metadata": {},
   "outputs": [
    {
     "data": {
      "text/plain": [
       "Pipeline(memory=None,\n",
       "     steps=[('feature_selection', SelectFromModel(estimator=ExtraTreesClassifier(bootstrap=False, class_weight=None, criterion='gini',\n",
       "           max_depth=None, max_features='auto', max_leaf_nodes=None,\n",
       "           min_impurity_decrease=0.0, min_impurity_split=None,\n",
       "           min_samples_leaf=1, min_sam...      presort='auto', random_state=None, subsample=1.0, verbose=0,\n",
       "              warm_start=False))])"
      ]
     },
     "execution_count": 48,
     "metadata": {},
     "output_type": "execute_result"
    }
   ],
   "source": [
    "clf_pipeline = Pipeline([\n",
    "  ('feature_selection', SelectFromModel(ExtraTreesClassifier(n_estimators=250, random_state=7))),\n",
    "  ('classification', GradientBoostingClassifier(n_estimators = 200, max_depth = 7, learning_rate = 1))\n",
    "])\n",
    "clf_pipeline.fit(X_train, y_train)"
   ]
  },
  {
   "cell_type": "code",
   "execution_count": 49,
   "metadata": {},
   "outputs": [
    {
     "name": "stdout",
     "output_type": "stream",
     "text": [
      "-----Training----- \n",
      "\n",
      "Train Accuracy:  0.986331672333\n",
      "Train Recall:  0.423766816143\n",
      "Train Confusion Matrix\n",
      "       0    1\n",
      "0  84529  917\n",
      "1    257  189 \n",
      "\n",
      "-----Validation----- \n",
      "\n",
      "Test Accuracy:  0.981857764877\n",
      "Test Recall:  0.0813953488372\n",
      "Test Confusion Matrix\n",
      "       0    1\n",
      "0  14876  196\n",
      "1     79    7\n"
     ]
    }
   ],
   "source": [
    "evaluate(clf_pipeline)"
   ]
  },
  {
   "cell_type": "markdown",
   "metadata": {},
   "source": [
    "#### Using LinearSVC and L1 for feature selection"
   ]
  },
  {
   "cell_type": "code",
   "execution_count": 50,
   "metadata": {},
   "outputs": [
    {
     "data": {
      "text/plain": [
       "Pipeline(memory=None,\n",
       "     steps=[('feature_selection', SelectFromModel(estimator=LinearSVC(C=1.0, class_weight=None, dual=False, fit_intercept=True,\n",
       "     intercept_scaling=1, loss='squared_hinge', max_iter=1000,\n",
       "     multi_class='ovr', penalty='l1', random_state=None, tol=0.0001,\n",
       "     verbose=0),\n",
       "        norm_order=1, prefit...      presort='auto', random_state=None, subsample=1.0, verbose=0,\n",
       "              warm_start=False))])"
      ]
     },
     "execution_count": 50,
     "metadata": {},
     "output_type": "execute_result"
    }
   ],
   "source": [
    "svc_pipeline = Pipeline([\n",
    "  ('feature_selection', SelectFromModel(LinearSVC(penalty=\"l1\", dual = False))),\n",
    "  ('classification', GradientBoostingClassifier(n_estimators = 200, max_depth = 7, learning_rate = 1))\n",
    "])\n",
    "svc_pipeline.fit(X_train, y_train)"
   ]
  },
  {
   "cell_type": "code",
   "execution_count": 51,
   "metadata": {},
   "outputs": [
    {
     "name": "stdout",
     "output_type": "stream",
     "text": [
      "-----Training----- \n",
      "\n",
      "Train Accuracy:  0.994993713035\n",
      "Train Recall:  0.237668161435\n",
      "Train Confusion Matrix\n",
      "       0    1\n",
      "0  85356   90\n",
      "1    340  106 \n",
      "\n",
      "-----Validation----- \n",
      "\n",
      "Test Accuracy:  0.991291727141\n",
      "Test Recall:  0.0348837209302\n",
      "Test Confusion Matrix\n",
      "       0   1\n",
      "0  15023  49\n",
      "1     83   3\n"
     ]
    }
   ],
   "source": [
    "evaluate(svc_pipeline)"
   ]
  },
  {
   "cell_type": "markdown",
   "metadata": {},
   "source": [
    "#### Using Logistic Regression and L1 for feature selection"
   ]
  },
  {
   "cell_type": "code",
   "execution_count": 52,
   "metadata": {},
   "outputs": [
    {
     "data": {
      "text/plain": [
       "Pipeline(memory=None,\n",
       "     steps=[('feature_selection', SelectFromModel(estimator=LogisticRegression(C=1.0, class_weight=None, dual=False, fit_intercept=True,\n",
       "          intercept_scaling=1, max_iter=100, multi_class='ovr', n_jobs=1,\n",
       "          penalty='l1', random_state=None, solver='liblinear', tol=0.0001,\n",
       "          verbose=0...      presort='auto', random_state=None, subsample=1.0, verbose=0,\n",
       "              warm_start=False))])"
      ]
     },
     "execution_count": 52,
     "metadata": {},
     "output_type": "execute_result"
    }
   ],
   "source": [
    "lr_pipeline = Pipeline([\n",
    "  ('feature_selection', SelectFromModel(LogisticRegression(penalty=\"l1\"))),\n",
    "  ('classification', GradientBoostingClassifier(n_estimators = 200, max_depth = 7, learning_rate = 1))\n",
    "])\n",
    "lr_pipeline.fit(X_train, y_train)"
   ]
  },
  {
   "cell_type": "code",
   "execution_count": 53,
   "metadata": {},
   "outputs": [
    {
     "name": "stdout",
     "output_type": "stream",
     "text": [
      "-----Training----- \n",
      "\n",
      "Train Accuracy:  0.990266846738\n",
      "Train Recall:  0.242152466368\n",
      "Train Confusion Matrix\n",
      "       0    1\n",
      "0  84948  498\n",
      "1    338  108 \n",
      "\n",
      "-----Validation----- \n",
      "\n",
      "Test Accuracy:  0.987597308352\n",
      "Test Recall:  0.0581395348837\n",
      "Test Confusion Matrix\n",
      "       0    1\n",
      "0  14965  107\n",
      "1     81    5\n"
     ]
    }
   ],
   "source": [
    "evaluate(lr_pipeline)"
   ]
  },
  {
   "cell_type": "markdown",
   "metadata": {},
   "source": [
    "# Test scores for the final model"
   ]
  },
  {
   "cell_type": "code",
   "execution_count": 54,
   "metadata": {
    "scrolled": false
   },
   "outputs": [
    {
     "name": "stdout",
     "output_type": "stream",
     "text": [
      "-----Testing----- \n",
      "\n",
      "Train Accuracy:  0.981943587731\n",
      "Test Recall:  0.118811881188\n",
      "Test Confusion Matrix\n",
      "       0    1\n",
      "0  17499  233\n",
      "1     89   12 \n",
      "\n"
     ]
    }
   ],
   "source": [
    "evaluate_test(clf_pipeline)"
   ]
  },
  {
   "cell_type": "code",
   "execution_count": 55,
   "metadata": {},
   "outputs": [
    {
     "data": {
      "text/plain": [
       "0.7065174459436212"
      ]
     },
     "execution_count": 55,
     "metadata": {},
     "output_type": "execute_result"
    }
   ],
   "source": [
    "roc_auc_score(y_score=clf_pipeline.predict(X_train), y_true=y_train)"
   ]
  },
  {
   "cell_type": "markdown",
   "metadata": {},
   "source": [
    "## Saving final model"
   ]
  },
  {
   "cell_type": "code",
   "execution_count": 56,
   "metadata": {
    "collapsed": true
   },
   "outputs": [],
   "source": [
    "save_classifier = open(\"task1v2_model.pickle\", \"wb\")\n",
    "pickle.dump(clf_pipeline, save_classifier)\n",
    "save_classifier.close()"
   ]
  },
  {
   "cell_type": "markdown",
   "metadata": {},
   "source": [
    "# Experimenting with Imbalanced-learn"
   ]
  },
  {
   "cell_type": "code",
   "execution_count": 57,
   "metadata": {
    "collapsed": true
   },
   "outputs": [],
   "source": [
    "from imblearn import over_sampling as os"
   ]
  },
  {
   "cell_type": "code",
   "execution_count": 60,
   "metadata": {
    "collapsed": true
   },
   "outputs": [],
   "source": [
    "from imblearn import pipeline as pl"
   ]
  },
  {
   "cell_type": "code",
   "execution_count": 61,
   "metadata": {
    "collapsed": true
   },
   "outputs": [],
   "source": [
    "pipeline = pl.make_pipeline(os.SMOTE(random_state=7),\n",
    "                            GradientBoostingClassifier(n_estimators = 200, max_depth = 7, learning_rate = 1))"
   ]
  },
  {
   "cell_type": "code",
   "execution_count": 62,
   "metadata": {},
   "outputs": [
    {
     "data": {
      "text/plain": [
       "Pipeline(memory=None,\n",
       "     steps=[('smote', SMOTE(k=None, k_neighbors=5, kind='regular', m=None, m_neighbors=10, n_jobs=1,\n",
       "   out_step=0.5, random_state=7, ratio='auto', svm_estimator=None)), ('gradientboostingclassifier', GradientBoostingClassifier(criterion='friedman_mse', init=None,\n",
       "              learning_rate=1, loss='dev...      presort='auto', random_state=None, subsample=1.0, verbose=0,\n",
       "              warm_start=False))])"
      ]
     },
     "execution_count": 62,
     "metadata": {},
     "output_type": "execute_result"
    }
   ],
   "source": [
    "pipeline.fit(X_train, y_train)"
   ]
  },
  {
   "cell_type": "code",
   "execution_count": 63,
   "metadata": {},
   "outputs": [
    {
     "name": "stdout",
     "output_type": "stream",
     "text": [
      "-----Training----- \n",
      "\n",
      "Train Accuracy:  0.999988357472\n",
      "Train Recall:  1.0\n",
      "Train Confusion Matrix\n",
      "       0    1\n",
      "0  85445    1\n",
      "1      0  446 \n",
      "\n",
      "-----Validation----- \n",
      "\n",
      "Test Accuracy:  0.991621585961\n",
      "Test Recall:  0.0348837209302\n",
      "Test Confusion Matrix\n",
      "       0   1\n",
      "0  15028  44\n",
      "1     83   3\n"
     ]
    }
   ],
   "source": [
    "evaluate(pipeline)"
   ]
  },
  {
   "cell_type": "code",
   "execution_count": 65,
   "metadata": {},
   "outputs": [],
   "source": [
    "from imblearn.over_sampling import SMOTE, ADASYN\n",
    "X_resampled, y_resampled = SMOTE().fit_sample(X_imp, y)"
   ]
  },
  {
   "cell_type": "code",
   "execution_count": null,
   "metadata": {
    "collapsed": true
   },
   "outputs": [],
   "source": [
    "X_resampledsampled.shape"
   ]
  },
  {
   "cell_type": "code",
   "execution_count": 66,
   "metadata": {
    "collapsed": true
   },
   "outputs": [],
   "source": [
    "# Train test split\n",
    "X_train, X_test, y_train, y_test = train_test_split(X_resampled, y_resampled, test_size=0.15, random_state=7)\n",
    "\n",
    "# Train validation split\n",
    "X_train, X_val, y_train, y_val = train_test_split(X_train, y_train, test_size=0.15, random_state=7)"
   ]
  },
  {
   "cell_type": "code",
   "execution_count": 67,
   "metadata": {},
   "outputs": [
    {
     "data": {
      "text/plain": [
       "Pipeline(memory=None,\n",
       "     steps=[('feature_selection', SelectFromModel(estimator=LogisticRegression(C=1.0, class_weight=None, dual=False, fit_intercept=True,\n",
       "          intercept_scaling=1, max_iter=100, multi_class='ovr', n_jobs=1,\n",
       "          penalty='l1', random_state=None, solver='liblinear', tol=0.0001,\n",
       "          verbose=0...      presort='auto', random_state=None, subsample=1.0, verbose=0,\n",
       "              warm_start=False))])"
      ]
     },
     "execution_count": 67,
     "metadata": {},
     "output_type": "execute_result"
    }
   ],
   "source": [
    "lr_pipeline = Pipeline([\n",
    "  ('feature_selection', SelectFromModel(LogisticRegression(penalty=\"l1\"))),\n",
    "  ('classification', GradientBoostingClassifier(n_estimators = 200, max_depth = 7, learning_rate = 1))\n",
    "])\n",
    "lr_pipeline.fit(X_train, y_train)"
   ]
  },
  {
   "cell_type": "code",
   "execution_count": 68,
   "metadata": {},
   "outputs": [
    {
     "name": "stdout",
     "output_type": "stream",
     "text": [
      "-----Training----- \n",
      "\n",
      "Train Accuracy:  0.999982442896\n",
      "Train Recall:  1.0\n",
      "Train Confusion Matrix\n",
      "       0      1\n",
      "0  85517      3\n",
      "1      0  85351 \n",
      "\n",
      "-----Validation----- \n",
      "\n",
      "Test Accuracy:  0.995556145122\n",
      "Test Recall:  0.99621965778\n",
      "Test Confusion Matrix\n",
      "       0      1\n",
      "0  14999     77\n",
      "1     57  15021\n"
     ]
    }
   ],
   "source": [
    "evaluate(lr_pipeline)"
   ]
  },
  {
   "cell_type": "markdown",
   "metadata": {},
   "source": [
    "# Design Decisions for Task 1\n",
    "\n",
    "1. Encode the categorical variables using MAP as sklearn cannot handle categorical variables.\n",
    "2. Impute the missing categorical and continuous variables using sklearn Imputer as sklearn cannot handle missing values.\n",
    "3. Use sklearn train_test_split to divide the data into train, validation and test to ensure to there is overfitting and to avoid optimization bias.\n",
    "4. Try different classification models & identify the best performing model.\n",
    "5. Perform hyperparameter optimzation to tune the best performing model. The best model was selected for task1 is GradientBoostingClassifier.\n",
    "6. Perform feature selection using the optimized model and sklearn pipeline.\n"
   ]
  },
  {
   "cell_type": "code",
   "execution_count": null,
   "metadata": {
    "collapsed": true
   },
   "outputs": [],
   "source": []
  }
 ],
 "metadata": {
  "kernelspec": {
   "display_name": "Python 3",
   "language": "python",
   "name": "python3"
  },
  "language_info": {
   "codemirror_mode": {
    "name": "ipython",
    "version": 3
   },
   "file_extension": ".py",
   "mimetype": "text/x-python",
   "name": "python",
   "nbconvert_exporter": "python",
   "pygments_lexer": "ipython3",
   "version": "3.6.3"
  }
 },
 "nbformat": 4,
 "nbformat_minor": 2
}
